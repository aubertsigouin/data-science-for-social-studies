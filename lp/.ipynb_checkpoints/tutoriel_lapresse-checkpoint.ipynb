{
 "cells": [
  {
   "cell_type": "markdown",
   "metadata": {},
   "source": [
    "# <span style=\"color: black; font-family: Babas Neue; font-size: 3em;\">Tutoriel 1.0</span>\n",
    "<hr height=\"3\" style=\"color:purple;background-color:purple;\"></hr>\n",
    "<span style=\"color: black; font-family: Babas Neue; font-size: 1em;\">Extraction d'articles depuis les archives de La Presse</span>\n",
    "\n",
    "<br>\n",
    "<div style=\"text-align: justify\"> <span style=\"color: black; font-family: Babas Neue; font-size: 1em;\">&nbsp;&nbsp;&nbsp;&nbsp;&nbsp;&nbsp;\n",
    "**Bienvenue à notre premier tutoriel!** Nous travaillerons ici sur un script qui nous permettra de parcourir les archives du quotidien La Presse. Nous avons choisi La Presse pour notre tutoriel car ses archives respectent une forme standard, ce qui permet au code d'être facilement repensé pour un autre projet d'extraction de données. <br><br>\n",
    "\n",
    "&nbsp;&nbsp;&nbsp;&nbsp;&nbsp;&nbsp;\n",
    "Pour mener à bien ce projet, nous utiliserons le langage python à l'intérieur de l'environnement Anaconda. [Anaconda](https://www.continuum.io/downloads) est un écosystème d'applications, de paquets et de modules pour les sciences des données. Il est fort probable que ce que vous recherchez soit contenu dans l'environnement Anaconda de base, mais, au besoin, il est toujours possible d'installer manuellement un module ou une application.\n",
    "<br><br>\n",
    "&nbsp;&nbsp;&nbsp;&nbsp;&nbsp;&nbsp;Si vous souhaitez exécuter les codes par vous-même et explorer, veuillez installer la suite Anaconda pour python 3.6. Sinon, vous pouvez aussi lire ce fichier - sans l'exécuter - comme une sorte de rapport, car j'y ai intégré des commentaires ainsi que les résultats des scripts.\n",
    "</span></div>\n",
    "\n",
    "> <div style=\"text-align: justify\"> <span style=\"color: black; font-family: Babas Neue; font-size: 1em;\">&nbsp;&nbsp;&nbsp;&nbsp;&nbsp;&nbsp;\n",
    "Pour notre projet, nous utiliserons les modules suivant (venant par défaut avec l'environnement anaconda)<br><br>\n",
    "- [urllib.request](https://docs.python.org/3/library/urllib.request.html) (Pour envoyer les requêtes URL)<br>\n",
    "- [BeautifulSoup4](https://www.crummy.com/software/BeautifulSoup/bs4/doc/) (Abbrévié 'bs4'. Sert à traiter le contenu URL)<br>\n",
    "- [pandas](https://pandas.pydata.org/pandas-docs/stable/10min.html) (Analyse de bases de données en langage python. L'équivalent d'Excel en ligne de commande. Utilisé pour toute les manipulations de bases de données)<br>\n",
    "- [numpy](http://www.numpy.org/) (Programmation scientifique. Pandas est construit par-dessus l'infrastructure de NumPy, mais ce dernier contient beaucoup de fonctions et algorithmes qui lui sont propres.)\n",
    "</span></div>\n",
    "\n",
    "> <div style=\"text-align: justify\"> <span style=\"color: black; font-family: Babas Neue; font-size: 1em;\">&nbsp;&nbsp;&nbsp;&nbsp;&nbsp;&nbsp;\n",
    "De plus, nous utiliserons le module [newspaper](http://newspaper.readthedocs.io/en/latest/), développé en open-source par Lucas Ou-Yang. Celui-ci ne fait pas parti de l'écosystème Anaconda, nous devrons donc l'installer manuellement. Nous pourrions créer un script de *data mining* sans utiliser le module newspaper, mais celui-ci va nous sauver du temps et alléger le processus de codage. <br><br>"
   ]
  },
  {
   "cell_type": "markdown",
   "metadata": {},
   "source": [
    "<div style=\"text-align: justify\"> <span style=\"color: black; font-family: Babas Neue; font-size: 1em;\"> Voici les grandes étapes de notre extraction :<br><br>1) Générer une liste de dates. Dans notre cas, il s'agit des jours entre le 1er décembre 2012 et la dernière journée de juin 2013. <br>2) Générer, par une boucle, une liste de liens vers les archives. Pour se faire, nous partirons de la racine des archives et nous allons ajouter les extensions pour chaque journée. <br> 3) Générer, à partir de cette liste, une autre liste contenant, elle, liens vers les articles. <br> 4) Interroger les articles et en extraire le contenu lorsque désiré. C'est ici que nous utiliserons le module newspaper. <br><br><br>***Afficher la version de la suite anaconda***</span></div>"
   ]
  },
  {
   "cell_type": "markdown",
   "metadata": {},
   "source": [
    "###### <span style=\"color: black; font-family: Babas Neue; font-size: 2em;\">0.0 Exemple</span>"
   ]
  },
  {
   "cell_type": "markdown",
   "metadata": {},
   "source": [
    "<div style=\"text-align: justify\"> <span style=\"color: black; font-family: Babas Neue; font-size: 1em;\"> Ce document contient des zones de texte (comme ici), des zones de script (vous pouvez les voir avec une invite de commande 'In [x]') situé sur la gauche. La réponse (*output*) du script figure en bas des zones de script.<br><br><br>***Afficher la version de la suite anaconda*** (ZONE DE TEXTE)</span></div>"
   ]
  },
  {
   "cell_type": "code",
   "execution_count": 7,
   "metadata": {
    "collapsed": false,
    "scrolled": true
   },
   "outputs": [
    {
     "name": "stdout",
     "output_type": "stream",
     "text": [
      "conda 4.3.23\r\n"
     ]
    }
   ],
   "source": [
    "!conda --version # ZONE DE SCRIPT"
   ]
  },
  {
   "cell_type": "markdown",
   "metadata": {},
   "source": [
    "<div style=\"text-align: justify\"> <span style=\"color: black; font-family: Babas Neue; font-size: 1em;\"><br>Dans la zone de script, les mots suivis par un # sont des commentaires pour vous aider à comprendre. Ils n'ont aucun effet sur votre code<br><br>*** Afficher le résultat d'une équation***</span></div>"
   ]
  },
  {
   "cell_type": "code",
   "execution_count": 8,
   "metadata": {
    "collapsed": false,
    "scrolled": false
   },
   "outputs": [
    {
     "name": "stdout",
     "output_type": "stream",
     "text": [
      "21.66666666666667\n"
     ]
    }
   ],
   "source": [
    "x = 10                        # Créer une variable 'x' avec le nombre entier 10 comme valeur\n",
    "equation_ex = x*(4+1/(2*3)-2) # Les opérateurs mathématiques sont semblables (* = multi, / = div)\n",
    "print (equation_ex)           # Afficher la variable 'equation_ex', dont la valeur est le résultat de l'équation"
   ]
  },
  {
   "cell_type": "markdown",
   "metadata": {},
   "source": [
    "###### <span style=\"color: black; font-family: Babas Neue; font-size: 2em;\">1. Importation</span>"
   ]
  },
  {
   "cell_type": "markdown",
   "metadata": {},
   "source": [
    "<div style=\"text-align: justify\"> <span style=\"color: black; font-family: Babas Neue; font-size: 1em;\"> Pour commencer, nous allons importer les modules que nous avons déjà dans l'environnement Anaconda, puis installer le module newspaper.<br><br><br>***1.1 Importation des modules***</span></div>"
   ]
  },
  {
   "cell_type": "code",
   "execution_count": 9,
   "metadata": {
    "collapsed": true,
    "scrolled": false
   },
   "outputs": [],
   "source": [
    "import urllib.request\n",
    "import bs4\n",
    "import numpy as np  # 'as' signifie que que nous allons abbrévier le nom, puisque ce sont des modules souvent utilisés\n",
    "import pandas as pd # Avant : pandas.DataFrame(...), Maintenant : pd.DataFrame(...)"
   ]
  },
  {
   "cell_type": "markdown",
   "metadata": {},
   "source": [
    "<div style=\"text-align: justify\"> <span style=\"color: black; font-family: Babas Neue; font-size: 1em;\"><br>*** 1.2.1 Installer newspaper (exécuter dans un shell ou terminal) ***</span></div>\n"
   ]
  },
  {
   "cell_type": "code",
   "execution_count": 10,
   "metadata": {
    "collapsed": false,
    "scrolled": true
   },
   "outputs": [
    {
     "name": "stdout",
     "output_type": "stream",
     "text": [
      "Requirement already satisfied: newspaper3k in /home/maison/anaconda3/lib/python3.6/site-packages\n",
      "Requirement already satisfied: cssselect>=0.9.2 in /home/maison/anaconda3/lib/python3.6/site-packages (from newspaper3k)\n",
      "Requirement already satisfied: lxml>=3.6.0 in /home/maison/anaconda3/lib/python3.6/site-packages (from newspaper3k)\n",
      "Requirement already satisfied: requests>=2.10.0 in /home/maison/anaconda3/lib/python3.6/site-packages (from newspaper3k)\n",
      "Requirement already satisfied: feedparser>=5.2.1 in /home/maison/anaconda3/lib/python3.6/site-packages (from newspaper3k)\n",
      "Requirement already satisfied: PyYAML>=3.11 in /home/maison/anaconda3/lib/python3.6/site-packages (from newspaper3k)\n",
      "Requirement already satisfied: feedfinder2>=0.0.4 in /home/maison/anaconda3/lib/python3.6/site-packages (from newspaper3k)\n",
      "Requirement already satisfied: beautifulsoup4>=4.4.1 in /home/maison/anaconda3/lib/python3.6/site-packages (from newspaper3k)\n",
      "Requirement already satisfied: Pillow>=3.3.0 in /home/maison/anaconda3/lib/python3.6/site-packages (from newspaper3k)\n",
      "Requirement already satisfied: tldextract>=2.0.1 in /home/maison/anaconda3/lib/python3.6/site-packages (from newspaper3k)\n",
      "Requirement already satisfied: python-dateutil>=2.5.3 in /home/maison/anaconda3/lib/python3.6/site-packages (from newspaper3k)\n",
      "Requirement already satisfied: nltk>=3.2.1 in /home/maison/anaconda3/lib/python3.6/site-packages (from newspaper3k)\n",
      "Requirement already satisfied: jieba3k>=0.35.1 in /home/maison/anaconda3/lib/python3.6/site-packages (from newspaper3k)\n",
      "Requirement already satisfied: certifi>=2017.4.17 in /home/maison/anaconda3/lib/python3.6/site-packages (from requests>=2.10.0->newspaper3k)\n",
      "Requirement already satisfied: urllib3<1.22,>=1.21.1 in /home/maison/anaconda3/lib/python3.6/site-packages (from requests>=2.10.0->newspaper3k)\n",
      "Requirement already satisfied: chardet<3.1.0,>=3.0.2 in /home/maison/anaconda3/lib/python3.6/site-packages (from requests>=2.10.0->newspaper3k)\n",
      "Requirement already satisfied: idna<2.6,>=2.5 in /home/maison/anaconda3/lib/python3.6/site-packages (from requests>=2.10.0->newspaper3k)\n",
      "Requirement already satisfied: six in /home/maison/anaconda3/lib/python3.6/site-packages (from feedfinder2>=0.0.4->newspaper3k)\n",
      "Requirement already satisfied: olefile in /home/maison/anaconda3/lib/python3.6/site-packages (from Pillow>=3.3.0->newspaper3k)\n",
      "Requirement already satisfied: requests-file>=1.4 in /home/maison/anaconda3/lib/python3.6/site-packages (from tldextract>=2.0.1->newspaper3k)\n",
      "Requirement already satisfied: setuptools in /home/maison/anaconda3/lib/python3.6/site-packages/setuptools-27.2.0-py3.6.egg (from tldextract>=2.0.1->newspaper3k)\n"
     ]
    }
   ],
   "source": [
    "!pip install newspaper3k"
   ]
  },
  {
   "cell_type": "markdown",
   "metadata": {},
   "source": [
    "<div style=\"text-align: justify\"> <span style=\"color: black; font-family: Babas Neue; font-size: 1em;\"> Comme j'ai déjà installé le module manuellement, la machine me répond que les exigences sont déjà satisfaites."
   ]
  },
  {
   "cell_type": "markdown",
   "metadata": {},
   "source": [
    "<div style=\"text-align: justify\"> <span style=\"color: black; font-family: Babas Neue; font-size: 1em;\"><br>*** 1.2.2 Importer newspaper***</span></div>\n"
   ]
  },
  {
   "cell_type": "code",
   "execution_count": 11,
   "metadata": {
    "collapsed": true,
    "scrolled": false
   },
   "outputs": [],
   "source": [
    "import newspaper"
   ]
  },
  {
   "cell_type": "markdown",
   "metadata": {},
   "source": [
    "###### <span style=\"color: black; font-family: Babas Neue; font-size: 2em;\">2. Création d'une liste de date</span>"
   ]
  },
  {
   "cell_type": "markdown",
   "metadata": {},
   "source": [
    "<div style=\"text-align: justify\"> <span style=\"color: black; font-family: Babas Neue; font-size: 1em;\"> Nous allons  générer une liste des dates qui couvrent notre étude. Nous le faisons pour plusieurs raisons, notamment parce que les addresses URL de La Presse intègrent les dates et parce que, de toute façon, nous allons entrer la donnée 'DATE' dans la base de données que nous allons créer. Elle sera déjà faite. <br><br><br>***2.1 Génération d'une liste de date avec numpy (np) et pandas (pd)***</span></div>"
   ]
  },
  {
   "cell_type": "code",
   "execution_count": 12,
   "metadata": {
    "collapsed": false,
    "scrolled": false
   },
   "outputs": [
    {
     "name": "stdout",
     "output_type": "stream",
     "text": [
      "DatetimeIndex(['2012-12-01', '2012-12-02', '2012-12-03', '2012-12-04',\n",
      "               '2012-12-05', '2012-12-06', '2012-12-07', '2012-12-08',\n",
      "               '2012-12-09', '2012-12-10',\n",
      "               ...\n",
      "               '2013-06-21', '2013-06-22', '2013-06-23', '2013-06-24',\n",
      "               '2013-06-25', '2013-06-26', '2013-06-27', '2013-06-28',\n",
      "               '2013-06-29', '2013-06-30'],\n",
      "              dtype='datetime64[ns]', length=212, freq=None)\n"
     ]
    }
   ],
   "source": [
    "array_of_time = pd.to_datetime(np.arange('2012-12-01', '2013-07-01', dtype='datetime64[D]'))\n",
    "print (array_of_time)"
   ]
  },
  {
   "cell_type": "markdown",
   "metadata": {},
   "source": [
    "<div style=\"text-align: justify\"> <span style=\"color: black; font-family: Babas Neue; font-size: 1em;\"> Les '...' que vous voyez dans la réponse signifient que vous ne voyez pas l'entièreté de la liste. On peut constater, à cette fin, que la liste contient 212 entrées, ce qui est exact si l'on souhaite lister les jours du 1er décembre 2012 à la dernière journée de juin 2013 inclusivement. <br><br> Non seulement nous avons dressé rapidement une liste, mais nous avons également formatté les données pour qu'elles soient perçues comme un objet de type 'date' plutôt que comme une chaîne de caractères normale, (Comme 'Roger'). Ces données contiennent donc maintenant des attributs propres aux dates."
   ]
  },
  {
   "cell_type": "code",
   "execution_count": 13,
   "metadata": {
    "collapsed": false,
    "scrolled": false
   },
   "outputs": [
    {
     "name": "stdout",
     "output_type": "stream",
     "text": [
      "2012-12-01 00:00:00\n",
      "2012-12-01 00:00:00\n"
     ]
    }
   ],
   "source": [
    "print (array_of_time[0]) # Imprimer la première donnée de notre liste de date (liste[index])\n",
    "print ('2012-12-01 00:00:00') # Imprimer une chaîne de caractères standard qui semble identique"
   ]
  },
  {
   "cell_type": "code",
   "execution_count": 14,
   "metadata": {
    "collapsed": false,
    "scrolled": false
   },
   "outputs": [
    {
     "name": "stdout",
     "output_type": "stream",
     "text": [
      "2012\n",
      "1\n",
      "12\n",
      "Saturday\n",
      ".. Il existe beaucoup plus de fonctions! ..\n"
     ]
    }
   ],
   "source": [
    "print (array_of_time[0].year) # Imprimer des attributs de classe 'DATE' avec notre variable formaté\n",
    "print (array_of_time[0].day) \n",
    "print (array_of_time[0].month) \n",
    "print (array_of_time[0].weekday_name)  \n",
    "print ('.. Il existe beaucoup plus de fonctions! ..')"
   ]
  },
  {
   "cell_type": "code",
   "execution_count": 15,
   "metadata": {
    "collapsed": false,
    "scrolled": false
   },
   "outputs": [
    {
     "ename": "AttributeError",
     "evalue": "'str' object has no attribute 'year'",
     "output_type": "error",
     "traceback": [
      "\u001b[0;31m---------------------------------------------------------------------------\u001b[0m",
      "\u001b[0;31mAttributeError\u001b[0m                            Traceback (most recent call last)",
      "\u001b[0;32m<ipython-input-15-c3a0f6347e97>\u001b[0m in \u001b[0;36m<module>\u001b[0;34m()\u001b[0m\n\u001b[0;32m----> 1\u001b[0;31m \u001b[0mprint\u001b[0m \u001b[0;34m(\u001b[0m\u001b[0;34m'2012-12-01 00:00:00'\u001b[0m\u001b[0;34m.\u001b[0m\u001b[0myear\u001b[0m\u001b[0;34m)\u001b[0m \u001b[0;31m# Essayer de faire une même fonction avec la chaîne de caractère\u001b[0m\u001b[0;34m\u001b[0m\u001b[0m\n\u001b[0m",
      "\u001b[0;31mAttributeError\u001b[0m: 'str' object has no attribute 'year'"
     ]
    }
   ],
   "source": [
    "print ('2012-12-01 00:00:00'.year) # Essayer de faire une même fonction avec la chaîne de caractère"
   ]
  },
  {
   "cell_type": "markdown",
   "metadata": {},
   "source": [
    "<div style=\"text-align: justify\"> <span style=\"color: black; font-family: Babas Neue; font-size: 1em;\"> Nous pouvons constater ici qu'une chaîne de caractères standard ne possède pas l'attribut 'année', puisqu'elle donne une réponse d'erreur. Notre première donnée de la liste est convertie comme un objet de type 'date', ce qui la permet de posséder cet attribut. Vous voyez donc l'intérêt de *formater* les données en plus de les générer à grande échelle. "
   ]
  },
  {
   "cell_type": "markdown",
   "metadata": {},
   "source": [
    "###### <span style=\"color: black; font-family: Babas Neue; font-size: 2em;\">3. Générer une liste de liens URL vers les archives</span>"
   ]
  },
  {
   "cell_type": "markdown",
   "metadata": {},
   "source": [
    "<div style=\"text-align: justify\"> <span style=\"color: black; font-family: Babas Neue; font-size: 1em;\"> Le système d'archives de La Presse fonctionne ainsi :\n",
    "<br><br>\n",
    "http://www.lapresse.ca/ archives / années / mois / jour . php\n",
    "<br><br>\n",
    "'archives' est une chaîne de caractères (il ne changera pas).\n",
    "'années', 'mois' et 'jour' sont les valeurs de nos variables de dates (ils changeront en fonction de nos dates). \n",
    "'.php' est le type de fichier hébergé sur le site. Les plus populaires sont .php et .html.  \n",
    "<br><br>\n",
    "À partir de notre première liste de dates, nous allons générer une liste de liens vers les archives. Il ne s'agit pas de notre cible final, c'est-à-dire qu'il faudra ensuite aller à l'intérieur de ses liens pour produire une troisième liste, qui est constituée des adresses vers les articles.\n",
    "\n",
    "<br><br><br>***3.1 Définition de la souche*** (Ce qui ne change pas)</span></div>"
   ]
  },
  {
   "cell_type": "code",
   "execution_count": 16,
   "metadata": {
    "collapsed": false,
    "scrolled": false
   },
   "outputs": [],
   "source": [
    "root_url = 'http://www.lapresse.ca/archives'\n",
    "url_end = '.php'"
   ]
  },
  {
   "cell_type": "markdown",
   "metadata": {},
   "source": [
    "<div style=\"text-align: justify\"> <span style=\"color: black; font-family: Babas Neue; font-size: 1em;\"><br>*** 3.2 Créer une liste vide***</span></div>"
   ]
  },
  {
   "cell_type": "code",
   "execution_count": 17,
   "metadata": {
    "collapsed": true,
    "scrolled": false
   },
   "outputs": [],
   "source": [
    "archives_url = []"
   ]
  },
  {
   "cell_type": "markdown",
   "metadata": {},
   "source": [
    "<div style=\"text-align: justify\"> <span style=\"color: black; font-family: Babas Neue; font-size: 1em;\"><br>*** 3.3 Peupler la liste à partir d'une boucle *** (Imputer les nouvelles addresses. Partir de notre souche et intégrer les dates au four et à mesure que nous itérons dans la liste.) </span></div> "
   ]
  },
  {
   "cell_type": "code",
   "execution_count": 18,
   "metadata": {
    "collapsed": false,
    "scrolled": false
   },
   "outputs": [],
   "source": [
    "for x in range(len(array_of_time)):   # Pour tout les éléments de la liste, \n",
    "    day = array_of_time[x].day        # capturer les données day, month, year\n",
    "    month = array_of_time[x].month    \n",
    "    year = array_of_time[x].year\n",
    "    archives_url.append('{}/{}/{}/{}{}'.format(root_url,year,month,day,url_end)) # Stocker l'URL dans la nouvelle liste"
   ]
  },
  {
   "cell_type": "code",
   "execution_count": 23,
   "metadata": {
    "collapsed": false,
    "scrolled": true
   },
   "outputs": [
    {
     "data": {
      "text/plain": [
       "['http://www.lapresse.ca/archives/2012/12/1.php',\n",
       " 'http://www.lapresse.ca/archives/2012/12/2.php',\n",
       " 'http://www.lapresse.ca/archives/2012/12/3.php',\n",
       " 'http://www.lapresse.ca/archives/2012/12/4.php',\n",
       " 'http://www.lapresse.ca/archives/2012/12/5.php']"
      ]
     },
     "execution_count": 23,
     "metadata": {},
     "output_type": "execute_result"
    }
   ],
   "source": [
    "archives_url[0:5] # Imprimer les 5 premiers liens"
   ]
  },
  {
   "cell_type": "code",
   "execution_count": 26,
   "metadata": {
    "collapsed": false
   },
   "outputs": [
    {
     "data": {
      "text/plain": [
       "['http://www.lapresse.ca/archives/2013/6/26.php',\n",
       " 'http://www.lapresse.ca/archives/2013/6/27.php',\n",
       " 'http://www.lapresse.ca/archives/2013/6/28.php',\n",
       " 'http://www.lapresse.ca/archives/2013/6/29.php',\n",
       " 'http://www.lapresse.ca/archives/2013/6/30.php']"
      ]
     },
     "execution_count": 26,
     "metadata": {},
     "output_type": "execute_result"
    }
   ],
   "source": [
    "archives_url[-5:] # Imprimer les 5 derniers liens"
   ]
  },
  {
   "cell_type": "code",
   "execution_count": 28,
   "metadata": {
    "collapsed": false
   },
   "outputs": [
    {
     "name": "stdout",
     "output_type": "stream",
     "text": [
      "212\n"
     ]
    }
   ],
   "source": [
    "print(len(archives_url)) # Afficher la longueur de la liste"
   ]
  },
  {
   "cell_type": "markdown",
   "metadata": {},
   "source": [
    "<div style=\"text-align: justify\"> <span style=\"color: black; font-family: Babas Neue; font-size: 1em;\"> Générer une telle liste nécessite d'examiner la structure du site web en question, de comprendre sa logique, de retenir les constantes (le début du site et le type '.php, .html') et générer les extensions souhaitées par la suite. Dans ce cas, il s'agit de l'année, du mois et du jour."
   ]
  },
  {
   "cell_type": "markdown",
   "metadata": {},
   "source": [
    "###### <span style=\"color: black; font-family: Babas Neue; font-size: 2em;\">4. Explorer les liens des archives</span>"
   ]
  },
  {
   "cell_type": "markdown",
   "metadata": {},
   "source": [
    "<div style=\"text-align: justify\"> <span style=\"color: black; font-family: Babas Neue; font-size: 1em;\"> Nous devons interroger la liste de liens des **archives** dans le but d'extraire les liens vers les **articles**. Chaque lien des archives est donc à la fois la cible d'une requête et le conteneur de d'autres liens, qui feront l'objet d'une requête (pour accéder au contenu de chaque article). <br><br><br>***4.1 Interroger un site (nous allons prendre le lien du 11 janvier 2013)***</span></div>"
   ]
  },
  {
   "cell_type": "markdown",
   "metadata": {},
   "source": [
    "<div style=\"text-align: justify\"> <span style=\"color: black; font-family: Babas Neue; font-size: 1em;\"><br>*** 4.1.1 Envoyer une requête au serveur avec urllib.request***</span></div>"
   ]
  },
  {
   "cell_type": "code",
   "execution_count": 29,
   "metadata": {
    "collapsed": false,
    "scrolled": false
   },
   "outputs": [
    {
     "name": "stdout",
     "output_type": "stream",
     "text": [
      "http://www.lapresse.ca/archives/2013/1/11.php\n"
     ]
    }
   ],
   "source": [
    "print (archives_url[41]) # Vérifier s'il s'agit du lien souhaité"
   ]
  },
  {
   "cell_type": "code",
   "execution_count": 30,
   "metadata": {
    "collapsed": false,
    "scrolled": false
   },
   "outputs": [],
   "source": [
    "request = urllib.request.Request(url = archives_url[41], data=None, headers=\n",
    "                             {'User-Agent': 'Mozilla/5.0 (Macintosh; Intel Mac OS X 10_9_3) \\\n",
    "                             AppleWebKit/537.36 (KHTML, like Gecko) Chrome/35.0.1916.47 Safari/537.36'})"
   ]
  },
  {
   "cell_type": "markdown",
   "metadata": {},
   "source": [
    "<div style=\"text-align: justify\"> <span style=\"color: black; font-family: Babas Neue; font-size: 1em;\"><br>*** 4.1.2 Ouvrir un objet BeautifulSoup4 avec la réponse de la requête.*** <br><br>Dit autrement, nous passons d'envoyer une demande d'information à recevoir une réponse. bs4 va nous aider dans la deuxième phase et va afficher le contenu de la réponse.</span></div>"
   ]
  },
  {
   "cell_type": "code",
   "execution_count": 31,
   "metadata": {
    "collapsed": false,
    "scrolled": false
   },
   "outputs": [],
   "source": [
    "source_code = bs4.BeautifulSoup(urllib.request.urlopen(request).read(),'lxml')"
   ]
  },
  {
   "cell_type": "markdown",
   "metadata": {},
   "source": [
    "<div style=\"text-align: justify\"> <span style=\"color: black; font-family: Babas Neue; font-size: 1em;\">***<br><br>4.1.2 Utiliser la méthode prettify pour afficher le contenu. Il s'agit du code source de la page.*** (Désactivé pour sauver de l'espace. Enlever le # pour réactiver.) </span></div>"
   ]
  },
  {
   "cell_type": "code",
   "execution_count": 33,
   "metadata": {
    "collapsed": false,
    "scrolled": true
   },
   "outputs": [],
   "source": [
    "# print(source_code.prettify) "
   ]
  },
  {
   "cell_type": "markdown",
   "metadata": {},
   "source": [
    "<div style=\"text-align: justify\"> <span style=\"color: black; font-family: Babas Neue; font-size: 1em;\"> L'intérêt est d'extraire un seul site pour commencer et de voir son contenu afin essayer d'en déduire la structure interne commune. Si vous observez bien, vous verrez que la liste des articles est balisée avec un code 'ul class=\"square square-spread\"', qui signifie *unordered list*. Cela est très significatif, car nous avons exactement droit ici à une telle liste. Probablement que cette balise est donc utilisée comme standard par La Presse. Nous tenterons de l'utiliser pour tout les autres liens.  "
   ]
  },
  {
   "cell_type": "markdown",
   "metadata": {},
   "source": [
    "<div style=\"text-align: justify\"> <span style=\"color: black; font-family: Babas Neue; font-size: 1em;\">***<br>4.1.3 Convertir le contenu en chaîne de caractères et tronquer la sélection souhaitée.***</span></div>"
   ]
  },
  {
   "cell_type": "code",
   "execution_count": 35,
   "metadata": {
    "collapsed": false,
    "scrolled": true
   },
   "outputs": [
    {
     "name": "stdout",
     "output_type": "stream",
     "text": [
      "<ul class=\"square square-spread\">\n",
      "<li>(05:06) <a alt=\"C'est arrivé un 11 janvier\" href=\"http://www.lapresse.ca/le-droit/actualites/ephemerides/201301/04/01-4608380-cest-arrive-un-11-janvier.php\" title=\"C'est arrivé un 11 janvier\">C'est arrivé un 11 janvier</a></li>\n",
      "<li>(05:00) <a alt=\"La LNH s'éloigne de Québec\" href=\"http://www.lapresse.ca/le-soleil/opinions/carrefour/201301/08/01-4609376-la-lnh-seloigne-de-quebec.php\" title=\"La LNH s'éloigne de Québec\">La LNH s'éloigne de Québec</a></li>\n",
      "<li>( \n",
      "\n",
      "nspirant aux résidences Monchénou</a></li>\n",
      "<li>(09:35) <a alt=\"Collecte de sang fructueuse\" href=\"http://www.lapresse.ca/le-droit/actualites/vie-communautaire/201301/14/01-4611048-collecte-de-sang-fructueuse.php\" title=\"Collecte de sang fructueuse\">Collecte de sang fructueuse</a></li>\n",
      "<li>(09:39) <a alt=\"Bourses d'excellence\" href=\"http://www.lapresse.ca/le-droit/actualites/vie-communautaire/201301/14/01-4611053-bourses-dexcellence.php\" title=\"Bourses d'excellence\">Bourses d'excellence</a></li>\n",
      "\n"
     ]
    }
   ],
   "source": [
    "str_from_code = str(source_code)\n",
    "start_idx = str_from_code.find('<ul class=\"square square-spread\">')\n",
    "skimed_str = str_from_code[start_idx:str_from_code.find('</ul>',start_idx)]\n",
    "print (skimed_str[0:500], '\\n') # Imprimer les 500 premiers caractères\n",
    "print (skimed_str[-500:]) # Imprimer les 500 premiers caractères"
   ]
  },
  {
   "cell_type": "markdown",
   "metadata": {},
   "source": [
    "<div style=\"text-align: justify\"> <span style=\"color: black; font-family: Babas Neue; font-size: 1em;\"> À travers ce codage, nous pouvons observer que les liens qui nous intéressent suivent du mot-clé 'href=' et termine toujours par l'extension '.php'. À partir de là, il ne reste que quelques manipulations pour accéder à notre dernière liste."
   ]
  },
  {
   "cell_type": "markdown",
   "metadata": {},
   "source": [
    "<div style=\"text-align: justify\"> <span style=\"color: black; font-family: Babas Neue; font-size: 1em;\">***<br>4.1.4 Diviser le texte par le mot-clé 'href' et lister les éléments. Enlever le premier index car il ne s'agit pas d'un site.***</span></div>"
   ]
  },
  {
   "cell_type": "code",
   "execution_count": 38,
   "metadata": {
    "collapsed": false,
    "scrolled": true
   },
   "outputs": [
    {
     "data": {
      "text/plain": [
       "['http://www.lapresse.ca/le-droit/actualites/ephemerides/201301/04/01-4608380-cest-arrive-un-11-janvier.php\" title=\"C\\'est arrivé un 11 janvier\">C\\'est arrivé un 11 janvier</a></li>\\n<li>(05:00) <a alt=\"La LNH s\\'éloigne de Québec\" ',\n",
       " 'http://www.lapresse.ca/le-soleil/opinions/carrefour/201301/08/01-4609376-la-lnh-seloigne-de-quebec.php\" title=\"La LNH s\\'éloigne de Québec\">La LNH s\\'éloigne de Québec</a></li>\\n<li>(07:02) <a alt=\"Seul devant la cour, un bon choix?\" ']"
      ]
     },
     "execution_count": 38,
     "metadata": {},
     "output_type": "execute_result"
    }
   ],
   "source": [
    "php_list = skimed_str.split('href=\"')[1:]\n",
    "php_list[0:2]# Imprimer les deux premiers lien"
   ]
  },
  {
   "cell_type": "markdown",
   "metadata": {},
   "source": [
    "<div style=\"text-align: justify\"> <span style=\"color: black; font-family: Babas Neue; font-size: 1em;\">***<br>4.1.5 Modifier les éléments de la liste pour qu'ils s'arrêtent à l'extension '.php' ***</span></div>"
   ]
  },
  {
   "cell_type": "code",
   "execution_count": 42,
   "metadata": {
    "collapsed": false,
    "scrolled": true
   },
   "outputs": [
    {
     "name": "stdout",
     "output_type": "stream",
     "text": [
      "['http://www.lapresse.ca/le-droit/actualites/ephemerides/201301/04/01-4608380-cest-arrive-un-11-janvier.php', 'http://www.lapresse.ca/le-soleil/opinions/carrefour/201301/08/01-4609376-la-lnh-seloigne-de-quebec.php', 'http://www.lapresse.ca/la-tribune/archives/la-nouvelle/actualites/201301/09/01-4609791-seul-devant-la-cour-un-bon-choix.php', 'http://www.lapresse.ca/la-tribune/archives/la-nouvelle/scene-culturelle/201301/09/01-4609793-impair-un-collectif-inspire-par-lart-de-rue.php', 'http://www.lapresse.ca/la-tribune/archives/la-nouvelle/actualites/201301/09/01-4609795-la-consigne-sociale-en-plein-emergence.php', 'http://www.lapresse.ca/le-droit/actualites/chroniques/denis-gratton/201301/10/01-4609974-evangeline-gabriel-et-le-chat.php', 'http://www.lapresse.ca/le-soleil/opinions/carrefour/201301/10/01-4610077-nadeau-dubois-futur-lieutenant-gouverneur.php', 'http://www.lapresse.ca/debats/editoriaux/francois-cardinal/201301/10/01-4610192-les-racines-de-la-colere.php', 'http://www.lapresse.ca/debats/votre-opinion/201301/10/01-4610204-temple-de-la-renommee-du-baseball-hypocrites.php', 'http://www.lapresse.ca/la-voix-de-lest/opinions/courrier-des-lecteurs/201301/10/01-4610205-hommage-a-jean-louis-boisseau.php'] \n",
      "\n",
      "289\n"
     ]
    }
   ],
   "source": [
    "for x in range(len(php_list)):\n",
    "    php_list[x] = php_list[x][:php_list[x].find('.php')+4]\n",
    "print(php_list[0:10], \"\\n\") # Imprimer les dix premiers liens\n",
    "print (len(php_list)) # Combien d'articles publiés le 11 janvier 2013?"
   ]
  },
  {
   "cell_type": "markdown",
   "metadata": {},
   "source": [
    "<div style=\"text-align: justify\"> <span style=\"color: black; font-family: Babas Neue; font-size: 1em;\"><br>*** 4.2 Application de l'extraction à tout les liens.***</span></div>"
   ]
  },
  {
   "cell_type": "markdown",
   "metadata": {},
   "source": [
    "<div style=\"text-align: justify\"> <span style=\"color: black; font-family: Babas Neue; font-size: 1em;\"> Pour obtenir tout les articles écris par la La Presse du 1er décembre au 30 juin, il suffit de généraliser ce que l'on vient de faire aux autres liens des archives et stocker les nouveaux dans une nouvelle variable. Vous pouvez exécuter le code ci-dessous, mais je vais le désactiver par défaut, car, pour le bien du tutoriel, je ne traiterai que d'une seule journée, soit celle que je viens de faire."
   ]
  },
  {
   "cell_type": "code",
   "execution_count": 43,
   "metadata": {
    "collapsed": false,
    "scrolled": false
   },
   "outputs": [],
   "source": [
    "#metalist = []\n",
    "#for x in range(len(archives_url)):\n",
    "#\n",
    "#    request = urllib.request.Request(url = archives_url[x], data=None, headers=\n",
    "#                             {'User-Agent': 'Mozilla/5.0 (Macintosh; Intel Mac OS X 10_9_3) \\\n",
    "#                             AppleWebKit/537.36 (KHTML, like Gecko) Chrome/35.0.1916.47 Safari/537.36'})\n",
    "#\n",
    "#    source_code = bs4.BeautifulSoup(urllib.request.urlopen(request).read(),'lxml')\n",
    "#    str_from_code = str(source_code)\n",
    "#    start_idx = str_from_code.find('<ul class=\"square square-spread\">')\n",
    "#    skimed_str = str_from_code[start_idx:str_from_code.find('</ul>',start_idx)]\n",
    "#    php_list = skimed_str.split('href=\"')[1:]\n",
    "#    \n",
    "#    for y in range(len(php_list)):\n",
    "#        php_list[y] = php_list[y][:php_list[y].find('.php')+4]\n",
    "#\n",
    "#    metalist.extend(php_list)\n",
    "    \n",
    "#metalist"
   ]
  },
  {
   "cell_type": "markdown",
   "metadata": {},
   "source": [
    "###### <span style=\"color: black; font-family: Babas Neue; font-size: 2em;\">5. Explorer les liens des articles</span>"
   ]
  },
  {
   "cell_type": "markdown",
   "metadata": {
    "collapsed": true
   },
   "source": [
    "<div style=\"text-align: justify\"> <span style=\"color: black; font-family: Babas Neue; font-size: 1em;\"> Notre liste de liens vers les articles ayant été générée, nous allons pouvoir maintenant extraire d'elles l'information qui nous intéresse. Souvent, notre but est de rechercher quelque chose de particulier, comme dans notre situation où nous recherchons les articles ayant la mention IDLE NO MORE dans le texte. Il ne s'agit pas d'une comparaison entre les articles faisant mention et ceux pour qui cela n'est pas le cas, mais bien d'une comparaison entre les articles faisant mention du mouvement. Ainsi, nous n'avons pas réellement besoin des autres articles. <br><br><br><div style=\"text-align: justify\"> <span style=\"color: black; font-family: Babas Neue; font-size: 1em;\">Le module newspaper est utile pour les raisons suivantes : <br><br>\n",
    "- Il nous évite de passer par la technique du départ, à savoir envoyer une requête avec urllib, traiter le contenu avec bs4, puis convertir en chaîne de caractères pour finalement scinder le texte à partir de balises dans le code. Newspaper fait ses étapes en une seule commande.<br>\n",
    "- Le module crée un objet de type Article, ce qui lui infère de nombreux attributs. C'est pour cela que l'on ne peut pas l'utiliser lors de la première étape.<br>\n",
    "</span></div>\n",
    "  <br><br><br>***5.1 Interroger un site (soit le premier lien du 11 janvier 2013)***</span></div>"
   ]
  },
  {
   "cell_type": "code",
   "execution_count": 46,
   "metadata": {
    "collapsed": false
   },
   "outputs": [
    {
     "name": "stdout",
     "output_type": "stream",
     "text": [
      "http://www.lapresse.ca/le-droit/actualites/ephemerides/201301/04/01-4608380-cest-arrive-un-11-janvier.php\n"
     ]
    }
   ],
   "source": [
    "article_url = php_list[0]\n",
    "print (article_url)"
   ]
  },
  {
   "cell_type": "markdown",
   "metadata": {},
   "source": [
    "<div style=\"text-align: justify\"> <span style=\"color: black; font-family: Babas Neue; font-size: 1em;\">***<br>5.1.1  Utiliser le module newspaper pour récupérer une site***</span></div>"
   ]
  },
  {
   "cell_type": "code",
   "execution_count": 47,
   "metadata": {
    "collapsed": false
   },
   "outputs": [
    {
     "name": "stdout",
     "output_type": "stream",
     "text": [
      "<class 'newspaper.article.Article'>\n"
     ]
    }
   ],
   "source": [
    "article = newspaper.Article(article_url, language ='fr') # Créer un objet article avec un URL\n",
    "article.download() # Télécharger\n",
    "article.parse() # Traiter\n",
    "print (type(article)) # Afficher le type"
   ]
  },
  {
   "cell_type": "markdown",
   "metadata": {},
   "source": [
    "<div style=\"text-align: justify\"> <span style=\"color: black; font-family: Babas Neue; font-size: 1em;\">***<br>5.1.2 Utiliser l'attribut 'text' de l'objet article***</span></div>"
   ]
  },
  {
   "cell_type": "code",
   "execution_count": 48,
   "metadata": {
    "collapsed": false
   },
   "outputs": [
    {
     "name": "stdout",
     "output_type": "stream",
     "text": [
      "2001 - Le premier ministre québécois Lucien Bouchard annonce qu'il renonce à la politique active.\n",
      "\n",
      "2008 - Décès de Sir Edmund Hillary, 88 ans, alpiniste et explorateur néo-zélandais qui a conquis l'Everest en 1953, en compagnie du sherpa Tenzing Norgay.\n",
      "\n",
      "1998 - À Lahore, au Pakistan, 22 musulmans chiites sont tués par balles lors d'un office.\n",
      "\n",
      "1998 - Des bandes armées assassinent 103 civils au sud-est d'Alger.\n",
      "\n",
      "1995 - Les hockeyeurs s'entendent avec les propriétaires, après trois mois de litige dans la LNH.\n",
      "\n",
      "1994 - Au départ de Robert Bourassa, Daniel Johnson devient premier ministre du Québec.\n",
      "\n",
      "1993 - Richard Branson obtient des dommages de British Airways, pour diffamation contre sa compagnie Virgin Airways.\n",
      "\n",
      "1988 - Un tribunal de Chicago ordonne à la pétrolière Amoco de payer 85,2 millions $ US en dommages, pour le naufrage de l'Amoco Cadiz sur des récifs devant Ploudalmézeau, en Bretagne, en mars 1978, la pire marée noire de l'histoire en Europe.\n",
      "\n",
      "1987 - Près du port de Bassorah, lors de la guerre Irak-Iran, des combats font des milliers de morts.\n",
      "\n",
      "1983 - À court de candidats jurés, à Joliette, le juge Jean-Guy Boilard en envoie attraper sur la voie publique.\n",
      "\n",
      "1976 - Le président Guillermo Rodriguez Lara, de l'Équateur, est renversé par des militaires.\n",
      "\n",
      "1972 - Le Pakistan reconnaît l'indépendance du Bangla-Desh, son ancienne province orientale.\n",
      "\n",
      "1963 - À Los Angeles, ouverture du Whisky à Gogo, première salle de danse appelée «discothèque».\n",
      "\n",
      "1962 - À Huascaran, au Pérou, des glissements de terrain font plus de 3000 morts.\n",
      "\n",
      "1946 - L'Albanie devient une république communiste sous le joug d'Enver Hoxha, qui y restera jusqu'à sa mort en 1985.\n",
      "\n",
      "1943 - Les États-Unis et la Grande-Bretagne renoncent par traité à leurs privilèges extraterritoriaux en Chine.\n",
      "\n",
      "1922 - Un Canadien de 14 ans, Leonard Thompson, est le premier diabétique traité avec succès par l'insuline.\n",
      "\n",
      "1913 - La sedan Hudson, 395 $ US au détail, est dévoilée à Détroit.\n",
      "\n",
      "1909 - Signature du traité sur les eaux limitrophes des États-Unis et du Canada, créant la Commission mixte internationale.\n",
      "\n",
      "1823 - Dans une pétition au gouverneur James Dalhousie, 69 000 habitants du Bas-Canada dénoncent le projet d'union des deux Canada.\n",
      "\n",
      "1814 - Un maréchal de Napoléon devenu roi de Naples, Joachim Murat, change d'allégeance et s'allie à l'Autriche et l'Angleterre.\n",
      "\n",
      "1787 - L'astronome William Herschel découvre deux lunes d'Uranus.\n",
      "\n",
      "1569 - Les prix de la première loterie d'État, qui finance des ports et fortifications, sont tirés à Londres.\n",
      "\n",
      "Ils sont nés un 11 janvier:\n",
      "\n",
      "Le peintre Francesco Mazzola, dit Parmigianino (1503-40)\n",
      "\n",
      "John Alexander Macdonald, premier premier ministre du Canada, à Glasgow (1815-91)\n",
      "\n",
      "Le compositeur et organiste français Maurice Duruflé (1902-86)\n",
      "\n",
      "L'écrivain sud-africain Alan Paton (1903-88)\n",
      "\n",
      "L'homme d'État français Pierre Mendès France (1907-82)\n",
      "\n",
      "L'acteur français Bernard Blier (1916-89)\n",
      "\n",
      "L'actrice française Jacqueline Maillan (1923-92)\n",
      "\n",
      "Le premier ministre Jean Chrétien (1934)\n",
      "\n",
      "Ils nous ont quittés un 11 janvier:\n",
      "\n",
      "2010: le réalisateur français Éric Rohmer (1920)\n",
      "\n",
      "2007: L'actrice française Solveig Dommartin (1961)\n",
      "\n",
      "2003: le réalisateur français Maurice Pialat (1925)\n",
      "\n",
      "1966: le sculpteur suisse Alberto Giacometti (1901)\n",
      "\n",
      "1966: l'homme d'Etat indien Lal Bahadur Shatri (1904)\n",
      "\n",
      "1928: l'écrivain anglais Thomas Hardy (1840)\n",
      "\n",
      "1891: l'urbaniste français Georges Haussmann (1809)\n",
      "\n",
      "Citation du jour: «L'hospice ?.... Maudit. Tout le temps avec des vieux. Qui s'encouragent à se décourager. Un pied sur terre, un pied de l'autre bord. Des boiteux.» (Gilles Vigneault, «La Petite Heure»)\n"
     ]
    }
   ],
   "source": [
    "print(article.text)"
   ]
  },
  {
   "cell_type": "markdown",
   "metadata": {},
   "source": [
    "<div style=\"text-align: justify\"> <span style=\"color: black; font-family: Babas Neue; font-size: 1em;\">***<br>5.1.3 Nos mots sont-il contenu dans l'article? ***</span></div>"
   ]
  },
  {
   "cell_type": "code",
   "execution_count": 49,
   "metadata": {
    "collapsed": false
   },
   "outputs": [
    {
     "data": {
      "text/plain": [
       "False"
      ]
     },
     "execution_count": 49,
     "metadata": {},
     "output_type": "execute_result"
    }
   ],
   "source": [
    "'IDLE NO MORE' in str(article.text).upper()"
   ]
  },
  {
   "cell_type": "markdown",
   "metadata": {},
   "source": [
    "<div style=\"text-align: justify\"> <span style=\"color: black; font-family: Babas Neue; font-size: 1em;\">***<br>5.1.4 Vérifier les autres attributs ***</span></div>"
   ]
  },
  {
   "cell_type": "code",
   "execution_count": 50,
   "metadata": {
    "collapsed": false
   },
   "outputs": [
    {
     "data": {
      "text/plain": [
       "\"C'est arrivé un 11 janvier\""
      ]
     },
     "execution_count": 50,
     "metadata": {},
     "output_type": "execute_result"
    }
   ],
   "source": [
    "article.title"
   ]
  },
  {
   "cell_type": "code",
   "execution_count": 51,
   "metadata": {
    "collapsed": false
   },
   "outputs": [
    {
     "data": {
      "text/plain": [
       "'http://images.lpcdn.ca/924x615/201209/21/592329-lucien-bouchard.jpg'"
      ]
     },
     "execution_count": 51,
     "metadata": {},
     "output_type": "execute_result"
    }
   ],
   "source": [
    "article.meta_img"
   ]
  },
  {
   "cell_type": "code",
   "execution_count": 52,
   "metadata": {
    "collapsed": false
   },
   "outputs": [
    {
     "data": {
      "text/plain": [
       "defaultdict(dict,\n",
       "            {'apple-itunes-app': 'app-id=451829003, app-argument=cyberpresse://article/4608380',\n",
       "             'article': {'publisher': 'https://www.facebook.com/LaPresseFB'},\n",
       "             'description': \"2001 - Le premier ministre québécois Lucien Bouchard annonce qu'il renonce à la politique active.\",\n",
       "             'fb': {'admins': 100001148387127, 'app_id': 166995983353903},\n",
       "             'keywords': 'Gatineau, Ottawa',\n",
       "             'og': {'description': \"2001 - Le premier ministre québécois Lucien Bouchard annonce qu'il renonce à la politique active.\",\n",
       "              'image': 'http://images.lpcdn.ca/924x615/201209/21/592329-lucien-bouchard.jpg',\n",
       "              'locale': 'fr_CA',\n",
       "              'site_name': 'La Presse',\n",
       "              'title': \"C'est arrivé un 11 janvier | Éphémérides\",\n",
       "              'type': 'article',\n",
       "              'url': 'http://www.lapresse.ca/le-droit/ephemerides/201301/04/01-4608380-cest-arrive-un-11-janvier.php'},\n",
       "             'twitter': {'card': 'summary_large_image',\n",
       "              'description': \"2001 - Le premier ministre québécois Lucien Bouchard annonce qu'il renonce à la politique active.\",\n",
       "              'image': {'src': 'http://images.lpcdn.ca/924x615/201209/21/592329-lucien-bouchard.jpg'},\n",
       "              'site': '@LP_LaPresse',\n",
       "              'title': \"C'est arrivé un 11 janvier | Éphémérides\"},\n",
       "             'verify-v1': 'xehmvg8QtpAZLH2hipmw6o0J7SCD+4Z+S6+jk/Y9QuE='})"
      ]
     },
     "execution_count": 52,
     "metadata": {},
     "output_type": "execute_result"
    }
   ],
   "source": [
    "article.meta_data"
   ]
  },
  {
   "cell_type": "markdown",
   "metadata": {},
   "source": [
    "<div style=\"text-align: justify\"> <span style=\"color: black; font-family: Babas Neue; font-size: 1em;\"> Notre dernière étape est de générer une boucle dans la liste de liens, consulter ceux-ci et vérifier si le contenu principal contient les mots IDLE NO MORE. Si tel est le cas, nous ajouterons les informations sur l'article dans une base de données. Dans l'autre cas, nous passerons au lien suivant. "
   ]
  },
  {
   "cell_type": "code",
   "execution_count": 58,
   "metadata": {
    "collapsed": false,
    "scrolled": true
   },
   "outputs": [
    {
     "name": "stdout",
     "output_type": "stream",
     "text": [
      "http://www.lapresse.ca/le-droit/actualites/ephemerides/201301/04/01-4608380-cest-arrive-un-11-janvier.php 1 of 289\n",
      "No\n",
      "http://www.lapresse.ca/le-soleil/opinions/carrefour/201301/08/01-4609376-la-lnh-seloigne-de-quebec.php 2 of 289\n",
      "No\n",
      "http://www.lapresse.ca/la-tribune/archives/la-nouvelle/actualites/201301/09/01-4609791-seul-devant-la-cour-un-bon-choix.php 3 of 289\n",
      "No\n",
      "http://www.lapresse.ca/la-tribune/archives/la-nouvelle/scene-culturelle/201301/09/01-4609793-impair-un-collectif-inspire-par-lart-de-rue.php 4 of 289\n",
      "No\n",
      "http://www.lapresse.ca/la-tribune/archives/la-nouvelle/actualites/201301/09/01-4609795-la-consigne-sociale-en-plein-emergence.php 5 of 289\n",
      "No\n",
      "http://www.lapresse.ca/le-droit/actualites/chroniques/denis-gratton/201301/10/01-4609974-evangeline-gabriel-et-le-chat.php 6 of 289\n",
      "No\n",
      "http://www.lapresse.ca/le-soleil/opinions/carrefour/201301/10/01-4610077-nadeau-dubois-futur-lieutenant-gouverneur.php 7 of 289\n",
      "No\n",
      "http://www.lapresse.ca/debats/editoriaux/francois-cardinal/201301/10/01-4610192-les-racines-de-la-colere.php 8 of 289\n",
      "Yes\n",
      "http://www.lapresse.ca/debats/votre-opinion/201301/10/01-4610204-temple-de-la-renommee-du-baseball-hypocrites.php 9 of 289\n",
      "No\n",
      "http://www.lapresse.ca/la-voix-de-lest/opinions/courrier-des-lecteurs/201301/10/01-4610205-hommage-a-jean-louis-boisseau.php 10 of 289\n",
      "No\n",
      "http://www.lapresse.ca/debats/nos-collaborateurs/jocelyn-coulon/201301/10/01-4610206-fini-les-casques-bleus.php 11 of 289\n",
      "No\n",
      "http://www.lapresse.ca/la-voix-de-lest/opinions/courrier-des-lecteurs/201301/10/01-4610207-hommage-a-une-voix.php 12 of 289\n",
      "No\n",
      "http://www.lapresse.ca/debats/chroniques/alain-dubuc/201301/10/01-4610208-assurance-emploi-la-fin-dun-cadeau-empoisonne.php 13 of 289\n",
      "No\n",
      "http://www.lapresse.ca/la-voix-de-lest/arts/201301/10/01-4610209-claudia-bouvette-apprecie-son-experience-dans-30-vies.php 14 of 289\n",
      "No\n",
      "http://www.lapresse.ca/debats/votre-opinion/201301/10/01-4610211-courrier-des-lecteurs.php 15 of 289\n",
      "No\n",
      "http://www.lapresse.ca/la-voix-de-lest/actualites/201301/10/01-4610212-construction-a-granby-le-secteur-residentiel-en-effervescence.php 16 of 289\n",
      "No\n",
      "http://www.lapresse.ca/le-quotidien/opinions/carrefour-du-lecteur/201301/10/01-4610218-coup-de-poker.php 17 of 289\n",
      "No\n",
      "http://www.lapresse.ca/le-quotidien/actualites/201301/10/01-4610224-les-paramedics-manifestent-a-alma.php 18 of 289\n",
      "No\n",
      "http://www.lapresse.ca/le-soleil/opinions/chroniqueurs/201301/10/01-4610228-femme-du-monde.php 19 of 289\n",
      "No\n",
      "http://www.lapresse.ca/le-soleil/actualites/education/201301/10/01-4610229-luniversite-laval-propose-une-autre-solution-pour-eviter-les-compressions.php 20 of 289\n",
      "No\n",
      "http://www.lapresse.ca/le-soleil/opinions/editoriaux/201301/10/01-4610234-le-fleau-du-viol.php 21 of 289\n",
      "No\n",
      "http://www.lapresse.ca/le-soleil/arts/television-et-radio/201301/10/01-4610241-la-radio-ckrl-celebre-ses-40-ans.php 22 of 289\n",
      "No\n",
      "http://www.lapresse.ca/myriam-segal/201301/10/01-4610242-inclus-ou-pas.php 23 of 289\n",
      "No\n",
      "http://www.lapresse.ca/le-soleil/justice-et-faits-divers/201301/10/01-4610246-saint-simeon-le-conseiller-levesque-ne-siegera-pas-au-conseil-en-attendant-sa-peine.php 24 of 289\n",
      "No\n",
      "http://www.lapresse.ca/le-soleil/justice-et-faits-divers/201301/10/01-4610249-le-scfp-sinterroge-sur-laccident-mortel-au-port-de-matane.php 25 of 289\n",
      "No\n",
      "http://www.lapresse.ca/le-quotidien/arts/201301/10/01-4610250-regard-interrogateur-sur-levolution-du-quebec.php 26 of 289\n",
      "No\n",
      "http://www.lapresse.ca/le-soleil/actualites/societe/201301/10/01-4610252-la-cre-de-la-gaspesie-et-des-iles-appuie-idle-no-more.php 27 of 289\n",
      "Yes\n",
      "http://www.lapresse.ca/le-soleil/justice-et-faits-divers/201301/10/01-4610255-la-responsable-dun-tumulte-a-un-match-du-rouge-or-ecope-dune-amende.php 28 of 289\n",
      "No\n",
      "http://www.lapresse.ca/le-soleil/justice-et-faits-divers/201301/10/01-4610256-la-responsable-dun-tumulte-a-un-match-du-rouge-or-ecope-dune-amende.php 29 of 289\n",
      "No\n",
      "http://www.lapresse.ca/actualites/justice-et-affaires-criminelles/201301/10/01-4610257-la-famille-de-paolo-renda-veut-officialiser-sa-mort.php 30 of 289\n",
      "No\n",
      "http://www.lapresse.ca/la-voix-de-lest/actualites/201301/10/01-4610259-vol-dequipements-de-cuisine-a-cowansville-une-partie-de-la-marchandise-est-retrouvee-a-montreal.php 31 of 289\n",
      "No\n",
      "http://www.lapresse.ca/la-voix-de-lest/actualites/201301/10/01-4610260-cinlb-de-nouveaux-panneaux-grace-a-hydro-quebec.php 32 of 289\n",
      "No\n",
      "http://www.lapresse.ca/le-soleil/actualites/politique/201301/10/01-4610261-robert-dutil-croit-que-les-deputes-ne-devraient-pas-fixer-eux-memes-leur-salaire.php 33 of 289\n",
      "No\n",
      "http://www.lapresse.ca/le-soleil/arts/sur-scene/201301/10/01-4610262-bisbille-autour-dune-strategie-publicitaire-lopera-de-quebec-appuie-marc-hervieux.php 34 of 289\n",
      "No\n",
      "http://www.lapresse.ca/le-quotidien/actualites/201301/10/01-4610263-le-retour-en-enfer-delisa-t.php 35 of 289\n",
      "No\n",
      "http://www.lapresse.ca/le-quotidien/actualites/201301/10/01-4610264-leclosion-virale-entraine-des-mesures-durgence.php 36 of 289\n",
      "No\n",
      "http://www.lapresse.ca/le-quotidien/actualites/201301/10/01-4610265-quebec-pourrait-investir-700-000-.php 37 of 289\n",
      "No\n",
      "http://www.lapresse.ca/le-droit/archives/pierre-allard/201301/10/01-4610266-larret-de-mort-des-circonscriptions-acadiennes.php 38 of 289\n",
      "No\n",
      "http://www.lapresse.ca/la-voix-de-lest/actualites/201301/10/01-4610267-les-chevaliers-de-colomb-de-marieville-deja-100-ans-de-services-rendus.php 39 of 289\n",
      "No\n",
      "http://www.lapresse.ca/la-voix-de-lest/actualites/201301/10/01-4610268-sq-haute-yamaska-changement-de-garde.php 40 of 289\n",
      "No\n",
      "http://www.lapresse.ca/le-soleil/arts/sur-scene/201301/10/01-4610269-quebecomm-tente-dattirer-les-rolling-stones-a-quebec.php 41 of 289\n",
      "No\n",
      "http://www.lapresse.ca/la-voix-de-lest/actualites/201301/10/01-4610270-enlever-la-neige-15-km-a-lheure.php 42 of 289\n",
      "No\n",
      "http://www.lapresse.ca/le-droit/sports/senateurs-dottawa/201301/10/01-4610271-la-competition-ninquiete-pas-craig-anderson.php 43 of 289\n",
      "No\n",
      "http://www.lapresse.ca/le-soleil/justice-et-faits-divers/201301/10/01-4610272-une-peine-dans-la-collectivite-pour-la-secretaire-fraudeuse.php 44 of 289\n",
      "No\n",
      "http://www.lapresse.ca/la-voix-de-lest/actualites/201301/10/01-4610273-construction-a-waterloo-moins-spectactulaire-quen-2012.php 45 of 289\n",
      "No\n",
      "http://www.lapresse.ca/debats/chroniques/vincent-marissal/201301/10/01-4610274-un-autre-rendez-vous-de-la-derniere-chance.php 46 of 289\n",
      "Yes\n",
      "http://www.lapresse.ca/le-soleil/justice-et-faits-divers/201301/10/01-4610276-un-trafiquant-condamne-pour-avoir-etrangle-sa-conjointe.php 47 of 289\n",
      "No\n",
      "http://www.lapresse.ca/le-droit/actualites/politique/politique-ontarienne/201301/10/01-4610278-alex-cullen-veut-retourner-a-queens-park.php 48 of 289\n",
      "No\n",
      "http://www.lapresse.ca/le-soleil/sports/football/201301/10/01-4610279-le-sprint-commence-pour-lobtention-de-la-coupe-vanier-2013.php 49 of 289\n",
      "No\n",
      "http://www.lapresse.ca/le-soleil/affaires/actualite-economique/201301/10/01-4610280-virage-colis-de-2-milliards-a-postes-canada.php 50 of 289\n",
      "No\n",
      "http://www.lapresse.ca/actualites/politique/politique-quebecoise/201301/10/01-4610281-securite-publique-quebec-accuse-ottawa-de-pelleter-la-facture-dans-sa-cour.php 51 of 289\n",
      "No\n",
      "http://www.lapresse.ca/le-soleil/affaires/actualite-economique/201301/10/01-4610282-les-femmes-daffaires-ont-hate-dentendre-nathalie-normandeau.php 52 of 289\n",
      "No\n",
      "http://www.lapresse.ca/le-soleil/affaires/actualite-economique/201301/10/01-4610283-la-grippe-payante-pour-les-pharmacies-jean-coutu.php 53 of 289\n",
      "No\n",
      "http://www.lapresse.ca/la-voix-de-lest/sports/201301/10/01-4610284-inouk-un-quatrieme-gain-de-suiteavant-le-long-periple.php 54 of 289\n",
      "No\n",
      "http://www.lapresse.ca/le-soleil/affaires/les-regions/201301/10/01-4610285-renegociation-precoce-de-la-convention-collective-chez-ipl.php 55 of 289\n",
      "No\n",
      "http://www.lapresse.ca/le-droit/justice-et-faits-divers/201301/10/01-4610287-une-humiliation-pour-sa-profession-terence-kelly.php 56 of 289\n",
      "No\n",
      "http://www.lapresse.ca/le-soleil/arts/cinema/201301/10/01-4610289-la-productrice-marie-claude-poulin-aux-oscars.php 57 of 289\n",
      "No\n",
      "http://www.lapresse.ca/actualites/justice-et-affaires-criminelles/affaires-criminelles/201301/10/01-4610290-des-radicaux-opposes-a-letat-ciblent-des-juges-et-des-policiers-du-quebec.php 58 of 289\n",
      "No\n",
      "http://www.lapresse.ca/le-droit/actualites/sante/201301/10/01-4610291-le-quart-des-malades-raccrochent.php 59 of 289\n",
      "No\n",
      "http://www.lapresse.ca/le-quotidien/sports/sagueneens/201301/10/01-4610292-la-disette-enterree.php 60 of 289\n",
      "No\n",
      "http://www.lapresse.ca/le-soleil/justice-et-faits-divers/201301/10/01-4610293-un-coroner-intente-une-poursuite-contre-sa-patronne.php 61 of 289\n",
      "No\n",
      "http://www.lapresse.ca/le-soleil/actualites/sante/201301/10/01-4610294-publicites-de-coupe-faims-sylvie-frechette-en-eau-trouble-avec-pgx-daily.php 62 of 289\n",
      "No\n",
      "http://www.lapresse.ca/le-soleil/affaires/actualite-economique/201301/10/01-4610295-la-confidentialite-dun-evaluateur-et-promoteur-de-levis-mise-en-doute.php 63 of 289\n",
      "No\n",
      "http://www.lapresse.ca/le-soleil/actualites/politique/201301/10/01-4610296-factures-des-manifestations-etudiantes-liberaux-et-caquistes-sallient-a-labeaume.php 64 of 289\n",
      "No\n",
      "http://www.lapresse.ca/le-soleil/sports/remparts/201301/10/01-4610297-quebec-1-chicoutimi-4-patrick-roy-embarrasse.php 65 of 289\n",
      "No\n",
      "http://www.lapresse.ca/le-soleil/sports/remparts/201301/11/01-4610299-donaghey-pourra-mieux-concilier-hockey-et-etudes-a-quebec.php 66 of 289\n",
      "No\n",
      "http://www.lapresse.ca/actualites/insolite/201301/11/01-4610300-un-python-voyage-sur-laile-dun-avion-en-australie.php 67 of 289\n",
      "No\n",
      "http://www.lapresse.ca/actualites/justice-et-affaires-criminelles/affaires-criminelles/201301/11/01-4610306-richard-henry-bain-soutient-quil-est-apte-a-75-a-subir-son-proces.php 68 of 289\n",
      "No\n",
      "http://www.lapresse.ca/la-tribune/actualites/sherbrooke/201301/11/01-4610307-la-chasse-aux-nids-de-poule-est-ouverte.php 69 of 289\n",
      "No\n",
      "http://www.lapresse.ca/la-tribune/justice-et-faits-divers/201301/11/01-4610308-operation-famine-la-tete-dirigeante-plaide-coupable.php 70 of 289\n",
      "No\n",
      "http://www.lapresse.ca/debats/chroniques/patrick-lagace/201301/11/01-4610310-un-diner-avec-raymond-bachand.php 71 of 289\n",
      "No\n",
      "http://www.lapresse.ca/la-tribune/actualites/sherbrooke/201301/11/01-4610312-retour-a-la-case-depart-pour-monchenou.php 72 of 289\n",
      "No\n",
      "http://www.lapresse.ca/la-tribune/actualites/estrie-et-regions/201301/11/01-4610315-compton-aura-un-nouveau-maire.php 73 of 289\n",
      "No\n",
      "http://www.lapresse.ca/le-nouvelliste/actualites/201301/11/01-4610317-la-population-en-hausse-en-mauricie.php 74 of 289\n",
      "No\n",
      "http://www.lapresse.ca/actualites/montreal/201301/11/01-4610319-patinoires-exterieures-une-ile-19-climats.php 75 of 289\n",
      "No\n",
      "http://www.lapresse.ca/le-nouvelliste/actualites/201301/11/01-4610320-pas-dentreprise-pour-tester-leur-eau-ils-doivent-la-faire-bouillir-depuis-le-21-decembre.php 76 of 289\n",
      "No\n",
      "http://www.lapresse.ca/le-nouvelliste/sports/201301/11/01-4610321-marie-eve-nault-se-tourne-vers-la-suede.php 77 of 289\n",
      "No\n",
      "http://www.lapresse.ca/actualites/justice-et-affaires-criminelles/faits-divers/201301/11/01-4610322-un-couple-de-canadiens-trouve-mort-en-floride.php 78 of 289\n",
      "No\n",
      "http://www.lapresse.ca/le-nouvelliste/sports/hockey-junior/201301/11/01-4610323-cupper-ou-campeau-contre-les-remparts.php 79 of 289\n",
      "No\n",
      "http://www.lapresse.ca/international/dossiers/crise-dans-le-monde-arabe/guerre-civile-en-syrie/201301/11/01-4610324-les-rebelles-syriens-semparent-dun-important-aeroport-militaire.php 80 of 289\n",
      "No\n",
      "http://www.lapresse.ca/le-nouvelliste/justice-et-faits-divers/201301/11/01-4610325-alcool-au-volant-une-arrestation-par-jour.php 81 of 289\n",
      "No\n",
      "http://www.lapresse.ca/international/amerique-latine/201301/11/01-4610326-vers-une-scission-de-la-gauche-venezuelienne.php 82 of 289\n",
      "No\n",
      "http://www.lapresse.ca/le-nouvelliste/actualites/201301/11/01-4610327-refection-du-pont-duplessis-phase-importante-des-travaux.php 83 of 289\n",
      "No\n",
      "http://www.lapresse.ca/environnement/dossiers/changements-climatiques/201301/11/01-4610328-la-fonte-des-glaciers-sur-grand-ecran.php 84 of 289\n",
      "No\n",
      "http://www.lapresse.ca/le-soleil/justice-et-faits-divers/201301/11/01-4610329-des-munitions-pour-le-maintien-du-centre-de-sauvetage-maritime-de-quebec.php 85 of 289\n",
      "No\n",
      "http://www.lapresse.ca/le-nouvelliste/actualites/education/201301/11/01-4610330-voiture-de-genie-cherche-commanditaires.php 86 of 289\n",
      "No\n",
      "http://www.lapresse.ca/debats/chroniques/francois-gagnon/201301/11/01-4610331-ch-21-heures-pour-se-preparer.php 87 of 289\n",
      "No\n",
      "http://www.lapresse.ca/actualites/politique/politique-quebecoise/201301/11/01-4610332-plq-un-diner-avec-bachand-couillard-et-moreau.php 88 of 289\n",
      "No\n",
      "http://www.lapresse.ca/le-nouvelliste/justice-et-faits-divers/201301/11/01-4610333-pronographie-juvenile-un-minimum-de-90-jours-de-prison-pour-michel-hebert.php 89 of 289\n",
      "No\n",
      "http://www.lapresse.ca/sports/football/201301/11/01-4610334-une-autre-partie-de-plaisir-pour-les-patriots.php 90 of 289\n",
      "No\n",
      "http://www.lapresse.ca/sports/sports-de-combat/201301/11/01-4610335-lucian-bute-pourrait-redevenir-champion-des-ce-printemps.php 91 of 289\n",
      "No\n",
      "http://www.lapresse.ca/international/moyen-orient/201301/11/01-4610336-les-saoudiennes-font-leur-entree-au-conseil-consultatif.php 92 of 289\n",
      "No\n",
      "http://www.lapresse.ca/le-nouvelliste/actualites/vie-regionale/centre-du-quebec/201301/11/01-4610337-tonnage-record-au-port-de-becancour-en-2012.php 93 of 289\n",
      "No\n",
      "http://www.lapresse.ca/le-nouvelliste/actualites/vie-regionale/trois-rivieres/201301/11/01-4610338-moins-de-logements-locatifs-plus-de-condos-a-trois-rivieres.php 94 of 289\n",
      "No\n",
      "http://www.lapresse.ca/sports/hockey/201301/11/01-4610339-pools-petit-bilan-medical.php 95 of 289\n",
      "No\n",
      "http://www.lapresse.ca/le-nouvelliste/affaires/201301/11/01-4610340-astral-media-profite-du-lock-out-de-la-lnh.php 96 of 289\n",
      "No\n",
      "http://www.lapresse.ca/le-nouvelliste/affaires/201301/11/01-4610341-jean-coutu-veut-reduire-le-temps-dattente-au-comptoir.php 97 of 289\n",
      "No\n",
      "http://www.lapresse.ca/debats/chroniques/ronald-king/201301/11/01-4610342-encore-un-peu-de-cholesterol.php 98 of 289\n",
      "No\n",
      "http://www.lapresse.ca/actualites/education/201301/11/01-4610343-lasse-veut-boycotter-le-sommet-sur-leducation.php 99 of 289\n",
      "No\n",
      "http://www.lapresse.ca/vivre/gourmand/restaurants/201301/11/01-4610344-mezcla-pas-tout-a-fait-le-perou.php 100 of 289\n",
      "No\n",
      "http://www.lapresse.ca/arts/spectacles-et-theatre/theatre/201301/11/01-4610345-ventre-eblouir-la-noirceur.php 101 of 289\n",
      "No\n",
      "http://www.lapresse.ca/international/afrique/201301/11/01-4610346-la-france-intervient-au-mali.php 102 of 289\n",
      "No\n",
      "http://www.lapresse.ca/actualites/sante/201301/11/01-4610347-hopital-de-lachine-la-bataille-se-transporte-devant-les-tribunaux.php 103 of 289\n",
      "No\n",
      "http://www.lapresse.ca/cinema/ceremonies/oscars/201301/11/01-4610349-oscars-par-ici-les-surprises.php 104 of 289\n",
      "No\n",
      "http://www.lapresse.ca/voyage/destinations/europe/allemagne/201301/11/01-4610350-berlin-touristes-rentrez-chez-vous.php 105 of 289\n",
      "No\n",
      "http://www.lapresse.ca/le-nouvelliste/justice-et-faits-divers/201301/11/01-4610351-quelque-16-000-poulets-meurent-dans-un-incendie.php 106 of 289\n",
      "No\n",
      "http://www.lapresse.ca/international/europe/201301/11/01-4610352-jimmy-saville-des-victimes-agees-de-8-a-47-ans.php 107 of 289\n",
      "No\n",
      "http://www.lapresse.ca/la-tribune/actualites/sherbrooke/201301/11/01-4610353-boulevard-de-portland-plus-quun-seul-terrain-a-acquerir.php 108 of 289\n",
      "No\n",
      "http://www.lapresse.ca/le-nouvelliste/actualites/vie-regionale/201301/11/01-4610354-population-des-hausses-dans-toutes-les-mrc.php 109 of 289\n",
      "No\n",
      "http://www.lapresse.ca/actualites/justice-et-affaires-criminelles/201301/11/01-4610355-pedophilie-un-frere-de-sainte-croix-arrete.php 110 of 289\n",
      "No\n",
      "http://www.lapresse.ca/la-tribune/actualites/sherbrooke/201301/11/01-4610356-residence-st-francois-la-qualite-des-services-contestee.php 111 of 289\n",
      "No\n",
      "http://www.lapresse.ca/le-nouvelliste/actualites/vie-regionale/shawinigan/201301/11/01-4610357-population-shawinigan-remonte-au-19e-rang.php 112 of 289\n",
      "No\n",
      "http://www.lapresse.ca/sports/autres-sports/patinage-de-vitesse/201301/11/01-4610358-la-transition-spectaculaire-de-guillaume-blais-dufour.php 113 of 289\n",
      "No\n",
      "http://www.lapresse.ca/le-nouvelliste/sports/201301/11/01-4610359-jonathan-beaulieu-richard-signe-a-hamilton.php 114 of 289\n",
      "No\n",
      "http://www.lapresse.ca/la-tribune/justice-et-faits-divers/201301/11/01-4610361-manuel-mayoral-ils-ont-vole-une-partie-de-mon-ame-.php 115 of 289\n",
      "No\n",
      "http://www.lapresse.ca/arts/musique/201301/11/01-4610363-arcade-fire-au-centre-phi.php 116 of 289\n",
      "No\n",
      "http://www.lapresse.ca/le-nouvelliste/sports/201301/11/01-4610364-curling-lelite-quebecoise-dans-la-region.php 117 of 289\n",
      "No\n",
      "http://www.lapresse.ca/sports/football/201301/11/01-4610366-alouettes-trestman-nie-avoir-ete-embauche-par-les-bears.php 118 of 289\n",
      "No\n",
      "http://www.lapresse.ca/la-tribune/actualites/sherbrooke/201301/11/01-4610367-vaccination-le-csss-iugs-accelere-la-cadence.php 119 of 289\n",
      "No\n",
      "http://www.lapresse.ca/le-nouvelliste/sports/201301/11/01-4610368-estacades-dussault-reste-de-jean-quitte.php 120 of 289\n",
      "No\n",
      "http://www.lapresse.ca/le-soleil/arts/television-et-radio/201301/11/01-4610370-julie-belanger-quitte-les-chefs.php 121 of 289\n",
      "No\n",
      "http://www.lapresse.ca/vins/francois-chartier/201301/11/01-4610371-quoi-manger-avec-un-cidre-de-glace-du-quebec.php 122 of 289\n",
      "No\n",
      "http://www.lapresse.ca/vivre/sante/201301/11/01-4610372-la-france-veut-limiter-la-prescription-des-pilules-de-3e-generation.php 123 of 289\n",
      "No\n",
      "http://www.lapresse.ca/actualites/sante/201301/11/01-4610374-lacces-des-enfants-aux-soins-dentaires-est-critique.php 124 of 289\n",
      "No\n",
      "http://www.lapresse.ca/arts/spectacles-et-theatre/theatre/201301/11/01-4610375-la-fete-a-jean-vouloir-mourir.php 125 of 289\n",
      "No\n",
      "http://www.lapresse.ca/le-nouvelliste/sports/201301/11/01-4610376-les-patriotes-contre-ottawa.php 126 of 289\n",
      "No\n",
      "http://www.lapresse.ca/international/ailleurs-sur-le-web/201301/11/01-4610377-ben-laden-consultait-wikileaks.php 127 of 289\n",
      "No\n",
      "http://www.lapresse.ca/la-tribune/actualites/sherbrooke/201301/11/01-4610378-le-projet-laams-est-sur-les-rails.php 128 of 289\n",
      "No\n",
      "http://www.lapresse.ca/le-droit/actualites/education/201301/11/01-4610379-journee-de-confusion-dans-des-ecoles-dottawa.php 129 of 289\n",
      "No\n",
      "http://www.lapresse.ca/actualites/politique/politique-quebecoise/201301/11/01-4610380-quebec-inquiet-du-gel-de-laide-a-haiti.php 130 of 289\n",
      "No\n",
      "http://www.lapresse.ca/le-quotidien/justice-et-faits-divers/201301/11/01-4610381-la-mere-de-la-victime-de-lagression-satisfaite.php 131 of 289\n",
      "No\n",
      "http://www.lapresse.ca/la-tribune/justice-et-faits-divers/201301/11/01-4610382-un-camion-en-feu-sur-la-20.php 132 of 289\n",
      "No\n",
      "http://www.lapresse.ca/la-tribune/actualites/estrie-et-regions/201301/11/01-4610383-la-prevention-de-la-spa-semble-porter-ses-fruits.php 133 of 289\n",
      "No\n",
      "http://www.lapresse.ca/international/amerique-latine/201301/11/01-4610384-bresil-internement-obligatoire-pour-les-drogues-au-crack-a-sao-paulo.php 134 of 289\n",
      "No\n",
      "http://www.lapresse.ca/la-tribune/opinions/201301/11/01-4610385-protegez-vous-na-pas-tout-dit.php 135 of 289\n",
      "No\n",
      "http://www.lapresse.ca/sports/football/201301/11/01-4610386-rob-chudzinski-dirigera-les-browns.php 136 of 289\n",
      "No\n",
      "http://www.lapresse.ca/la-tribune/affaires/201301/11/01-4610388-nouveau-dg-a-la-chambre-de-commerce-de-fleurimont.php 137 of 289\n",
      "No\n",
      "http://www.lapresse.ca/le-nouvelliste/opinions/201301/11/01-4610389-assurance-emploi-gare-aux-prejuges.php 138 of 289\n",
      "No\n",
      "http://www.lapresse.ca/la-tribune/arts/201301/11/01-4610390-des-zombies-en-primeur-a-la-salle-le-parvis.php 139 of 289\n",
      "No\n",
      "http://www.lapresse.ca/le-droit/justice-et-faits-divers/201301/11/01-4610391-une-vingtaine-dagents-suspendus-ou-congedies-en-10-ans.php 140 of 289\n",
      "No\n",
      "http://www.lapresse.ca/le-droit/actualites/sante/201301/11/01-4610392-les-infirmieres-se-font-rares-en-outaouais.php 141 of 289\n",
      "No\n",
      "http://www.lapresse.ca/le-nouvelliste/actualites/vie-regionale/haute-mauricie/201301/11/01-4610393-redorer-limage-des-metiers-de-la-foret.php 142 of 289\n",
      "No\n",
      "http://www.lapresse.ca/le-quotidien/opinions/carrefour-du-lecteur/201301/11/01-4610394-un-pas-enorme.php 143 of 289\n",
      "No\n",
      "http://www.lapresse.ca/la-tribune/actualites/estrie-et-regions/201301/11/01-4610395-le-compte-de-taxes-en-hausse-de-055-a-stoke.php 144 of 289\n",
      "No\n",
      "http://www.lapresse.ca/sports/tennis/201301/11/01-4610396-marie-eve-pelletier-prend-sa-retraite.php 145 of 289\n",
      "No\n",
      "http://www.lapresse.ca/la-tribune/actualites/sherbrooke/201301/11/01-4610397-lhypersexualisation-des-jeunes-inquiete.php 146 of 289\n",
      "No\n",
      "http://www.lapresse.ca/le-quotidien/actualites/chroniques/environnement/201301/11/01-4610398-le-cycle-de-lenergie.php 147 of 289\n",
      "No\n",
      "http://www.lapresse.ca/le-droit/justice-et-faits-divers/201301/11/01-4610399-un-policier-dottawa-recompense.php 148 of 289\n",
      "No\n",
      "http://www.lapresse.ca/le-quotidien/actualites/201301/11/01-4610400-le-maire-souhaite-rebaptiser-la-175.php 149 of 289\n",
      "No\n",
      "http://www.lapresse.ca/le-droit/actualites/dossiers/100-evenements-historiques/201301/11/01-4610401-64-ladoption-de-la-loi-8.php 150 of 289\n",
      "No\n",
      "http://www.lapresse.ca/cinema/201301/11/01-4610402-gerard-depardieu-invite-a-joindre-le-parti-communiste-russe.php 151 of 289\n",
      "No\n",
      "http://www.lapresse.ca/le-droit/justice-et-faits-divers/201301/11/01-4610403-massotherapeute-accuse-dagression-sexuelle.php 152 of 289\n",
      "No\n",
      "http://www.lapresse.ca/le-nouvelliste/le-mag/claude-gill-du-bout-du-monde/201301/11/01-4610405-ca-y-est-jy-suis.php 153 of 289\n",
      "No\n",
      "http://www.lapresse.ca/le-droit/actualites/politique/fonction-publique/201301/11/01-4610406-reinstallation-des-militaires-un-programme-inadequat.php 154 of 289\n",
      "No\n",
      "http://www.lapresse.ca/sports/autres-sports/cyclisme/201301/11/01-4610407-le-laboratoire-suisse-nie-avoir-donne-les-cles-des-tests-a-armstrong.php 155 of 289\n",
      "No\n",
      "http://www.lapresse.ca/actualites/justice-et-affaires-criminelles/faits-divers/201301/11/01-4610408-un-lavallois-qui-a-tourne-avec-scorsese-recherche-pour-agression.php 156 of 289\n",
      "No\n",
      "http://www.lapresse.ca/voyage/trucs-conseils/201301/11/01-4610409-application-pour-ne-pas-bronzer-idiot.php 157 of 289\n",
      "No\n",
      "http://www.lapresse.ca/arts/television/201301/11/01-4610410-genevieve-rioux-entre-creer-et-procreer.php 158 of 289\n",
      "No\n",
      "http://www.lapresse.ca/la-tribune/actualites/estrie-et-regions/201301/11/01-4610411-une-personne-retrouvee-grace-a-un-outil-efficace.php 159 of 289\n",
      "No\n",
      "http://www.lapresse.ca/le-droit/actualites/politique/fonction-publique/201301/11/01-4610412-le-cas-dun-militaire-et-de-ses-cinq-enfants.php 160 of 289\n",
      "No\n",
      "http://www.lapresse.ca/sports/tennis/201301/11/01-4610413-agnieszka-radwanska-ecrase-dominika-cibulkova-en-finale.php 161 of 289\n",
      "No\n",
      "http://www.lapresse.ca/la-tribune/actualites/estrie-et-regions/201301/11/01-4610414-les-meilleurs-gymnastes-du-quebec-attendus-a-lac-megantic.php 162 of 289\n",
      "No\n",
      "http://www.lapresse.ca/le-droit/actualites/politique/politique-federale/201301/11/01-4610415-plc-la-candidature-de-bertschi-confirmee-aujourdhui.php 163 of 289\n",
      "No\n",
      "http://www.lapresse.ca/la-tribune/sports/201301/11/01-4610416-alarie-tardif-toujours-indecis.php 164 of 289\n",
      "No\n",
      "http://www.lapresse.ca/le-droit/actualites/actualites-regionales/201301/11/01-4610417-lhiver-est-bel-et-bien-lance-dans-la-region.php 165 of 289\n",
      "No\n",
      "http://www.lapresse.ca/le-quotidien/justice-et-faits-divers/201301/11/01-4610418-deux-individus-intoxiques.php 166 of 289\n",
      "No\n",
      "http://www.lapresse.ca/debats/votre-opinion/201301/11/01-4610419-armes-a-feu-films-et-jeux-video-pour-mousser-les-ventes.php 167 of 289\n",
      "No\n",
      "http://www.lapresse.ca/la-tribune/sports/201301/11/01-4610420-le-retour-dun-ancien-capitaine.php 168 of 289\n",
      "No\n",
      "http://www.lapresse.ca/actualites/politique/politique-canadienne/201301/11/01-4610421-les-premieres-nations-deviennent-une-priorite.php 169 of 289\n",
      "Yes\n",
      "http://www.lapresse.ca/le-droit/affaires/201301/11/01-4610423-premier-projet-de-condos-a-cantley.php 170 of 289\n",
      "No\n",
      "http://www.lapresse.ca/voyage/destinations/amerique-latine/salvador/201301/11/01-4610424-liberer-des-tortues-au-salvador.php 171 of 289\n",
      "No\n",
      "http://www.lapresse.ca/le-droit/affaires/201301/11/01-4610425-les-municipalites-de-lest-ontarien-veulent-une-reforme.php 172 of 289\n",
      "No\n",
      "http://www.lapresse.ca/sports/tennis/201301/11/01-4610426-david-ferrer-trop-fort-pour-gael-monfils.php 173 of 289\n",
      "No\n",
      "http://www.lapresse.ca/le-quotidien/actualites/201301/11/01-4610427-les-dettes-atteignent-pres-de-600-000-.php 174 of 289\n",
      "No\n",
      "http://www.lapresse.ca/le-droit/sports/chroniques/marc-brassard/201301/11/01-4610428-la-derniere-fois-un-desastre-a-ottawa.php 175 of 289\n",
      "No\n",
      "http://www.lapresse.ca/la-tribune/justice-et-faits-divers/201301/11/01-4610429-un-agresseur-sexuel-recherche-par-le-sps.php 176 of 289\n",
      "No\n",
      "http://www.lapresse.ca/sports/ski-et-surf/saut-a-ski/201301/11/01-4610430-janne-ahonen-veut-sortir-de-sa-retraite-pour-sotchi.php 177 of 289\n",
      "No\n",
      "http://www.lapresse.ca/cinema/ceremonies/golden-globes/201301/11/01-4610431-de-lor-pour-les-miserables-et-argo-.php 178 of 289\n",
      "No\n",
      "http://www.lapresse.ca/international/afrique/201301/11/01-4610432-accord-de-sortie-de-crise-en-centrafrique.php 179 of 289\n",
      "No\n",
      "http://www.lapresse.ca/le-droit/arts/201301/11/01-4610433-lindefinissable-charme-de-royal-wood.php 180 of 289\n",
      "No\n",
      "http://www.lapresse.ca/le-droit/justice-et-faits-divers/201301/11/01-4610435-avertissement-de-pluie-verglacante-en-vigueur.php 181 of 289\n",
      "No\n",
      "http://www.lapresse.ca/le-droit/sports/sport-regional/201301/11/01-4610436-cinq-olympiens-frapperont-le-volant-a-gatineau.php 182 of 289\n",
      "No\n",
      "http://www.lapresse.ca/cinema/ceremonies/oscars/201301/11/01-4610437-yan-england-sera-aussi-aux-oscars.php 183 of 289\n",
      "No\n",
      "http://www.lapresse.ca/international/europe/201301/11/01-4610438-un-portrait-officiel-pour-kate.php 184 of 289\n",
      "No\n",
      "http://www.lapresse.ca/le-droit/sports/senateurs-dottawa/201301/11/01-4610439-mike-lundin-surpris-de-lattention-quil-genere-a-ottawa.php 185 of 289\n",
      "No\n",
      "http://www.lapresse.ca/le-quotidien/actualites/201301/11/01-4610440-du-nouveau-a-la-sts.php 186 of 289\n",
      "No\n",
      "http://www.lapresse.ca/le-droit/sports/autres-sports/201301/11/01-4610441-de-la-tres-grande-visite-a-guertin.php 187 of 289\n",
      "No\n",
      "http://www.lapresse.ca/sports/201301/11/01-4610442-bobsleigh-kaillie-humphries-signe-une-autre-victoire.php 188 of 289\n",
      "No\n",
      "http://www.lapresse.ca/le-droit/sports/senateurs-dottawa/201301/11/01-4610443-les-senateurs-sur-les-ondes-de-cjfo.php 189 of 289\n",
      "No\n",
      "http://www.lapresse.ca/international/etats-unis/201301/11/01-4610444-afghanistan-pas-de-gis-apres-2014-sans-immunite.php 190 of 289\n",
      "No\n",
      "http://www.lapresse.ca/la-tribune/justice-et-faits-divers/201301/11/01-4610446-un-sixieme-sens-pour-reconnaitre-les-gens-malhonnetes.php 191 of 289\n",
      "No\n",
      "http://www.lapresse.ca/actualites/montreal/201301/11/01-4610448-montreal-cree-son-escouade-policiere-contre-la-collusion-et-la-corruption.php 192 of 289\n",
      "No\n",
      "http://www.lapresse.ca/arts/television/201301/11/01-4610449-les-choix-tele-du-11-12-et-13-janvier-2013.php 193 of 289\n",
      "No\n",
      "http://www.lapresse.ca/sports/football/201301/11/01-4610450-michael-strahan-et-warren-sapp-finalistes-au-temple.php 194 of 289\n",
      "No\n",
      "http://www.lapresse.ca/le-quotidien/sports/201301/11/01-4610451-linteret-des-equipes-demeure-vif.php 195 of 289\n",
      "No\n",
      "http://www.lapresse.ca/le-soleil/actualites/politique/201301/11/01-4610453-la-reunion-entre-harper-et-les-autochtones-se-deroule-sous-fond-de-controverse.php 196 of 289\n",
      "Yes\n",
      "http://www.lapresse.ca/international/amerique-latine/201301/11/01-4610455-les-cubains-pourront-voyager-des-lundi.php 197 of 289\n",
      "No\n",
      "http://www.lapresse.ca/la-tribune/justice-et-faits-divers/201301/11/01-4610456-trois-ans-et-demi-de-prison-pour-isabelle-laporte.php 198 of 289\n",
      "No\n",
      "http://www.lapresse.ca/le-soleil/justice-et-faits-divers/201301/11/01-4610459-controle-des-armes-la-nra-dit-non-a-obama.php 199 of 289\n",
      "No\n",
      "http://www.lapresse.ca/international/etats-unis/201301/11/01-4610460-armes-a-feu-la-nra-dit-non-a-obama-et-biden.php 200 of 289\n",
      "No\n",
      "http://www.lapresse.ca/le-droit/actualites/actualites-regionales/201301/11/01-4610462-decompte-lance-logo-devoile.php 201 of 289\n",
      "No\n",
      "http://www.lapresse.ca/arts/nouvelles/201301/11/01-4610463-superman-warner-bros-a-bel-et-bien-les-droits.php 202 of 289\n",
      "No\n",
      "http://www.lapresse.ca/international/dossiers/tuerie-a-newtown/201301/11/01-4610465-des-gardes-armes-dans-les-ecoles-de-plusieurs-etats.php 203 of 289\n",
      "No\n",
      "http://www.lapresse.ca/actualites/insolite/201301/11/01-4610466-il-sevade-de-la-clinique-pour-feter-ses-94-ans-a-la-biere.php 204 of 289\n",
      "No\n",
      "http://www.lapresse.ca/voyage/destinations/europe/croatie/201301/11/01-4610467-record-de-touristes-en-croatie.php 205 of 289\n",
      "No\n",
      "http://www.lapresse.ca/la-tribune/actualites/sherbrooke/201301/11/01-4610471-trois-autres-projets-en-haiti-pour-la-faculte-de-medecine.php 206 of 289\n",
      "No\n",
      "http://www.lapresse.ca/la-tribune/actualites/estrie-et-regions/201301/11/01-4610473-huit-estriens-gagnants-au-lotto-max.php 207 of 289\n",
      "No\n",
      "http://www.lapresse.ca/international/dossiers/tuerie-daurora/201301/11/01-4610474-linculpation-du-tireur-daurora-reportee-a-mars.php 208 of 289\n",
      "No\n",
      "http://www.lapresse.ca/arts/television/201301/11/01-4610475-the-carrie-diaries-sex-and-the-city-pour-ados.php 209 of 289\n",
      "No\n",
      "http://www.lapresse.ca/le-droit/actualites/politique/politique-federale/201301/11/01-4610476-rencontre-avec-le-pm-plus-dautochtones-comptent-boycotter.php 210 of 289\n",
      "No\n",
      "http://www.lapresse.ca/actualites/montreal/201301/11/01-4610477-manifestation-au-soutien-des-autochtones-a-montreal.php 211 of 289\n",
      "Yes\n",
      "http://www.lapresse.ca/le-quotidien/justice-et-faits-divers/201301/11/01-4610480-proces-ajourne-jusquen-avril.php 212 of 289\n",
      "No\n",
      "http://www.lapresse.ca/sports/football/201301/11/01-4610483-jonathan-hefney-sentend-avec-les-blue-bombers.php 213 of 289\n",
      "No\n",
      "http://www.lapresse.ca/actualites/dossiers/commission-charbonneau/201301/11/01-4610484-commission-charbonneau-michael-applebaum-ferait-lobjet-dune-enquete.php 214 of 289\n",
      "No\n",
      "http://www.lapresse.ca/cinema/festivals-de-cinema/berlinale/201301/11/01-4610485-binoche-deneuve-et-huppert-a-la-63e-berlinale.php 215 of 289\n",
      "No\n",
      "http://www.lapresse.ca/le-quotidien/actualites/201301/11/01-4610487-quatrieme-hausse-en-cinq-ans.php 216 of 289\n",
      "No\n",
      "http://www.lapresse.ca/le-quotidien/arts/201301/11/01-4610490-sylvain-cossette-se-fait-plaisir.php 217 of 289\n",
      "No\n",
      "http://www.lapresse.ca/le-quotidien/sports/201301/11/01-4610492-un-second-depart-pour-david-masse.php 218 of 289\n",
      "No\n",
      "http://www.lapresse.ca/international/afrique/201301/11/01-4610493-paris-appelle-ses-ressortissants-a-quitter-le-mali.php 219 of 289\n",
      "No\n",
      "http://www.lapresse.ca/le-nouvelliste/actualites/201301/11/01-4610496-victoire-pour-la-regie-dans-le-dossier-champlain.php 220 of 289\n",
      "No\n",
      "http://www.lapresse.ca/le-droit/sports/canadien-de-montreal/201301/11/01-4610498-en-sante-markov-est-pret.php 221 of 289\n",
      "No\n",
      "http://www.lapresse.ca/sports/hockey/201301/11/01-4610499-markov-je-me-sens-solide-sur-patins.php 222 of 289\n",
      "No\n",
      "http://www.lapresse.ca/le-quotidien/actualites/201301/11/01-4610502-petits-bonheurs.php 223 of 289\n",
      "No\n",
      "http://www.lapresse.ca/arts/musique/palmares-des-ventes/201301/11/01-4610504-palmares-des-ventes-de-cd-du-1er-au-8-janvier-2013.php 224 of 289\n",
      "No\n",
      "http://www.lapresse.ca/international/amerique-latine/201301/11/01-4610505-mexique-une-juge-prone-lannulation-de-la-condamnation-de-florence-cassez.php 225 of 289\n",
      "No\n",
      "http://www.lapresse.ca/arts/livres/201301/11/01-4610507-santiago-h-amigorena-atermoiement-de-luxe.php 226 of 289\n",
      "No\n",
      "http://www.lapresse.ca/sports/201301/11/01-4610508-vendee-globe-francois-gabart-creuse-lecart.php 227 of 289\n",
      "No\n",
      "http://www.lapresse.ca/le-soleil/justice-et-faits-divers/201301/11/01-4610509-90-jours-de-prison-pour-kevin-ouzilleau.php 228 of 289\n",
      "No\n",
      "http://www.lapresse.ca/voyage/trucs-conseils/201301/11/01-4610510-trakdot-un-systeme-personnel-de-suivi-de-bagages.php 229 of 289\n",
      "No\n",
      "http://www.lapresse.ca/sports/hockey/201301/11/01-4610515-ducks-scott-niedermayer-secondera-bruce-boudreau.php 230 of 289\n",
      "No\n",
      "http://www.lapresse.ca/international/asie-oceanie/201301/11/01-4610516-regain-des-feux-de-brousse-en-australie.php 231 of 289\n",
      "No\n",
      "http://www.lapresse.ca/cinema/201301/11/01-4610517-allegations-dagressions-nastassja-kinski-salue-le-courage-de-sa-demi-soeur.php 232 of 289\n",
      "No\n",
      "http://www.lapresse.ca/actualites/national/201301/11/01-4610520-des-autochtones-bloquent-un-chemin-de-fer-en-nouvelle-ecosse.php 233 of 289\n",
      "Yes\n",
      "http://www.lapresse.ca/cinema/201301/11/01-4610526-lactrice-mariangela-melato-est-decedee.php 234 of 289\n",
      "No\n",
      "http://www.lapresse.ca/voyage/nouvelles/201301/11/01-4610530-un-albertain-ramene-de-linde-un-serpent-dans-ses-valises.php 235 of 289\n",
      "No\n",
      "http://www.lapresse.ca/arts/livres/critiques-de-livres/201301/11/01-4610534-le-cri-de-lea-realiste-intime-et-social.php 236 of 289\n",
      "No\n",
      "http://www.lapresse.ca/le-soleil/actualites/sante/201301/11/01-4610537-les-ambulanciers-en-greve-concluent-une-entente-avec-quebec.php 237 of 289\n",
      "No\n",
      "http://www.lapresse.ca/arts/livres/critiques-de-livres/201301/11/01-4610538-psycho-boys-ames-sensibles-sabstenir.php 238 of 289\n",
      "No\n",
      "http://www.lapresse.ca/le-droit/actualites/ville-de-gatineau/201301/11/01-4610539-leglise-saint-paul-sous-le-pic-des-demolisseurs.php 239 of 289\n",
      "No\n",
      "http://www.lapresse.ca/le-quotidien/actualites/201301/11/01-4610540-une-huitieme-edition-incertaine.php 240 of 289\n",
      "No\n",
      "http://www.lapresse.ca/sports/ski-et-surf/surf-des-neiges/201301/11/01-4610542-les-surfeurs-canadiens-stoppes-en-qualifications.php 241 of 289\n",
      "No\n",
      "http://www.lapresse.ca/le-quotidien/justice-et-faits-divers/201301/11/01-4610543-deux-nouvelles-enquetes-confirmees.php 242 of 289\n",
      "No\n",
      "http://www.lapresse.ca/le-nouvelliste/actualites/201301/11/01-4610544-du-temps-doux-et-de-la-pluie-en-fin-de-semaine.php 243 of 289\n",
      "No\n",
      "http://www.lapresse.ca/le-droit/justice-et-faits-divers/201301/11/01-4610545-incendie-criminel-goudreau-est-trop-malade.php 244 of 289\n",
      "No\n",
      "http://www.lapresse.ca/la-tribune/actualites/chroniques/perspectives/201301/11/01-4610547-vous-allez-nous-payer-quand.php 245 of 289\n",
      "No\n",
      "http://www.lapresse.ca/vivre/sante/201301/11/01-4610548-grippe-hivernale-le-pic-est-passe-mais-lactivite-demeure-elevee.php 246 of 289\n",
      "No\n",
      "http://www.lapresse.ca/arts/livres/critiques-de-livres/201301/11/01-4610549-lepreuve-tome-1-le-labyrinthe-un-debut-enlevant.php 247 of 289\n",
      "No\n",
      "http://www.lapresse.ca/arts/livres/critiques-de-livres/201301/11/01-4610550-sans-consentement-juste-nuance-et-troublant.php 248 of 289\n",
      "No\n",
      "http://www.lapresse.ca/sports/hockey/201301/11/01-4610551-erik-cole-parle-encore-de-retraite.php 249 of 289\n",
      "No\n",
      "http://www.lapresse.ca/arts/livres/critiques-de-livres/201301/11/01-4610556-vague-de-froid-pour-reflechir-et-se-divertir.php 250 of 289\n",
      "No\n",
      "http://www.lapresse.ca/le-droit/actualites/ville-de-gatineau/201301/11/01-4610557-gatineau-la-revision-des-depenses-presentee-au-lac-a-lepaule.php 251 of 289\n",
      "No\n",
      "http://www.lapresse.ca/actualites/national/201301/11/01-4610558-entente-de-principe-entre-quebec-et-les-ambulanciers.php 252 of 289\n",
      "No\n",
      "http://www.lapresse.ca/actualites/justice-et-affaires-criminelles/201301/11/01-4610559-double-meurtre-de-longueuil-une-occasion-daffaires-ratee-.php 253 of 289\n",
      "No\n",
      "http://www.lapresse.ca/actualites/montreal/201301/11/01-4610563-dezonage-douteux-lupac-sinteresse-a-applebaum.php 254 of 289\n",
      "No\n",
      "http://www.lapresse.ca/environnement/dossiers/changements-climatiques/201301/11/01-4610566-les-etats-unis-souffrent-deja-sous-le-nouveau-climat.php 255 of 289\n",
      "No\n",
      "http://www.lapresse.ca/international/afrique/201301/11/01-4610568-mali-washington-pourrait-appuyer-la-france-avec-des-drones.php 256 of 289\n",
      "No\n",
      "http://www.lapresse.ca/international/afrique/201301/11/01-4610570-armee-francaise-au-mali-le-chef-de-lunion-africaine-satisfait.php 257 of 289\n",
      "No\n",
      "http://www.lapresse.ca/vivre/urbania/201301/11/01-4610571-jose-breton-militant-pour-les-rondes.php 258 of 289\n",
      "No\n",
      "http://www.lapresse.ca/le-nouvelliste/actualites/201301/11/01-4610573-le-quartier-general-de-la-cam-touche-par-la-pyrrhotite.php 259 of 289\n",
      "No\n",
      "http://www.lapresse.ca/la-tribune/justice-et-faits-divers/201301/11/01-4610574-la-place-de-nadia-fortin-nest-pas-en-prison-croit-dan-bigras.php 260 of 289\n",
      "No\n",
      "http://www.lapresse.ca/sports/ski-et-surf/ski-acrobatique/201301/11/01-4610575-ski-acrobatique-sprint-final-des-canadiens-en-vue-des-jeux-de-sotchi.php 261 of 289\n",
      "No\n",
      "http://www.lapresse.ca/sports/hockey/201301/11/01-4610576-un-lock-out-stupide-affirme-ryan-miller.php 262 of 289\n",
      "No\n",
      "http://www.lapresse.ca/sports/autres-sports/ski-et-surf/201301/11/01-4610578-biathlon-miriam-goessner-obtient-sa-3e-victoire.php 263 of 289\n",
      "No\n",
      "http://www.lapresse.ca/international/amerique-latine/201301/11/01-4610579-kirchner-humala-et-maduro-au-chevet-de-chavez-a-la-havane.php 264 of 289\n",
      "No\n",
      "http://www.lapresse.ca/sports/hockey/201301/11/01-4610583-les-billets-du-canadien-en-vente-dimanche-midi.php 265 of 289\n",
      "No\n",
      "http://www.lapresse.ca/actualites/national/201301/11/01-4610584-informations-personnelles-sur-des-citoyens-a-nouveau-egarees.php 266 of 289\n",
      "No\n",
      "http://www.lapresse.ca/vivre/sexualite/201301/11/01-4610586-lindustrie-porno-americaine-porte-plainte-contre-le-preservatif-obligatoire.php 267 of 289\n",
      "No\n",
      "http://www.lapresse.ca/environnement/climat/201301/11/01-4610589-la-temperature-moyenne-aux-e-u-pourrait-monter-de-5-degres-dici-2100.php 268 of 289\n",
      "No\n",
      "http://www.lapresse.ca/sports/golf/201301/11/01-4610595-la-recrue-russell-henley-prend-les-commandes-de-lomnium-sony.php 269 of 289\n",
      "No\n",
      "http://www.lapresse.ca/le-soleil/affaires/les-regions/201301/11/01-4610601-aeroport-prive-de-neuville-les-opposants-iront-en-appel.php 270 of 289\n",
      "No\n",
      "http://www.lapresse.ca/international/afrique/201301/11/01-4610603-mali-le-canada-ne-restera-pas-insensible-dit-le-president-de-lunion-africaine.php 271 of 289\n",
      "No\n",
      "http://www.lapresse.ca/international/moyen-orient/201301/11/01-4610609-un-palestinien-tue-par-larmee-israelienne-a-gaza.php 272 of 289\n",
      "No\n",
      "http://www.lapresse.ca/le-soleil/actualites/la-capitale/201301/11/01-4610616-soiree-reconnaissance-lopposition-deplore-labsence-du-maire-labeaume.php 273 of 289\n",
      "No\n",
      "http://www.lapresse.ca/actualites/insolite/201301/11/01-4610622-naissance-de-sextuples-9-enfants-a-31-ans.php 274 of 289\n",
      "No\n",
      "http://www.lapresse.ca/sports/ski-et-surf/surf-des-neiges/201301/11/01-4610624-maxence-parrot-termine-6e-en-slopestyle-a-copper-mountain.php 275 of 289\n",
      "No\n",
      "http://www.lapresse.ca/international/dossiers/crise-dans-le-monde-arabe/guerre-civile-en-syrie/201301/11/01-4610628-syrie-50-pays-reclament-limplication-de-la-cpi.php 276 of 289\n",
      "No\n",
      "http://www.lapresse.ca/arts/musique/201301/11/01-4610629-le-guitariste-qui-accompagnait-elvis-presley-est-decede.php 277 of 289\n",
      "No\n",
      "http://www.lapresse.ca/international/afrique/201301/11/01-4610632-mali-paris-presse-lonu-de-deployer-la-force-internationale.php 278 of 289\n",
      "No\n",
      "http://www.lapresse.ca/la-tribune/201301/11/01-4610634-le-phoenix-deborde-contre-les-sagueneens.php 279 of 289\n",
      "No\n",
      "http://www.lapresse.ca/sports/autres-sports/basketball/201301/11/01-4610636-les-raptors-battent-facilement-les-bobcats.php 280 of 289\n",
      "No\n",
      "http://www.lapresse.ca/sports/tennis/201301/11/01-4610638-ferrer-remporte-lomnium-heineken-pour-la-4e-fois.php 281 of 289\n",
      "No\n",
      "http://www.lapresse.ca/le-nouvelliste/sports/hockey-junior/201301/11/01-4610643-les-cataractes-blanchissent-les-remparts-4-0.php 282 of 289\n",
      "No\n",
      "http://www.lapresse.ca/voyage/destinations/quebec/montreal/201301/11/01-4610646-de-la-peche-sur-glace-dans-le-vieux-port.php 283 of 289\n",
      "No\n",
      "http://www.lapresse.ca/sports/hockey-junior/201301/11/01-4610649-larmada-sincline-devant-les-mooseheads.php 284 of 289\n",
      "No\n",
      "http://www.lapresse.ca/sports/hockey/201301/11/01-4610651-les-bulldogs-sinclinent-devant-les-americans.php 285 of 289\n",
      "No\n",
      "http://www.lapresse.ca/sports/tennis/201301/11/01-4610662-stephanie-dubois-ne-sera-pas-des-internationaux-daustralie.php 286 of 289\n",
      "No\n",
      "http://www.lapresse.ca/la-tribune/actualites/sherbrooke/201301/11/01-4610669-un-partenariat-inspirant-aux-residences-monchenou.php 287 of 289\n",
      "No\n",
      "http://www.lapresse.ca/le-droit/actualites/vie-communautaire/201301/14/01-4611048-collecte-de-sang-fructueuse.php 288 of 289\n",
      "No\n",
      "http://www.lapresse.ca/le-droit/actualites/vie-communautaire/201301/14/01-4611053-bourses-dexcellence.php 289 of 289\n",
      "No\n"
     ]
    }
   ],
   "source": [
    "article_data_list = []\n",
    "\n",
    "for x in range(len(php_list)):\n",
    "    article_url = newspaper.Article(php_list[x], language ='fr')\n",
    "    article_url.download()\n",
    "    str_html = article.html\n",
    "    article_url.parse()\n",
    "\n",
    "    keyws = article_url.meta_keywords\n",
    "    authors = article_url.authors\n",
    "    \n",
    "    if len(authors) == 0 :\n",
    "        authors = None\n",
    "        \n",
    "    text = article_url.text\n",
    "    if 'IDLE NO MORE' in str(text).upper():\n",
    "        print ('Link {} of {} : True'.format(x+1, len(php_list)))\n",
    "        metadata = article_url.meta_data\n",
    "        title = article_url.title\n",
    "        metades = article_url.meta_description\n",
    "\n",
    "        data_array = {'date' : array_of_time[41], 'authors' : authors, 'title' : title, 'text' : text, 'meta_keywords' : keyws,\n",
    "                 'meta_description' : metades, 'meta_data' :metadata, 'url' : php_list[x]}\n",
    "        article_data_list.append(pd.DataFrame(index=['LP_{}{}{}-{}'.format(array_of_time[41].year,array_of_time[41].month,array_of_time[41].day,x)],\n",
    "                                          columns = 'authors date meta_data meta_description meta_keywords text title url'.split(), data = pd.Series(data_array).values.reshape(1,8)))\n",
    "    else:\n",
    "        print ('Link {} of {} : False'.format(x+1, len(php_list)))"
   ]
  },
  {
   "cell_type": "code",
   "execution_count": 108,
   "metadata": {
    "collapsed": false,
    "scrolled": false
   },
   "outputs": [
    {
     "data": {
      "text/html": [
       "<div>\n",
       "<table border=\"1\" class=\"dataframe\">\n",
       "  <thead>\n",
       "    <tr style=\"text-align: right;\">\n",
       "      <th></th>\n",
       "      <th>authors</th>\n",
       "      <th>date</th>\n",
       "      <th>meta_data</th>\n",
       "      <th>meta_description</th>\n",
       "      <th>meta_keywords</th>\n",
       "      <th>text</th>\n",
       "      <th>title</th>\n",
       "      <th>url</th>\n",
       "    </tr>\n",
       "  </thead>\n",
       "  <tbody>\n",
       "    <tr>\n",
       "      <th>LP_2013111-7</th>\n",
       "      <td>None</td>\n",
       "      <td>2013-01-11 00:00:00</td>\n",
       "      <td>{'description': 'La campagne de protestations ...</td>\n",
       "      <td>La campagne de protestations Idle no more a un...</td>\n",
       "      <td>[François Cardinal]</td>\n",
       "      <td>La campagne de protestations Idle no more a un...</td>\n",
       "      <td>Les racines de la colère</td>\n",
       "      <td>http://www.lapresse.ca/debats/editoriaux/franc...</td>\n",
       "    </tr>\n",
       "    <tr>\n",
       "      <th>LP_2013111-26</th>\n",
       "      <td>None</td>\n",
       "      <td>2013-01-11 00:00:00</td>\n",
       "      <td>{'description': 'La Conférence régionale des é...</td>\n",
       "      <td>La Conférence régionale des élus (CRE) de la G...</td>\n",
       "      <td>[Québec - Le Soleil - Actualités - Internation...</td>\n",
       "      <td>(Pointe-à-la-Croix) La Conférence régionale de...</td>\n",
       "      <td>La CRE de la Gaspésie et des Îles appuie Idle ...</td>\n",
       "      <td>http://www.lapresse.ca/le-soleil/actualites/so...</td>\n",
       "    </tr>\n",
       "    <tr>\n",
       "      <th>LP_2013111-45</th>\n",
       "      <td>None</td>\n",
       "      <td>2013-01-11 00:00:00</td>\n",
       "      <td>{'description': 'On dira que Stephen Harper n'...</td>\n",
       "      <td>On dira que Stephen Harper n'avait pas vraimen...</td>\n",
       "      <td>[Chroniqueur, politique]</td>\n",
       "      <td>On dira que Stephen Harper n'avait pas vraimen...</td>\n",
       "      <td>Un autre rendez-vous de la dernière chance?</td>\n",
       "      <td>http://www.lapresse.ca/debats/chroniques/vince...</td>\n",
       "    </tr>\n",
       "    <tr>\n",
       "      <th>LP_2013111-168</th>\n",
       "      <td>None</td>\n",
       "      <td>2013-01-11 00:00:00</td>\n",
       "      <td>{'description': 'Puisqu'il craint une escalade...</td>\n",
       "      <td>Puisqu'il craint une escalade des tensions au ...</td>\n",
       "      <td>[Parti Conservateur, Parti Libéral, Bloc Québé...</td>\n",
       "      <td>(Ottawa) Puisqu'il craint une escalade des ten...</td>\n",
       "      <td>Les Premières nations deviennent une priorité</td>\n",
       "      <td>http://www.lapresse.ca/actualites/politique/po...</td>\n",
       "    </tr>\n",
       "    <tr>\n",
       "      <th>LP_2013111-195</th>\n",
       "      <td>None</td>\n",
       "      <td>2013-01-11 00:00:00</td>\n",
       "      <td>{'description': 'La réunion entre Stephen Harp...</td>\n",
       "      <td>La réunion entre Stephen Harper et des leaders...</td>\n",
       "      <td>[Québec - Le Soleil - Actualités - Internation...</td>\n",
       "      <td>La réunion entre Stephen Harper et des leaders...</td>\n",
       "      <td>La réunion entre Harper et les Autochtones se ...</td>\n",
       "      <td>http://www.lapresse.ca/le-soleil/actualites/po...</td>\n",
       "    </tr>\n",
       "    <tr>\n",
       "      <th>LP_2013111-210</th>\n",
       "      <td>None</td>\n",
       "      <td>2013-01-11 00:00:00</td>\n",
       "      <td>{'description': 'Quelques centaines d'Autochto...</td>\n",
       "      <td>Quelques centaines d'Autochtones et de sympath...</td>\n",
       "      <td>[La Presse]</td>\n",
       "      <td>Quelques centaines d'Autochtones et de sympath...</td>\n",
       "      <td>Manifestation au soutien des Autochtones à Mon...</td>\n",
       "      <td>http://www.lapresse.ca/actualites/montreal/201...</td>\n",
       "    </tr>\n",
       "    <tr>\n",
       "      <th>LP_2013111-232</th>\n",
       "      <td>None</td>\n",
       "      <td>2013-01-11 00:00:00</td>\n",
       "      <td>{'description': 'Une vingtaine de personnes on...</td>\n",
       "      <td>Une vingtaine de personnes ont bloqué vendredi...</td>\n",
       "      <td>[Actualités nationales]</td>\n",
       "      <td>Une vingtaine de personnes ont bloqué vendredi...</td>\n",
       "      <td>Des autochtones bloquent un chemin de fer en N...</td>\n",
       "      <td>http://www.lapresse.ca/actualites/national/201...</td>\n",
       "    </tr>\n",
       "  </tbody>\n",
       "</table>\n",
       "</div>"
      ],
      "text/plain": [
       "               authors                 date  \\\n",
       "LP_2013111-7      None  2013-01-11 00:00:00   \n",
       "LP_2013111-26     None  2013-01-11 00:00:00   \n",
       "LP_2013111-45     None  2013-01-11 00:00:00   \n",
       "LP_2013111-168    None  2013-01-11 00:00:00   \n",
       "LP_2013111-195    None  2013-01-11 00:00:00   \n",
       "LP_2013111-210    None  2013-01-11 00:00:00   \n",
       "LP_2013111-232    None  2013-01-11 00:00:00   \n",
       "\n",
       "                                                        meta_data  \\\n",
       "LP_2013111-7    {'description': 'La campagne de protestations ...   \n",
       "LP_2013111-26   {'description': 'La Conférence régionale des é...   \n",
       "LP_2013111-45   {'description': 'On dira que Stephen Harper n'...   \n",
       "LP_2013111-168  {'description': 'Puisqu'il craint une escalade...   \n",
       "LP_2013111-195  {'description': 'La réunion entre Stephen Harp...   \n",
       "LP_2013111-210  {'description': 'Quelques centaines d'Autochto...   \n",
       "LP_2013111-232  {'description': 'Une vingtaine de personnes on...   \n",
       "\n",
       "                                                 meta_description  \\\n",
       "LP_2013111-7    La campagne de protestations Idle no more a un...   \n",
       "LP_2013111-26   La Conférence régionale des élus (CRE) de la G...   \n",
       "LP_2013111-45   On dira que Stephen Harper n'avait pas vraimen...   \n",
       "LP_2013111-168  Puisqu'il craint une escalade des tensions au ...   \n",
       "LP_2013111-195  La réunion entre Stephen Harper et des leaders...   \n",
       "LP_2013111-210  Quelques centaines d'Autochtones et de sympath...   \n",
       "LP_2013111-232  Une vingtaine de personnes ont bloqué vendredi...   \n",
       "\n",
       "                                                    meta_keywords  \\\n",
       "LP_2013111-7                                  [François Cardinal]   \n",
       "LP_2013111-26   [Québec - Le Soleil - Actualités - Internation...   \n",
       "LP_2013111-45                            [Chroniqueur, politique]   \n",
       "LP_2013111-168  [Parti Conservateur, Parti Libéral, Bloc Québé...   \n",
       "LP_2013111-195  [Québec - Le Soleil - Actualités - Internation...   \n",
       "LP_2013111-210                                        [La Presse]   \n",
       "LP_2013111-232                            [Actualités nationales]   \n",
       "\n",
       "                                                             text  \\\n",
       "LP_2013111-7    La campagne de protestations Idle no more a un...   \n",
       "LP_2013111-26   (Pointe-à-la-Croix) La Conférence régionale de...   \n",
       "LP_2013111-45   On dira que Stephen Harper n'avait pas vraimen...   \n",
       "LP_2013111-168  (Ottawa) Puisqu'il craint une escalade des ten...   \n",
       "LP_2013111-195  La réunion entre Stephen Harper et des leaders...   \n",
       "LP_2013111-210  Quelques centaines d'Autochtones et de sympath...   \n",
       "LP_2013111-232  Une vingtaine de personnes ont bloqué vendredi...   \n",
       "\n",
       "                                                            title  \\\n",
       "LP_2013111-7                             Les racines de la colère   \n",
       "LP_2013111-26   La CRE de la Gaspésie et des Îles appuie Idle ...   \n",
       "LP_2013111-45         Un autre rendez-vous de la dernière chance?   \n",
       "LP_2013111-168      Les Premières nations deviennent une priorité   \n",
       "LP_2013111-195  La réunion entre Harper et les Autochtones se ...   \n",
       "LP_2013111-210  Manifestation au soutien des Autochtones à Mon...   \n",
       "LP_2013111-232  Des autochtones bloquent un chemin de fer en N...   \n",
       "\n",
       "                                                              url  \n",
       "LP_2013111-7    http://www.lapresse.ca/debats/editoriaux/franc...  \n",
       "LP_2013111-26   http://www.lapresse.ca/le-soleil/actualites/so...  \n",
       "LP_2013111-45   http://www.lapresse.ca/debats/chroniques/vince...  \n",
       "LP_2013111-168  http://www.lapresse.ca/actualites/politique/po...  \n",
       "LP_2013111-195  http://www.lapresse.ca/le-soleil/actualites/po...  \n",
       "LP_2013111-210  http://www.lapresse.ca/actualites/montreal/201...  \n",
       "LP_2013111-232  http://www.lapresse.ca/actualites/national/201...  "
      ]
     },
     "execution_count": 108,
     "metadata": {},
     "output_type": "execute_result"
    }
   ],
   "source": [
    "df = pd.concat(article_data_list,axis=0)\n",
    "df"
   ]
  },
  {
   "cell_type": "markdown",
   "metadata": {
    "collapsed": false,
    "scrolled": false
   },
   "source": [
    "###### <span style=\"color: black; font-family: Babas Neue; font-size: 2em;\">6. Traitement et exportation</span>"
   ]
  },
  {
   "cell_type": "markdown",
   "metadata": {
    "collapsed": false,
    "scrolled": false
   },
   "source": [
    "<div style=\"text-align: justify\"> <span style=\"color: black; font-family: Babas Neue; font-size: 1em;\"> En guise de conclusion, nous allons effectuer quelques changements à notre base de données. Premièrement, le module newspaper - par sa faute ou par la différence de protocole chez La Presse -, n'a pas enregistrer aucune donnée sur les auteurs. Néanmoins, nous pouvons retirer cette information des méta-données, que nous avons stocké. Nous allons remplir la colonne des auteurs en se fiant aux méta-données. Deuxièment, les dates contiennent des informations sur les heures, qui non seulement ne sont pas pertinentes pour nous, mais sont également erronées (ce n'est pas à 00:00 que l'article a été publié). Nous les enlèverons. Enfin, nous allons enregistrer notre base de données, en format .csv que je privilégie, mais également en format .xls."
   ]
  },
  {
   "cell_type": "code",
   "execution_count": 109,
   "metadata": {
    "collapsed": false,
    "scrolled": false
   },
   "outputs": [],
   "source": [
    "l = []\n",
    "for x in range(len(df)):\n",
    "    l.append(df['meta_data'][x]['og']['title'].split(' | ')[1].split(',')[0])\n",
    "    df.ix[x,'date'] = str(df.ix[x,'date']).split()[0]\n",
    "    \n",
    "df['authors'] = l"
   ]
  },
  {
   "cell_type": "code",
   "execution_count": 110,
   "metadata": {
    "collapsed": false
   },
   "outputs": [
    {
     "data": {
      "text/html": [
       "<div>\n",
       "<table border=\"1\" class=\"dataframe\">\n",
       "  <thead>\n",
       "    <tr style=\"text-align: right;\">\n",
       "      <th></th>\n",
       "      <th>authors</th>\n",
       "      <th>date</th>\n",
       "      <th>meta_data</th>\n",
       "      <th>meta_description</th>\n",
       "      <th>meta_keywords</th>\n",
       "      <th>text</th>\n",
       "      <th>title</th>\n",
       "      <th>url</th>\n",
       "    </tr>\n",
       "  </thead>\n",
       "  <tbody>\n",
       "    <tr>\n",
       "      <th>LP_2013111-7</th>\n",
       "      <td>François Cardinal</td>\n",
       "      <td>2013-01-11</td>\n",
       "      <td>{'description': 'La campagne de protestations ...</td>\n",
       "      <td>La campagne de protestations Idle no more a un...</td>\n",
       "      <td>[François Cardinal]</td>\n",
       "      <td>La campagne de protestations Idle no more a un...</td>\n",
       "      <td>Les racines de la colère</td>\n",
       "      <td>http://www.lapresse.ca/debats/editoriaux/franc...</td>\n",
       "    </tr>\n",
       "    <tr>\n",
       "      <th>LP_2013111-26</th>\n",
       "      <td>Gilles Gagné</td>\n",
       "      <td>2013-01-11</td>\n",
       "      <td>{'description': 'La Conférence régionale des é...</td>\n",
       "      <td>La Conférence régionale des élus (CRE) de la G...</td>\n",
       "      <td>[Québec - Le Soleil - Actualités - Internation...</td>\n",
       "      <td>(Pointe-à-la-Croix) La Conférence régionale de...</td>\n",
       "      <td>La CRE de la Gaspésie et des Îles appuie Idle ...</td>\n",
       "      <td>http://www.lapresse.ca/le-soleil/actualites/so...</td>\n",
       "    </tr>\n",
       "    <tr>\n",
       "      <th>LP_2013111-45</th>\n",
       "      <td>Vincent Marissal</td>\n",
       "      <td>2013-01-11</td>\n",
       "      <td>{'description': 'On dira que Stephen Harper n'...</td>\n",
       "      <td>On dira que Stephen Harper n'avait pas vraimen...</td>\n",
       "      <td>[Chroniqueur, politique]</td>\n",
       "      <td>On dira que Stephen Harper n'avait pas vraimen...</td>\n",
       "      <td>Un autre rendez-vous de la dernière chance?</td>\n",
       "      <td>http://www.lapresse.ca/debats/chroniques/vince...</td>\n",
       "    </tr>\n",
       "    <tr>\n",
       "      <th>LP_2013111-168</th>\n",
       "      <td>Joël-Denis Bellavance</td>\n",
       "      <td>2013-01-11</td>\n",
       "      <td>{'description': 'Puisqu'il craint une escalade...</td>\n",
       "      <td>Puisqu'il craint une escalade des tensions au ...</td>\n",
       "      <td>[Parti Conservateur, Parti Libéral, Bloc Québé...</td>\n",
       "      <td>(Ottawa) Puisqu'il craint une escalade des ten...</td>\n",
       "      <td>Les Premières nations deviennent une priorité</td>\n",
       "      <td>http://www.lapresse.ca/actualites/politique/po...</td>\n",
       "    </tr>\n",
       "    <tr>\n",
       "      <th>LP_2013111-195</th>\n",
       "      <td>Lina Dib et Stéphanie Marin</td>\n",
       "      <td>2013-01-11</td>\n",
       "      <td>{'description': 'La réunion entre Stephen Harp...</td>\n",
       "      <td>La réunion entre Stephen Harper et des leaders...</td>\n",
       "      <td>[Québec - Le Soleil - Actualités - Internation...</td>\n",
       "      <td>La réunion entre Stephen Harper et des leaders...</td>\n",
       "      <td>La réunion entre Harper et les Autochtones se ...</td>\n",
       "      <td>http://www.lapresse.ca/le-soleil/actualites/po...</td>\n",
       "    </tr>\n",
       "    <tr>\n",
       "      <th>LP_2013111-210</th>\n",
       "      <td>Philippe Teisceira-Lessard</td>\n",
       "      <td>2013-01-11</td>\n",
       "      <td>{'description': 'Quelques centaines d'Autochto...</td>\n",
       "      <td>Quelques centaines d'Autochtones et de sympath...</td>\n",
       "      <td>[La Presse]</td>\n",
       "      <td>Quelques centaines d'Autochtones et de sympath...</td>\n",
       "      <td>Manifestation au soutien des Autochtones à Mon...</td>\n",
       "      <td>http://www.lapresse.ca/actualites/montreal/201...</td>\n",
       "    </tr>\n",
       "    <tr>\n",
       "      <th>LP_2013111-232</th>\n",
       "      <td>National</td>\n",
       "      <td>2013-01-11</td>\n",
       "      <td>{'description': 'Une vingtaine de personnes on...</td>\n",
       "      <td>Une vingtaine de personnes ont bloqué vendredi...</td>\n",
       "      <td>[Actualités nationales]</td>\n",
       "      <td>Une vingtaine de personnes ont bloqué vendredi...</td>\n",
       "      <td>Des autochtones bloquent un chemin de fer en N...</td>\n",
       "      <td>http://www.lapresse.ca/actualites/national/201...</td>\n",
       "    </tr>\n",
       "  </tbody>\n",
       "</table>\n",
       "</div>"
      ],
      "text/plain": [
       "                                    authors        date  \\\n",
       "LP_2013111-7              François Cardinal  2013-01-11   \n",
       "LP_2013111-26                  Gilles Gagné  2013-01-11   \n",
       "LP_2013111-45              Vincent Marissal  2013-01-11   \n",
       "LP_2013111-168        Joël-Denis Bellavance  2013-01-11   \n",
       "LP_2013111-195  Lina Dib et Stéphanie Marin  2013-01-11   \n",
       "LP_2013111-210   Philippe Teisceira-Lessard  2013-01-11   \n",
       "LP_2013111-232                     National  2013-01-11   \n",
       "\n",
       "                                                        meta_data  \\\n",
       "LP_2013111-7    {'description': 'La campagne de protestations ...   \n",
       "LP_2013111-26   {'description': 'La Conférence régionale des é...   \n",
       "LP_2013111-45   {'description': 'On dira que Stephen Harper n'...   \n",
       "LP_2013111-168  {'description': 'Puisqu'il craint une escalade...   \n",
       "LP_2013111-195  {'description': 'La réunion entre Stephen Harp...   \n",
       "LP_2013111-210  {'description': 'Quelques centaines d'Autochto...   \n",
       "LP_2013111-232  {'description': 'Une vingtaine de personnes on...   \n",
       "\n",
       "                                                 meta_description  \\\n",
       "LP_2013111-7    La campagne de protestations Idle no more a un...   \n",
       "LP_2013111-26   La Conférence régionale des élus (CRE) de la G...   \n",
       "LP_2013111-45   On dira que Stephen Harper n'avait pas vraimen...   \n",
       "LP_2013111-168  Puisqu'il craint une escalade des tensions au ...   \n",
       "LP_2013111-195  La réunion entre Stephen Harper et des leaders...   \n",
       "LP_2013111-210  Quelques centaines d'Autochtones et de sympath...   \n",
       "LP_2013111-232  Une vingtaine de personnes ont bloqué vendredi...   \n",
       "\n",
       "                                                    meta_keywords  \\\n",
       "LP_2013111-7                                  [François Cardinal]   \n",
       "LP_2013111-26   [Québec - Le Soleil - Actualités - Internation...   \n",
       "LP_2013111-45                            [Chroniqueur, politique]   \n",
       "LP_2013111-168  [Parti Conservateur, Parti Libéral, Bloc Québé...   \n",
       "LP_2013111-195  [Québec - Le Soleil - Actualités - Internation...   \n",
       "LP_2013111-210                                        [La Presse]   \n",
       "LP_2013111-232                            [Actualités nationales]   \n",
       "\n",
       "                                                             text  \\\n",
       "LP_2013111-7    La campagne de protestations Idle no more a un...   \n",
       "LP_2013111-26   (Pointe-à-la-Croix) La Conférence régionale de...   \n",
       "LP_2013111-45   On dira que Stephen Harper n'avait pas vraimen...   \n",
       "LP_2013111-168  (Ottawa) Puisqu'il craint une escalade des ten...   \n",
       "LP_2013111-195  La réunion entre Stephen Harper et des leaders...   \n",
       "LP_2013111-210  Quelques centaines d'Autochtones et de sympath...   \n",
       "LP_2013111-232  Une vingtaine de personnes ont bloqué vendredi...   \n",
       "\n",
       "                                                            title  \\\n",
       "LP_2013111-7                             Les racines de la colère   \n",
       "LP_2013111-26   La CRE de la Gaspésie et des Îles appuie Idle ...   \n",
       "LP_2013111-45         Un autre rendez-vous de la dernière chance?   \n",
       "LP_2013111-168      Les Premières nations deviennent une priorité   \n",
       "LP_2013111-195  La réunion entre Harper et les Autochtones se ...   \n",
       "LP_2013111-210  Manifestation au soutien des Autochtones à Mon...   \n",
       "LP_2013111-232  Des autochtones bloquent un chemin de fer en N...   \n",
       "\n",
       "                                                              url  \n",
       "LP_2013111-7    http://www.lapresse.ca/debats/editoriaux/franc...  \n",
       "LP_2013111-26   http://www.lapresse.ca/le-soleil/actualites/so...  \n",
       "LP_2013111-45   http://www.lapresse.ca/debats/chroniques/vince...  \n",
       "LP_2013111-168  http://www.lapresse.ca/actualites/politique/po...  \n",
       "LP_2013111-195  http://www.lapresse.ca/le-soleil/actualites/po...  \n",
       "LP_2013111-210  http://www.lapresse.ca/actualites/montreal/201...  \n",
       "LP_2013111-232  http://www.lapresse.ca/actualites/national/201...  "
      ]
     },
     "execution_count": 110,
     "metadata": {},
     "output_type": "execute_result"
    }
   ],
   "source": [
    "df"
   ]
  },
  {
   "cell_type": "code",
   "execution_count": 113,
   "metadata": {
    "collapsed": false
   },
   "outputs": [],
   "source": [
    "df.to_excel('lapresse_11janv.xls')\n",
    "df.to_csv('lapresse_11janv.csv')"
   ]
  },
  {
   "cell_type": "code",
   "execution_count": null,
   "metadata": {
    "collapsed": true
   },
   "outputs": [],
   "source": []
  }
 ],
 "metadata": {
  "kernelspec": {
   "display_name": "Python 3",
   "language": "python",
   "name": "python3"
  },
  "language_info": {
   "codemirror_mode": {
    "name": "ipython",
    "version": 3
   },
   "file_extension": ".py",
   "mimetype": "text/x-python",
   "name": "python",
   "nbconvert_exporter": "python",
   "pygments_lexer": "ipython3",
   "version": "3.6.0"
  }
 },
 "nbformat": 4,
 "nbformat_minor": 2
}
