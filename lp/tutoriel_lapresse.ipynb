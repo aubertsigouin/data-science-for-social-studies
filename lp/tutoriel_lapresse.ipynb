{
 "cells": [
  {
   "cell_type": "markdown",
   "metadata": {
    "slideshow": {
     "slide_type": "slide"
    }
   },
   "source": [
    "# <span style=\"color: black; font-family: Babas Neue; font-size: 3em;\">Tutoriel 1.0</span>\n",
    "<hr height=\"3\" style=\"color:purple;background-color:purple;\"></hr>\n",
    "<span style=\"color: black; font-family: Babas Neue; font-size: 1em;\">Extraction d'articles depuis les archives de La Presse</span>\n",
    "\n",
    "<br>\n",
    "<div style=\"text-align: justify\"> <span style=\"color: black; font-family: Babas Neue; font-size: 1em;\">&nbsp;&nbsp;&nbsp;&nbsp;&nbsp;&nbsp;\n",
    "Bienvenue à notre premier tutoriel! Nous travaillerons ici sur un script qui nous permettra de parcourir les archives du quotidien La Presse. Nous avons choisi La Presse pour notre tutoriel car ses archives respectent une forme standard, ce qui permet au code d'être facilement repensé pour un autre projet d'extraction de données. <br><br>\n",
    "\n",
    "&nbsp;&nbsp;&nbsp;&nbsp;&nbsp;&nbsp;\n",
    "Pour mener à bien ce projet, nous utiliserons le langage python à l'intérieur de l'environnement Anaconda. Anaconda est un écosystème d'applications, de paquets et de modules pour les sciences des données. Il est fort probable que ce que vous recherchez soit contenu dans l'environnement Anaconda de base, mais, au besoin, il est toujours possible d'installer manuellement un module ou une application.\n",
    "<br><br>\n",
    "&nbsp;&nbsp;&nbsp;&nbsp;&nbsp;&nbsp;Si vous souhaitez exécuter les codes par vous-même et explorer, veuillez installer la suite Anaconda pour python 3.6. Sinon, vous pouvez aussi lire ce fichier - sans l'exécuter - comme une sorte de rapport, car j'y ai intégré des commentaires ainsi que les résultats des scripts.\n",
    "</span></div>"
   ]
  },
  {
   "cell_type": "markdown",
   "metadata": {
    "slideshow": {
     "slide_type": "slide"
    }
   },
   "source": [
    "<div style=\"text-align: justify\"> <span style=\"color: black; font-family: Babas Neue; font-size: 1em;\">&nbsp;&nbsp;&nbsp;&nbsp;&nbsp;&nbsp;\n",
    "Pour notre projet, nous utiliserons les modules suivants (venant par défaut avec l'environnement anaconda)<br><br>\n",
    "- urllib.request (Pour envoyer les requêtes URL)<br><br>\n",
    "- BeautifulSoup4 (Abbrévié 'bs4'. Sert à traiter le contenu URL)<br><br>\n",
    "- pandas (Analyse de bases de données en langage python. L'équivalent d'Excel en ligne de commande. Utilisé pour toutes les manipulations de bases de données)<br><br>\n",
    "- numpy (Programmation scientifique. Pandas est construit par-dessus l'infrastructure de NumPy, mais ce dernier contient beaucoup de fonctions et algorithmes qui lui sont propres.)\n",
    "</span></div>\n",
    "\n",
    "<div style=\"text-align: justify\"> <span style=\"color: black; font-family: Babas Neue; font-size: 1em;\">&nbsp;&nbsp;&nbsp;&nbsp;&nbsp;&nbsp;\n",
    "De plus, nous utiliserons le module newspaper, développé en open-source par Lucas Ou-Yang. Celui-ci ne fait pas parti de l'écosystème Anaconda, nous devrons donc l'installer manuellement. Nous pourrions créer un script de *data mining* sans utiliser le module newspaper, mais celui-ci va nous sauver du temps et alléger le processus de codage. <br><br></span></div>"
   ]
  },
  {
   "cell_type": "markdown",
   "metadata": {
    "slideshow": {
     "slide_type": "slide"
    }
   },
   "source": [
    "<div style=\"text-align: justify\"> <span style=\"color: black; font-family: Babas Neue; font-size: 1em;\"> Voici les grandes étapes de notre extraction :<br><br>1) Générer une liste de dates. Dans notre cas, il s'agit des jours entre le 1er décembre 2012 et la dernière journée de juin 2013. <br>2) Générer, par une boucle, une liste de liens vers les archives. Pour se faire, nous partirons de la racine des archives et nous allons ajouter les extensions pour chaque journée. <br> 3) Générer, à partir de cette liste, une autre liste contenant, elle, liens vers les articles. <br> 4) Interroger les articles et en extraire le contenu lorsque désiré. C'est ici que nous utiliserons le module newspaper.</span></div>"
   ]
  },
  {
   "cell_type": "markdown",
   "metadata": {
    "slideshow": {
     "slide_type": "slide"
    }
   },
   "source": [
    "###### <span style=\"color: black; font-family: Babas Neue; font-size: 2em;\">0.0 Exemple</span>"
   ]
  },
  {
   "cell_type": "markdown",
   "metadata": {
    "slideshow": {
     "slide_type": "slide"
    }
   },
   "source": [
    "<div style=\"text-align: justify\"> <span style=\"color: black; font-family: Babas Neue; font-size: 1em;\"> Ce document contient des zones de texte (comme ici), des zones de script (vous pouvez les voir avec une invite de commande 'In [x]') située sur la gauche. La réponse (*output*) du script figure en bas des zones de script.</span></div>"
   ]
  },
  {
   "cell_type": "markdown",
   "metadata": {
    "slideshow": {
     "slide_type": "slide"
    }
   },
   "source": [
    "###### <div style=\"text-align: justify\"> <span style=\"color: black; font-family: Babas Neue; font-size: 1em;\"> Afficher la version de la suite anaconda (Zone de textes)</span></div>"
   ]
  },
  {
   "cell_type": "code",
   "execution_count": 7,
   "metadata": {
    "collapsed": false,
    "scrolled": true,
    "slideshow": {
     "slide_type": "subslide"
    }
   },
   "outputs": [
    {
     "name": "stdout",
     "output_type": "stream",
     "text": [
      "conda 4.3.23\r\n"
     ]
    }
   ],
   "source": [
    "!conda --version # ZONE DE SCRIPTS"
   ]
  },
  {
   "cell_type": "markdown",
   "metadata": {
    "slideshow": {
     "slide_type": "subslide"
    }
   },
   "source": [
    "###### <div style=\"text-align: justify\"> <span style=\"color: black; font-family: Babas Neue; font-size: 1em;\"> Afficher le résultat de l'équation.</span></div>"
   ]
  },
  {
   "cell_type": "markdown",
   "metadata": {
    "slideshow": {
     "slide_type": "subslide"
    }
   },
   "source": [
    "<div style=\"text-align: justify\"> <span style=\"color: black; font-family: Babas Neue; font-size: 1em;\"><br>Dans la zone de scripts, les mots suivis par un # sont des commentaires pour vous aider à comprendre. Ils n'ont aucun effet sur votre code.</span></div>"
   ]
  },
  {
   "cell_type": "code",
   "execution_count": 8,
   "metadata": {
    "collapsed": false,
    "scrolled": false,
    "slideshow": {
     "slide_type": "subslide"
    }
   },
   "outputs": [
    {
     "name": "stdout",
     "output_type": "stream",
     "text": [
      "21.66666666666667\n"
     ]
    }
   ],
   "source": [
    "x = 10                        # Créer une variable 'x' avec le nombre entier 10 comme valeur\n",
    "equation_ex = x*(4+1/(2*3)-2) # Les opérateurs mathématiques sont semblables (* = multi, / = div)\n",
    "print (equation_ex)           # Afficher 'equation_ex', dont la valeur est le résultat de l'équation"
   ]
  },
  {
   "cell_type": "markdown",
   "metadata": {
    "slideshow": {
     "slide_type": "slide"
    }
   },
   "source": [
    "###### <span style=\"color: black; font-family: Babas Neue; font-size: 2em;\">1. Importation</span>"
   ]
  },
  {
   "cell_type": "markdown",
   "metadata": {
    "slideshow": {
     "slide_type": "subslide"
    }
   },
   "source": [
    "<div style=\"text-align: justify\"> <span style=\"color: black; font-family: Babas Neue; font-size: 1em;\"> Pour commencer, nous allons importer les modules que nous avons déjà dans l'environnement Anaconda, puis installer le module newspaper.</span></div>"
   ]
  },
  {
   "cell_type": "markdown",
   "metadata": {
    "slideshow": {
     "slide_type": "subslide"
    }
   },
   "source": [
    "###### <div style=\"text-align: justify\"> <span style=\"color: black; font-family: Babas Neue; font-size: 1em;\"> 1.1 Importation des modules</span></div>"
   ]
  },
  {
   "cell_type": "code",
   "execution_count": 9,
   "metadata": {
    "collapsed": true,
    "scrolled": false,
    "slideshow": {
     "slide_type": "subslide"
    }
   },
   "outputs": [],
   "source": [
    "import urllib.request\n",
    "import bs4\n",
    "import numpy as np  # 'as' signifie que nous allons abbrévier le nom par convention\n",
    "import pandas as pd # Avant : pandas.DataFrame(...), Maintenant : pd.DataFrame(...)"
   ]
  },
  {
   "cell_type": "markdown",
   "metadata": {
    "slideshow": {
     "slide_type": "subslide"
    }
   },
   "source": [
    "###### <div style=\"text-align: justify\"> <span style=\"color: black; font-family: Babas Neue; font-size: 1em;\"> 1.2.1 Installer newspaper (exécuter dans un shell ou terminal)</span></div>"
   ]
  },
  {
   "cell_type": "code",
   "execution_count": 10,
   "metadata": {
    "collapsed": false,
    "scrolled": true,
    "slideshow": {
     "slide_type": "skip"
    }
   },
   "outputs": [
    {
     "name": "stdout",
     "output_type": "stream",
     "text": [
      "Requirement already satisfied: newspaper3k in /home/maison/anaconda3/lib/python3.6/site-packages\n",
      "Requirement already satisfied: lxml>=3.6.0 in /home/maison/anaconda3/lib/python3.6/site-packages (from newspaper3k)\n",
      "Requirement already satisfied: PyYAML>=3.11 in /home/maison/anaconda3/lib/python3.6/site-packages (from newspaper3k)\n",
      "Requirement already satisfied: cssselect>=0.9.2 in /home/maison/anaconda3/lib/python3.6/site-packages (from newspaper3k)\n",
      "Requirement already satisfied: jieba3k>=0.35.1 in /home/maison/anaconda3/lib/python3.6/site-packages (from newspaper3k)\n",
      "Requirement already satisfied: feedparser>=5.2.1 in /home/maison/anaconda3/lib/python3.6/site-packages (from newspaper3k)\n",
      "Requirement already satisfied: requests>=2.10.0 in /home/maison/anaconda3/lib/python3.6/site-packages (from newspaper3k)\n",
      "Requirement already satisfied: tldextract>=2.0.1 in /home/maison/anaconda3/lib/python3.6/site-packages (from newspaper3k)\n",
      "Requirement already satisfied: beautifulsoup4>=4.4.1 in /home/maison/anaconda3/lib/python3.6/site-packages (from newspaper3k)\n",
      "Requirement already satisfied: Pillow>=3.3.0 in /home/maison/anaconda3/lib/python3.6/site-packages (from newspaper3k)\n",
      "Requirement already satisfied: python-dateutil>=2.5.3 in /home/maison/anaconda3/lib/python3.6/site-packages (from newspaper3k)\n",
      "Requirement already satisfied: feedfinder2>=0.0.4 in /home/maison/anaconda3/lib/python3.6/site-packages (from newspaper3k)\n",
      "Requirement already satisfied: nltk>=3.2.1 in /home/maison/anaconda3/lib/python3.6/site-packages (from newspaper3k)\n",
      "Requirement already satisfied: chardet<3.1.0,>=3.0.2 in /home/maison/anaconda3/lib/python3.6/site-packages (from requests>=2.10.0->newspaper3k)\n",
      "Requirement already satisfied: urllib3<1.22,>=1.21.1 in /home/maison/anaconda3/lib/python3.6/site-packages (from requests>=2.10.0->newspaper3k)\n",
      "Requirement already satisfied: idna<2.6,>=2.5 in /home/maison/anaconda3/lib/python3.6/site-packages (from requests>=2.10.0->newspaper3k)\n",
      "Requirement already satisfied: certifi>=2017.4.17 in /home/maison/anaconda3/lib/python3.6/site-packages (from requests>=2.10.0->newspaper3k)\n",
      "Requirement already satisfied: setuptools in /home/maison/anaconda3/lib/python3.6/site-packages/setuptools-27.2.0-py3.6.egg (from tldextract>=2.0.1->newspaper3k)\n",
      "Requirement already satisfied: requests-file>=1.4 in /home/maison/anaconda3/lib/python3.6/site-packages (from tldextract>=2.0.1->newspaper3k)\n",
      "Requirement already satisfied: olefile in /home/maison/anaconda3/lib/python3.6/site-packages (from Pillow>=3.3.0->newspaper3k)\n",
      "Requirement already satisfied: six>=1.5 in /home/maison/anaconda3/lib/python3.6/site-packages (from python-dateutil>=2.5.3->newspaper3k)\n"
     ]
    }
   ],
   "source": [
    "!pip install newspaper3k"
   ]
  },
  {
   "cell_type": "markdown",
   "metadata": {
    "slideshow": {
     "slide_type": "skip"
    }
   },
   "source": [
    "<div style=\"text-align: justify\"> <span style=\"color: black; font-family: Babas Neue; font-size: 1em;\"> Comme j'ai déjà installé le module manuellement, la machine me répond que les exigences sont déjà satisfaites. Nous pouvons maintenant l'importer.</span></div>"
   ]
  },
  {
   "cell_type": "markdown",
   "metadata": {
    "slideshow": {
     "slide_type": "subslide"
    }
   },
   "source": [
    "###### <div style=\"text-align: justify\"> <span style=\"color: black; font-family: Babas Neue; font-size: 1em;\"> 1.2.2 Importer newspaper</span></div>"
   ]
  },
  {
   "cell_type": "code",
   "execution_count": 11,
   "metadata": {
    "collapsed": true,
    "scrolled": false,
    "slideshow": {
     "slide_type": "subslide"
    }
   },
   "outputs": [],
   "source": [
    "import newspaper"
   ]
  },
  {
   "cell_type": "markdown",
   "metadata": {
    "slideshow": {
     "slide_type": "slide"
    }
   },
   "source": [
    "###### <span style=\"color: black; font-family: Babas Neue; font-size: 2em;\">2. Création d'une liste de date</span>"
   ]
  },
  {
   "cell_type": "markdown",
   "metadata": {
    "slideshow": {
     "slide_type": "subslide"
    }
   },
   "source": [
    "<div style=\"text-align: justify\"> <span style=\"color: black; font-family: Babas Neue; font-size: 1em;\"> Nous allons  générer une liste des dates qui couvrent notre étude. Nous le faisons pour plusieurs raisons, notamment parce que les adresses URL de La Presse intègrent les dates et parce que, de toute façon, nous allons entrer la donnée 'DATE' dans la base de données que nous allons créer. Elle sera donc déjà faite.</span></div>"
   ]
  },
  {
   "cell_type": "markdown",
   "metadata": {
    "slideshow": {
     "slide_type": "subslide"
    }
   },
   "source": [
    "###### <div style=\"text-align: justify\"> <span style=\"color: black; font-family: Babas Neue; font-size: 1em;\"> 2.1 Génération d'une liste de date avec numpy (np) et pandas (pd)</span></div>"
   ]
  },
  {
   "cell_type": "code",
   "execution_count": 12,
   "metadata": {
    "collapsed": false,
    "scrolled": false,
    "slideshow": {
     "slide_type": "subslide"
    }
   },
   "outputs": [
    {
     "name": "stdout",
     "output_type": "stream",
     "text": [
      "DatetimeIndex(['2012-12-01', '2012-12-02', '2012-12-03', '2012-12-04',\n",
      "               '2012-12-05', '2012-12-06', '2012-12-07', '2012-12-08',\n",
      "               '2012-12-09', '2012-12-10',\n",
      "               ...\n",
      "               '2013-06-21', '2013-06-22', '2013-06-23', '2013-06-24',\n",
      "               '2013-06-25', '2013-06-26', '2013-06-27', '2013-06-28',\n",
      "               '2013-06-29', '2013-06-30'],\n",
      "              dtype='datetime64[ns]', length=212, freq=None)\n"
     ]
    }
   ],
   "source": [
    "array_of_time = pd.to_datetime(np.arange('2012-12-01', '2013-07-01', dtype='datetime64[D]'))\n",
    "print (array_of_time)"
   ]
  },
  {
   "cell_type": "markdown",
   "metadata": {
    "slideshow": {
     "slide_type": "subslide"
    }
   },
   "source": [
    "<div style=\"text-align: justify\"> <span style=\"color: black; font-family: Babas Neue; font-size: 1em;\"> Les '...' que vous voyez dans la réponse signifient que vous ne voyez pas l'entièreté de la liste. On peut constater, à cette fin, que la liste contient 212 entrées, ce qui est exact si l'on souhaite lister les jours du 1er décembre 2012 à la dernière journée de juin 2013 inclusivement. <br><br> Non seulement nous avons dressé rapidement une liste, mais nous avons également formaté les données pour qu'elles soient perçues comme un objet de type \"date\" plutôt que comme une chaîne de caractères normale, (Comme 'Roger'). Ces données contiennent donc maintenant des attributs propres aux dates.</span></div>"
   ]
  },
  {
   "cell_type": "code",
   "execution_count": 13,
   "metadata": {
    "collapsed": false,
    "scrolled": false,
    "slideshow": {
     "slide_type": "subslide"
    }
   },
   "outputs": [
    {
     "name": "stdout",
     "output_type": "stream",
     "text": [
      "2012-12-01 00:00:00\n",
      "2012-12-01 00:00:00\n"
     ]
    }
   ],
   "source": [
    "print (array_of_time[0]) # Afficher la première donnée de notre liste de date (liste[index])\n",
    "print ('2012-12-01 00:00:00') # Afficher une chaîne de caractères qui semble identique"
   ]
  },
  {
   "cell_type": "code",
   "execution_count": 14,
   "metadata": {
    "collapsed": false,
    "scrolled": false,
    "slideshow": {
     "slide_type": "subslide"
    }
   },
   "outputs": [
    {
     "name": "stdout",
     "output_type": "stream",
     "text": [
      "2012\n",
      "1\n",
      "12\n",
      "Saturday\n",
      ".. Il existe beaucoup plus de fonctions! ..\n"
     ]
    }
   ],
   "source": [
    "print (array_of_time[0].year) # Afficher des attributs de classe 'DATE'\n",
    "print (array_of_time[0].day) \n",
    "print (array_of_time[0].month) \n",
    "print (array_of_time[0].weekday_name)  \n",
    "print ('.. Il existe beaucoup plus de fonctions! ..')"
   ]
  },
  {
   "cell_type": "code",
   "execution_count": 15,
   "metadata": {
    "collapsed": false,
    "scrolled": false,
    "slideshow": {
     "slide_type": "subslide"
    }
   },
   "outputs": [
    {
     "ename": "AttributeError",
     "evalue": "'str' object has no attribute 'year'",
     "output_type": "error",
     "traceback": [
      "\u001b[0;31m---------------------------------------------------------------------------\u001b[0m",
      "\u001b[0;31mAttributeError\u001b[0m                            Traceback (most recent call last)",
      "\u001b[0;32m<ipython-input-15-829ebe5b8c36>\u001b[0m in \u001b[0;36m<module>\u001b[0;34m()\u001b[0m\n\u001b[0;32m----> 1\u001b[0;31m \u001b[0mprint\u001b[0m \u001b[0;34m(\u001b[0m\u001b[0;34m'2012-12-01 00:00:00'\u001b[0m\u001b[0;34m.\u001b[0m\u001b[0myear\u001b[0m\u001b[0;34m)\u001b[0m \u001b[0;31m# Essayer de faire une même fonction\u001b[0m\u001b[0;34m\u001b[0m\u001b[0m\n\u001b[0m",
      "\u001b[0;31mAttributeError\u001b[0m: 'str' object has no attribute 'year'"
     ]
    }
   ],
   "source": [
    "print ('2012-12-01 00:00:00'.year) # Essayer de faire une même fonction"
   ]
  },
  {
   "cell_type": "markdown",
   "metadata": {
    "slideshow": {
     "slide_type": "subslide"
    }
   },
   "source": [
    "<div style=\"text-align: justify\"> <span style=\"color: black; font-family: Babas Neue; font-size: 1em;\"> Nous pouvons constater ici qu'une chaîne de caractères standard ne possède pas l'attribut \"année\", puisqu'elle donne une réponse d'erreur. Notre première donnée de la liste est convertie comme un objet de type 'date', ce qui la permet de posséder cet attribut. Vous voyez donc l'intérêt de *formater* les données en plus de les générer à grande échelle. </span></div>"
   ]
  },
  {
   "cell_type": "markdown",
   "metadata": {
    "slideshow": {
     "slide_type": "slide"
    }
   },
   "source": [
    "###### <span style=\"color: black; font-family: Babas Neue; font-size: 2em;\">3. Générer une liste de liens URL vers les archives</span>"
   ]
  },
  {
   "cell_type": "markdown",
   "metadata": {},
   "source": [
    "<div style=\"text-align: justify\"> <span style=\"color: black; font-family: Babas Neue; font-size: 1em;\"> Notre démarche ressemble à celle-ci :<br><br>\n",
    "Générer les liens vers les archives --» Interroger les liens vers les archives et extraire les liens vers les articles --» Interroger les liens vers les articles et stocker, sous condition, l'information. </span></div>"
   ]
  },
  {
   "cell_type": "markdown",
   "metadata": {
    "slideshow": {
     "slide_type": "subslide"
    }
   },
   "source": [
    "<div style=\"text-align: justify\"> <span style=\"color: black; font-family: Babas Neue; font-size: 1em;\"> Le système d'archives de La Presse fonctionne ainsi :\n",
    "<br><br>\n",
    "http://www.lapresse.ca/ archives / années / mois / jour . php\n",
    "<br><br>\n",
    "\"archives\" est une chaîne de caractères (il ne changera pas).\n",
    "\"années\", \"mois\" et \"jour\" sont les valeurs de nos variables de dates (ils changeront en fonction de nos dates). \n",
    "\".php\" est le type de fichier hébergé sur le site. Les plus populaires sont .php et .html.  \n",
    "<br><br>\n",
    "À partir de notre première liste de dates, nous allons générer une liste de liens vers les archives. Il ne s'agit pas de notre cible finale, c'est-à-dire qu'il faudra ensuite aller à l'intérieur de ses liens pour produire une troisième liste, qui est constituée des adresses vers les articles.</span></div>"
   ]
  },
  {
   "cell_type": "markdown",
   "metadata": {
    "slideshow": {
     "slide_type": "subslide"
    }
   },
   "source": [
    "###### <div style=\"text-align: justify\"> <span style=\"color: black; font-family: Babas Neue; font-size: 1em;\"> 3.1 Définition de la souche (Ce qui ne change pas)</span></div>"
   ]
  },
  {
   "cell_type": "code",
   "execution_count": 16,
   "metadata": {
    "collapsed": false,
    "scrolled": false,
    "slideshow": {
     "slide_type": "subslide"
    }
   },
   "outputs": [],
   "source": [
    "root_url = 'http://www.lapresse.ca/archives'\n",
    "url_end = '.php'"
   ]
  },
  {
   "cell_type": "markdown",
   "metadata": {
    "slideshow": {
     "slide_type": "subslide"
    }
   },
   "source": [
    "###### <div style=\"text-align: justify\"> <span style=\"color: black; font-family: Babas Neue; font-size: 1em;\"> 3.2 Créer une liste vide</span></div>"
   ]
  },
  {
   "cell_type": "code",
   "execution_count": 17,
   "metadata": {
    "collapsed": true,
    "scrolled": false,
    "slideshow": {
     "slide_type": "subslide"
    }
   },
   "outputs": [],
   "source": [
    "archives_url = []"
   ]
  },
  {
   "cell_type": "markdown",
   "metadata": {
    "slideshow": {
     "slide_type": "subslide"
    }
   },
   "source": [
    "###### <div style=\"text-align: justify\"> <span style=\"color: black; font-family: Babas Neue; font-size: 1em;\"> 3.3 Peupler la liste à partir d'une boucle. Partir de notre souche et intégrer les dates au four et à mesure que nous itérons dans la liste. </span></div> "
   ]
  },
  {
   "cell_type": "code",
   "execution_count": 18,
   "metadata": {
    "collapsed": false,
    "scrolled": false,
    "slideshow": {
     "slide_type": "subslide"
    }
   },
   "outputs": [],
   "source": [
    "for x in range(len(array_of_time)):   # Pour tout les éléments de la liste, \n",
    "    day = array_of_time[x].day        # capturer chaque attribut \n",
    "    month = array_of_time[x].month    # \"day\", \"month\", \"year\"\n",
    "    year = array_of_time[x].year\n",
    "    \n",
    "    archives_url.append(\n",
    "        '{}/{}/{}/{}{}'.format(\n",
    "            root_url,year,month,day,url_end\n",
    "        )\n",
    "    ) # Assembler le lien URL et le stocker dans la nouvelle liste"
   ]
  },
  {
   "cell_type": "code",
   "execution_count": 19,
   "metadata": {
    "collapsed": false,
    "scrolled": true,
    "slideshow": {
     "slide_type": "fragment"
    }
   },
   "outputs": [
    {
     "data": {
      "text/plain": [
       "['http://www.lapresse.ca/archives/2012/12/1.php',\n",
       " 'http://www.lapresse.ca/archives/2012/12/2.php',\n",
       " 'http://www.lapresse.ca/archives/2012/12/3.php',\n",
       " 'http://www.lapresse.ca/archives/2012/12/4.php',\n",
       " 'http://www.lapresse.ca/archives/2012/12/5.php']"
      ]
     },
     "execution_count": 19,
     "metadata": {},
     "output_type": "execute_result"
    }
   ],
   "source": [
    "archives_url[0:5] # Afficher les 5 premiers liens"
   ]
  },
  {
   "cell_type": "code",
   "execution_count": 20,
   "metadata": {
    "collapsed": false,
    "slideshow": {
     "slide_type": "subslide"
    }
   },
   "outputs": [
    {
     "data": {
      "text/plain": [
       "['http://www.lapresse.ca/archives/2013/6/26.php',\n",
       " 'http://www.lapresse.ca/archives/2013/6/27.php',\n",
       " 'http://www.lapresse.ca/archives/2013/6/28.php',\n",
       " 'http://www.lapresse.ca/archives/2013/6/29.php',\n",
       " 'http://www.lapresse.ca/archives/2013/6/30.php']"
      ]
     },
     "execution_count": 20,
     "metadata": {},
     "output_type": "execute_result"
    }
   ],
   "source": [
    "archives_url[-5:] # Afficher les 5 derniers liens"
   ]
  },
  {
   "cell_type": "code",
   "execution_count": 21,
   "metadata": {
    "collapsed": false,
    "slideshow": {
     "slide_type": "subslide"
    }
   },
   "outputs": [
    {
     "name": "stdout",
     "output_type": "stream",
     "text": [
      "212\n"
     ]
    }
   ],
   "source": [
    "print(len(archives_url)) # Afficher la longueur de la liste"
   ]
  },
  {
   "cell_type": "markdown",
   "metadata": {
    "slideshow": {
     "slide_type": "subslide"
    }
   },
   "source": [
    "<div style=\"text-align: justify\"> <span style=\"color: black; font-family: Babas Neue; font-size: 1em;\"> Générer une telle liste nécessite d'examiner la structure du site web en question, de comprendre sa logique, de retenir les constantes (le début du site et le type \".php, .html\") et générer les extensions souhaitées par la suite. Dans ce cas, il s'agit de l'année, du mois et du jour.</span></div>"
   ]
  },
  {
   "cell_type": "markdown",
   "metadata": {
    "slideshow": {
     "slide_type": "slide"
    }
   },
   "source": [
    "###### <span style=\"color: black; font-family: Babas Neue; font-size: 2em;\">4. Explorer les liens des archives</span>"
   ]
  },
  {
   "cell_type": "markdown",
   "metadata": {
    "slideshow": {
     "slide_type": "subslide"
    }
   },
   "source": [
    "<div style=\"text-align: justify\"> <span style=\"color: black; font-family: Babas Neue; font-size: 1em;\"> Nous devons interroger la liste de liens des **archives** dans le but d'extraire les liens vers les **articles**. Chaque lien des archives est donc à la fois la cible d'une requête et le conteneur d'autres liens, qui feront l'objet d'une requête (pour accéder au contenu de chaque article).</span></div>"
   ]
  },
  {
   "cell_type": "markdown",
   "metadata": {
    "slideshow": {
     "slide_type": "subslide"
    }
   },
   "source": [
    "###### <div style=\"text-align: justify\"> <span style=\"color: black; font-family: Babas Neue; font-size: 1em;\"> 4.1 Interroger un site (nous allons prendre le lien du 11 janvier 2013)</span></div>"
   ]
  },
  {
   "cell_type": "markdown",
   "metadata": {
    "slideshow": {
     "slide_type": "subslide"
    }
   },
   "source": [
    "###### <div style=\"text-align: justify\"> <span style=\"color: black; font-family: Babas Neue; font-size: 1em;\"> 4.1.1 Envoyer une requête au serveur avec urllib.request</span></div>"
   ]
  },
  {
   "cell_type": "code",
   "execution_count": 22,
   "metadata": {
    "collapsed": false,
    "scrolled": false,
    "slideshow": {
     "slide_type": "subslide"
    }
   },
   "outputs": [
    {
     "name": "stdout",
     "output_type": "stream",
     "text": [
      "http://www.lapresse.ca/archives/2013/1/11.php\n"
     ]
    }
   ],
   "source": [
    "print (archives_url[41]) # Vérifier s'il s'agit du lien souhaité"
   ]
  },
  {
   "cell_type": "code",
   "execution_count": 24,
   "metadata": {
    "collapsed": false,
    "scrolled": false,
    "slideshow": {
     "slide_type": "subslide"
    }
   },
   "outputs": [],
   "source": [
    "request = urllib.request.Request(\n",
    "    url = archives_url[41], \n",
    "    data=None, \n",
    "    headers={\n",
    "        'User-Agent':'Mozilla/5.0 (Macintosh; Intel Mac OS X 10_9_3) \\\n",
    "        AppleWebKit/537.36 (KHTML, like Gecko) Chrome/35.0.1916.47 Safari/537.36'\n",
    "            }\n",
    ")"
   ]
  },
  {
   "cell_type": "markdown",
   "metadata": {
    "slideshow": {
     "slide_type": "subslide"
    }
   },
   "source": [
    "###### <div style=\"text-align: justify\"> <span style=\"color: black; font-family: Babas Neue; font-size: 1em;\"> 4.1.2 Ouvrir un objet BeautifulSoup4 avec la réponse de la requête.</span></div>"
   ]
  },
  {
   "cell_type": "markdown",
   "metadata": {
    "slideshow": {
     "slide_type": "subslide"
    }
   },
   "source": [
    "<div style=\"text-align: justify\"> <span style=\"color: black; font-family: Babas Neue; font-size: 1em;\">Nous passons d'envoyer une demande d'information à recevoir une réponse. bs4 va nous aider dans la deuxième phase et va afficher le contenu de la réponse.</span></div>"
   ]
  },
  {
   "cell_type": "code",
   "execution_count": 25,
   "metadata": {
    "collapsed": false,
    "scrolled": false,
    "slideshow": {
     "slide_type": "subslide"
    }
   },
   "outputs": [],
   "source": [
    "source_code = bs4.BeautifulSoup(urllib.request.urlopen(request).read(),'lxml')"
   ]
  },
  {
   "cell_type": "markdown",
   "metadata": {
    "slideshow": {
     "slide_type": "subslide"
    }
   },
   "source": [
    "###### <div style=\"text-align: justify\"> <span style=\"color: black; font-family: Babas Neue; font-size: 1em;\">4.1.2 Utiliser la méthode prettify pour afficher le contenu. Il s'agit du code source de la page. (Désactivé pour sauver de l'espace. Enlever le # pour réactiver.) </span></div>"
   ]
  },
  {
   "cell_type": "code",
   "execution_count": 26,
   "metadata": {
    "collapsed": false,
    "scrolled": true,
    "slideshow": {
     "slide_type": "subslide"
    }
   },
   "outputs": [],
   "source": [
    "# print(source_code.prettify)"
   ]
  },
  {
   "cell_type": "markdown",
   "metadata": {
    "slideshow": {
     "slide_type": "subslide"
    }
   },
   "source": [
    "<div style=\"text-align: justify\"> <span style=\"color: black; font-family: Babas Neue; font-size: 1em;\"> L'intérêt est d'extraire un seul site pour commencer et de voir son contenu afin essayer d'en déduire la structure interne commune. Si vous observez bien, vous verrez que la liste des articles est balisée avec un code 'ul class=\"square square-spread\"'. Probablement que cette balise est utilisée comme standard par La Presse. Nous tenterons de l'utiliser pour tout les autres liens.  </span></div>"
   ]
  },
  {
   "cell_type": "markdown",
   "metadata": {
    "slideshow": {
     "slide_type": "subslide"
    }
   },
   "source": [
    "###### <div style=\"text-align: justify\"> <span style=\"color: black; font-family: Babas Neue; font-size: 1em;\">4.1.3 Convertir le contenu en chaîne de caractères et tronquer la sélection souhaitée.</span></div>"
   ]
  },
  {
   "cell_type": "code",
   "execution_count": 27,
   "metadata": {
    "collapsed": false,
    "scrolled": true,
    "slideshow": {
     "slide_type": "subslide"
    }
   },
   "outputs": [
    {
     "name": "stdout",
     "output_type": "stream",
     "text": [
      "<ul class=\"square square-spread\">\n",
      "<li>(05:06) <a alt=\"C'est arrivé un 11 janvier\" href=\"http://www.lapresse.ca/le-droit/actualites/ephemerides/201301/04/01-4608380-cest-arrive-un-11-janvier.php\" title=\"C'est arrivé un 11 janvier\">C'est arrivé un 11 janvier</a></li>\n",
      "<li>(05:00) <a alt=\"La LNH s'éloigne de Québec\" href=\"http://www.lapresse.ca/le-soleil/opinions/carrefour/201301/08/01-4609376-la-lnh-seloigne-de-quebec.php\" title=\"La LNH s'éloigne de Québec\">La LNH s'éloigne de Québec</a></li>\n",
      "<li>( \n",
      "\n",
      "nspirant aux résidences Monchénou</a></li>\n",
      "<li>(09:35) <a alt=\"Collecte de sang fructueuse\" href=\"http://www.lapresse.ca/le-droit/actualites/vie-communautaire/201301/14/01-4611048-collecte-de-sang-fructueuse.php\" title=\"Collecte de sang fructueuse\">Collecte de sang fructueuse</a></li>\n",
      "<li>(09:39) <a alt=\"Bourses d'excellence\" href=\"http://www.lapresse.ca/le-droit/actualites/vie-communautaire/201301/14/01-4611053-bourses-dexcellence.php\" title=\"Bourses d'excellence\">Bourses d'excellence</a></li>\n",
      "\n"
     ]
    }
   ],
   "source": [
    "str_from_code = str(source_code)\n",
    "start_idx = str_from_code.find('<ul class=\"square square-spread\">')\n",
    "skimed_str = str_from_code[start_idx:str_from_code.find('</ul>',start_idx)]\n",
    "print (skimed_str[0:500], '\\n') # Imprimer les 500 premiers caractères\n",
    "print (skimed_str[-500:]) # Imprimer les 500 premiers caractères"
   ]
  },
  {
   "cell_type": "markdown",
   "metadata": {
    "slideshow": {
     "slide_type": "subslide"
    }
   },
   "source": [
    "<div style=\"text-align: justify\"> <span style=\"color: black; font-family: Babas Neue; font-size: 1em;\"> À travers ce codage, nous pouvons observer que les liens qui nous intéressent suivent du mot-clé 'href=' et termine toujours par l'extension '.php'. À partir de là, il ne reste que quelques manipulations pour accéder à notre dernière liste.</span></div>"
   ]
  },
  {
   "cell_type": "markdown",
   "metadata": {
    "slideshow": {
     "slide_type": "subslide"
    }
   },
   "source": [
    "###### <div style=\"text-align: justify\"> <span style=\"color: black; font-family: Babas Neue; font-size: 1em;\">4.1.4 Diviser le texte par le mot-clé 'href' et lister les éléments. Enlever le premier index car il ne s'agit pas d'un site.</span></div>"
   ]
  },
  {
   "cell_type": "code",
   "execution_count": 28,
   "metadata": {
    "collapsed": false,
    "scrolled": true,
    "slideshow": {
     "slide_type": "subslide"
    }
   },
   "outputs": [
    {
     "data": {
      "text/plain": [
       "['http://www.lapresse.ca/le-droit/actualites/ephemerides/201301/04/01-4608380-cest-arrive-un-11-janvier.php\" title=\"C\\'est arrivé un 11 janvier\">C\\'est arrivé un 11 janvier</a></li>\\n<li>(05:00) <a alt=\"La LNH s\\'éloigne de Québec\" ',\n",
       " 'http://www.lapresse.ca/le-soleil/opinions/carrefour/201301/08/01-4609376-la-lnh-seloigne-de-quebec.php\" title=\"La LNH s\\'éloigne de Québec\">La LNH s\\'éloigne de Québec</a></li>\\n<li>(07:02) <a alt=\"Seul devant la cour, un bon choix?\" ']"
      ]
     },
     "execution_count": 28,
     "metadata": {},
     "output_type": "execute_result"
    }
   ],
   "source": [
    "php_list = skimed_str.split('href=\"')[1:]\n",
    "php_list[0:2]# Imprimer les deux premiers lien"
   ]
  },
  {
   "cell_type": "markdown",
   "metadata": {
    "slideshow": {
     "slide_type": "subslide"
    }
   },
   "source": [
    "###### <div style=\"text-align: justify\"> <span style=\"color: black; font-family: Babas Neue; font-size: 1em;\">4.1.5 Modifier les éléments de la liste pour qu'ils s'arrêtent à l'extension '.php'</span></div>"
   ]
  },
  {
   "cell_type": "code",
   "execution_count": 29,
   "metadata": {
    "collapsed": false,
    "scrolled": false,
    "slideshow": {
     "slide_type": "subslide"
    }
   },
   "outputs": [
    {
     "data": {
      "text/plain": [
       "['http://www.lapresse.ca/le-droit/actualites/ephemerides/201301/04/01-4608380-cest-arrive-un-11-janvier.php',\n",
       " 'http://www.lapresse.ca/le-soleil/opinions/carrefour/201301/08/01-4609376-la-lnh-seloigne-de-quebec.php',\n",
       " 'http://www.lapresse.ca/la-tribune/archives/la-nouvelle/actualites/201301/09/01-4609791-seul-devant-la-cour-un-bon-choix.php',\n",
       " 'http://www.lapresse.ca/la-tribune/archives/la-nouvelle/scene-culturelle/201301/09/01-4609793-impair-un-collectif-inspire-par-lart-de-rue.php',\n",
       " 'http://www.lapresse.ca/la-tribune/archives/la-nouvelle/actualites/201301/09/01-4609795-la-consigne-sociale-en-plein-emergence.php',\n",
       " 'http://www.lapresse.ca/le-droit/actualites/chroniques/denis-gratton/201301/10/01-4609974-evangeline-gabriel-et-le-chat.php',\n",
       " 'http://www.lapresse.ca/le-soleil/opinions/carrefour/201301/10/01-4610077-nadeau-dubois-futur-lieutenant-gouverneur.php',\n",
       " 'http://www.lapresse.ca/debats/editoriaux/francois-cardinal/201301/10/01-4610192-les-racines-de-la-colere.php',\n",
       " 'http://www.lapresse.ca/debats/votre-opinion/201301/10/01-4610204-temple-de-la-renommee-du-baseball-hypocrites.php',\n",
       " 'http://www.lapresse.ca/la-voix-de-lest/opinions/courrier-des-lecteurs/201301/10/01-4610205-hommage-a-jean-louis-boisseau.php']"
      ]
     },
     "execution_count": 29,
     "metadata": {},
     "output_type": "execute_result"
    }
   ],
   "source": [
    "for x in range(len(php_list)):\n",
    "    php_list[x] = php_list[x][:php_list[x].find('.php')+4]\n",
    "php_list[0:10] # Imprimer les dix premiers liens"
   ]
  },
  {
   "cell_type": "code",
   "execution_count": 30,
   "metadata": {
    "collapsed": false
   },
   "outputs": [
    {
     "name": "stdout",
     "output_type": "stream",
     "text": [
      "289\n"
     ]
    }
   ],
   "source": [
    "print (len(php_list)) # Combien d'articles publiés le 11 janvier 2013?"
   ]
  },
  {
   "cell_type": "markdown",
   "metadata": {
    "slideshow": {
     "slide_type": "subslide"
    }
   },
   "source": [
    "###### <div style=\"text-align: justify\"> <span style=\"color: black; font-family: Babas Neue; font-size: 1em;\">4.2 Application de l'extraction à tout les liens.</span></div>"
   ]
  },
  {
   "cell_type": "markdown",
   "metadata": {
    "slideshow": {
     "slide_type": "subslide"
    }
   },
   "source": [
    "<div style=\"text-align: justify\"> <span style=\"color: black; font-family: Babas Neue; font-size: 1em;\"> Pour obtenir tout les articles écris par la La Presse du 1er décembre au 30 juin, il suffit de généraliser ce que l'on vient de faire aux autres liens des archives et stocker les nouveaux dans une nouvelle variable. Vous pouvez exécuter le code ci-dessous, mais je vais le désactiver par défaut, car, pour le bien du tutoriel, je ne traiterai que d'une seule journée, soit celle que je viens de faire.</span></div>"
   ]
  },
  {
   "cell_type": "code",
   "execution_count": 31,
   "metadata": {
    "collapsed": false,
    "scrolled": false,
    "slideshow": {
     "slide_type": "subslide"
    }
   },
   "outputs": [],
   "source": [
    "#metalist = []\n",
    "#for x in range(len(archives_url)):\n",
    "#\n",
    "#    request = urllib.request.Request(url = archives_url[x], data=None, headers=\n",
    "#                             {'User-Agent': 'Mozilla/5.0 (Macintosh; Intel Mac OS X 10_9_3) \\\n",
    "#                             AppleWebKit/537.36 (KHTML, like Gecko) Chrome/35.0.1916.47 Safari/537.36'})\n",
    "#\n",
    "#    source_code = bs4.BeautifulSoup(urllib.request.urlopen(request).read(),'lxml')\n",
    "#    str_from_code = str(source_code)\n",
    "#    start_idx = str_from_code.find('<ul class=\"square square-spread\">')\n",
    "#    skimed_str = str_from_code[start_idx:str_from_code.find('</ul>',start_idx)]\n",
    "#    php_list = skimed_str.split('href=\"')[1:]\n",
    "#    \n",
    "#    for y in range(len(php_list)):\n",
    "#        php_list[y] = php_list[y][:php_list[y].find('.php')+4]\n",
    "#\n",
    "#    metalist.extend(php_list)\n",
    "    \n",
    "#metalist"
   ]
  },
  {
   "cell_type": "markdown",
   "metadata": {
    "slideshow": {
     "slide_type": "slide"
    }
   },
   "source": [
    "###### <span style=\"color: black; font-family: Babas Neue; font-size: 2em;\">5. Explorer les liens des articles</span>"
   ]
  },
  {
   "cell_type": "markdown",
   "metadata": {
    "collapsed": true,
    "slideshow": {
     "slide_type": "subslide"
    }
   },
   "source": [
    "<div style=\"text-align: justify\"> <span style=\"color: black; font-family: Babas Neue; font-size: 1em;\"> Notre liste de liens vers les articles ayant été générée, nous allons pouvoir maintenant extraire d'elles l'information qui nous intéresse. Souvent, notre but est de rechercher quelque chose de particulier, comme dans notre situation où nous recherchons les articles ayant la mention IDLE NO MORE dans le texte. Il ne s'agit pas d'une comparaison entre les articles faisant mention et ceux pour qui cela n'est pas le cas, mais bien d'une comparaison entre les articles faisant mention du mouvement. Ainsi, nous n'avons pas réellement besoin des autres articles. </span></div><br><br><br><div style=\"text-align: justify\"> <span style=\"color: black; font-family: Babas Neue; font-size: 1em;\">Le module newspaper est utile pour les raisons suivantes : </span></div><br><br>\n",
    "- Il nous évite de passer par la technique du départ, à savoir envoyer une requête avec urllib, traiter le contenu avec bs4, puis convertir en chaîne de caractères pour finalement scinder le texte à partir de balises dans le code. Newspaper fait ses étapes en une seule commande.<br>\n",
    "- Le module crée un objet de type Article, ce qui lui infère de nombreux attributs. C'est pour cela que l'on ne peut pas l'utiliser lors de la première étape : les archives ne sont pas structurées comme une page web journalistique.<br>\n",
    "</span></div>"
   ]
  },
  {
   "cell_type": "markdown",
   "metadata": {
    "slideshow": {
     "slide_type": "subslide"
    }
   },
   "source": [
    "###### <div style=\"text-align: justify\"> <span style=\"color: black; font-family: Babas Neue; font-size: 1em;\">5.1 Interroger un site (soit le premier lien du 11 janvier 2013)</span></div>"
   ]
  },
  {
   "cell_type": "code",
   "execution_count": 24,
   "metadata": {
    "collapsed": false,
    "slideshow": {
     "slide_type": "subslide"
    }
   },
   "outputs": [
    {
     "name": "stdout",
     "output_type": "stream",
     "text": [
      "http://www.lapresse.ca/le-droit/actualites/ephemerides/201301/04/01-4608380-cest-arrive-un-11-janvier.php\n"
     ]
    }
   ],
   "source": [
    "article_url = php_list[0]\n",
    "print (article_url)"
   ]
  },
  {
   "cell_type": "markdown",
   "metadata": {
    "slideshow": {
     "slide_type": "subslide"
    }
   },
   "source": [
    "###### <div style=\"text-align: justify\"> <span style=\"color: black; font-family: Babas Neue; font-size: 1em;\">5.1.1  Utiliser le module newspaper pour récupérer une site</span></div>"
   ]
  },
  {
   "cell_type": "code",
   "execution_count": 25,
   "metadata": {
    "collapsed": false,
    "slideshow": {
     "slide_type": "subslide"
    }
   },
   "outputs": [
    {
     "name": "stdout",
     "output_type": "stream",
     "text": [
      "<class 'newspaper.article.Article'>\n"
     ]
    }
   ],
   "source": [
    "article = newspaper.Article(article_url, language ='fr') # Créer un objet article avec un URL\n",
    "article.download() # Télécharger\n",
    "article.parse() # Traiter\n",
    "print (type(article)) # Afficher le type"
   ]
  },
  {
   "cell_type": "markdown",
   "metadata": {
    "slideshow": {
     "slide_type": "subslide"
    }
   },
   "source": [
    "###### <div style=\"text-align: justify\"> <span style=\"color: black; font-family: Babas Neue; font-size: 1em;\">5.1.2 Utiliser l'attribut 'text' de l'objet article</span></div>"
   ]
  },
  {
   "cell_type": "code",
   "execution_count": 26,
   "metadata": {
    "collapsed": false,
    "scrolled": true,
    "slideshow": {
     "slide_type": "subslide"
    }
   },
   "outputs": [
    {
     "name": "stdout",
     "output_type": "stream",
     "text": [
      "2001 - Le premier ministre québécois Lucien Bouchard annonce qu'il renonce à la politique active.\n",
      "\n",
      "2008 - Décès de Sir Edmund Hillary, 88 ans, alpiniste et explorateur néo-zélandais qui a conquis l'Everest en 1953, en compagnie du sherpa Tenzing Norgay.\n",
      "\n",
      "1998 - À Lahore, au Pakistan, 22 musulmans chiites sont tués par balles lors d'un office.\n",
      "\n",
      "1998 - Des bandes armées assassinent 103 civils au sud-est d'Alger.\n",
      "\n",
      "1995 - Les hockeyeurs s'entendent avec les propriétaires, après trois mois de litige dans la LNH.\n",
      "\n",
      "1994 - Au départ de Robert Bourassa, Daniel Johnson devient premier ministre du Québec.\n",
      "\n",
      "1993 - Richard Branson obtient des dommages de British Airways, pour diffamation contre sa compagnie Virgin Airways.\n",
      "\n",
      "1988 - Un tribunal de Chicago ordonne à la pétrolière Amoco de payer 85,2 millions $ US en dommages, pour le naufrage de l'Amoco Cadiz sur des récifs devant Ploudalmézeau, en Bretagne, en mars 1978, la pire marée noire de l'histoire en Europe.\n",
      "\n",
      "1987 - Près du port de Bassorah, lors de la guerre Irak-Iran, des combats font des milliers de morts.\n",
      "\n",
      "1983 - À court de candidats jurés, à Joliette, le juge Jean-Guy Boilard en envoie attraper sur la voie publique.\n",
      "\n",
      "1976 - Le président Guillermo Rodriguez Lara, de l'Équateur, est renversé par des militaires.\n",
      "\n",
      "1972 - Le Pakistan reconnaît l'indépendance du Bangla-Desh, son ancienne province orientale.\n",
      "\n",
      "1963 - À Los Angeles, ouverture du Whisky à Gogo, première salle de danse appelée «discothèque».\n",
      "\n",
      "1962 - À Huascaran, au Pérou, des glissements de terrain font plus de 3000 morts.\n",
      "\n",
      "1946 - L'Albanie devient une république communiste sous le joug d'Enver Hoxha, qui y restera jusqu'à sa mort en 1985.\n",
      "\n",
      "1943 - Les États-Unis et la Grande-Bretagne renoncent par traité à leurs privilèges extraterritoriaux en Chine.\n",
      "\n",
      "1922 - Un Canadien de 14 ans, Leonard Thompson, est le premier diabétique traité avec succès par l'insuline.\n",
      "\n",
      "1913 - La sedan Hudson, 395 $ US au détail, est dévoilée à Détroit.\n",
      "\n",
      "1909 - Signature du traité sur les eaux limitrophes des États-Unis et du Canada, créant la Commission mixte internationale.\n",
      "\n",
      "1823 - Dans une pétition au gouverneur James Dalhousie, 69 000 habitants du Bas-Canada dénoncent le projet d'union des deux Canada.\n",
      "\n",
      "1814 - Un maréchal de Napoléon devenu roi de Naples, Joachim Murat, change d'allégeance et s'allie à l'Autriche et l'Angleterre.\n",
      "\n",
      "1787 - L'astronome William Herschel découvre deux lunes d'Uranus.\n",
      "\n",
      "1569 - Les prix de la première loterie d'État, qui finance des ports et fortifications, sont tirés à Londres.\n",
      "\n",
      "Ils sont nés un 11 janvier:\n",
      "\n",
      "Le peintre Francesco Mazzola, dit Parmigianino (1503-40)\n",
      "\n",
      "John Alexander Macdonald, premier premier ministre du Canada, à Glasgow (1815-91)\n",
      "\n",
      "Le compositeur et organiste français Maurice Duruflé (1902-86)\n",
      "\n",
      "L'écrivain sud-africain Alan Paton (1903-88)\n",
      "\n",
      "L'homme d'État français Pierre Mendès France (1907-82)\n",
      "\n",
      "L'acteur français Bernard Blier (1916-89)\n",
      "\n",
      "L'actrice française Jacqueline Maillan (1923-92)\n",
      "\n",
      "Le premier ministre Jean Chrétien (1934)\n",
      "\n",
      "Ils nous ont quittés un 11 janvier:\n",
      "\n",
      "2010: le réalisateur français Éric Rohmer (1920)\n",
      "\n",
      "2007: L'actrice française Solveig Dommartin (1961)\n",
      "\n",
      "2003: le réalisateur français Maurice Pialat (1925)\n",
      "\n",
      "1966: le sculpteur suisse Alberto Giacometti (1901)\n",
      "\n",
      "1966: l'homme d'Etat indien Lal Bahadur Shatri (1904)\n",
      "\n",
      "1928: l'écrivain anglais Thomas Hardy (1840)\n",
      "\n",
      "1891: l'urbaniste français Georges Haussmann (1809)\n",
      "\n",
      "Citation du jour: «L'hospice ?.... Maudit. Tout le temps avec des vieux. Qui s'encouragent à se décourager. Un pied sur terre, un pied de l'autre bord. Des boiteux.» (Gilles Vigneault, «La Petite Heure»)\n"
     ]
    }
   ],
   "source": [
    "print(article.text)"
   ]
  },
  {
   "cell_type": "markdown",
   "metadata": {
    "slideshow": {
     "slide_type": "subslide"
    }
   },
   "source": [
    "###### <div style=\"text-align: justify\"> <span style=\"color: black; font-family: Babas Neue; font-size: 1em;\">5.1.3 Nos mots sont-il contenu dans l'article?</span></div>"
   ]
  },
  {
   "cell_type": "code",
   "execution_count": 27,
   "metadata": {
    "collapsed": false,
    "slideshow": {
     "slide_type": "subslide"
    }
   },
   "outputs": [
    {
     "data": {
      "text/plain": [
       "False"
      ]
     },
     "execution_count": 27,
     "metadata": {},
     "output_type": "execute_result"
    }
   ],
   "source": [
    "'IDLE NO MORE' in str(article.text).upper()"
   ]
  },
  {
   "cell_type": "markdown",
   "metadata": {
    "slideshow": {
     "slide_type": "subslide"
    }
   },
   "source": [
    "###### <div style=\"text-align: justify\"> <span style=\"color: black; font-family: Babas Neue; font-size: 1em;\">5.1.4 Vérifier les autres attributs</span></div>"
   ]
  },
  {
   "cell_type": "code",
   "execution_count": 28,
   "metadata": {
    "collapsed": false,
    "slideshow": {
     "slide_type": "subslide"
    }
   },
   "outputs": [
    {
     "data": {
      "text/plain": [
       "\"C'est arrivé un 11 janvier\""
      ]
     },
     "execution_count": 28,
     "metadata": {},
     "output_type": "execute_result"
    }
   ],
   "source": [
    "article.title"
   ]
  },
  {
   "cell_type": "code",
   "execution_count": 29,
   "metadata": {
    "collapsed": false,
    "slideshow": {
     "slide_type": "subslide"
    }
   },
   "outputs": [
    {
     "data": {
      "text/plain": [
       "'http://images.lpcdn.ca/924x615/201209/21/592329-lucien-bouchard.jpg'"
      ]
     },
     "execution_count": 29,
     "metadata": {},
     "output_type": "execute_result"
    }
   ],
   "source": [
    "article.meta_img"
   ]
  },
  {
   "cell_type": "code",
   "execution_count": 30,
   "metadata": {
    "collapsed": false,
    "slideshow": {
     "slide_type": "subslide"
    }
   },
   "outputs": [
    {
     "data": {
      "text/plain": [
       "defaultdict(dict,\n",
       "            {'apple-itunes-app': 'app-id=451829003, app-argument=cyberpresse://article/4608380',\n",
       "             'article': {'publisher': 'https://www.facebook.com/LaPresseFB'},\n",
       "             'description': \"2001 - Le premier ministre québécois Lucien Bouchard annonce qu'il renonce à la politique active.\",\n",
       "             'fb': {'admins': 100001148387127, 'app_id': 166995983353903},\n",
       "             'keywords': 'Gatineau, Ottawa',\n",
       "             'og': {'description': \"2001 - Le premier ministre québécois Lucien Bouchard annonce qu'il renonce à la politique active.\",\n",
       "              'image': 'http://images.lpcdn.ca/924x615/201209/21/592329-lucien-bouchard.jpg',\n",
       "              'locale': 'fr_CA',\n",
       "              'site_name': 'La Presse',\n",
       "              'title': \"C'est arrivé un 11 janvier | Éphémérides\",\n",
       "              'type': 'article',\n",
       "              'url': 'http://www.lapresse.ca/le-droit/ephemerides/201301/04/01-4608380-cest-arrive-un-11-janvier.php'},\n",
       "             'twitter': {'card': 'summary_large_image',\n",
       "              'description': \"2001 - Le premier ministre québécois Lucien Bouchard annonce qu'il renonce à la politique active.\",\n",
       "              'image': {'src': 'http://images.lpcdn.ca/924x615/201209/21/592329-lucien-bouchard.jpg'},\n",
       "              'site': '@LP_LaPresse',\n",
       "              'title': \"C'est arrivé un 11 janvier | Éphémérides\"},\n",
       "             'verify-v1': 'xehmvg8QtpAZLH2hipmw6o0J7SCD+4Z+S6+jk/Y9QuE='})"
      ]
     },
     "execution_count": 30,
     "metadata": {},
     "output_type": "execute_result"
    }
   ],
   "source": [
    "article.meta_data"
   ]
  },
  {
   "cell_type": "markdown",
   "metadata": {
    "slideshow": {
     "slide_type": "subslide"
    }
   },
   "source": [
    "<div style=\"text-align: justify\"> <span style=\"color: black; font-family: Babas Neue; font-size: 1em;\"> Notre dernière étape est de générer une boucle dans la liste de liens, consulter ceux-ci et vérifier si le contenu principal contient les mots IDLE NO MORE. Si tel est le cas, nous ajouterons les informations sur l'article dans une base de données. Dans l'autre cas, nous passerons au lien suivant. </span></div>"
   ]
  },
  {
   "cell_type": "code",
   "execution_count": 6,
   "metadata": {
    "collapsed": false
   },
   "outputs": [
    {
     "data": {
      "text/plain": [
       "{0: '00%',\n",
       " 29: '10%',\n",
       " 59: '20%',\n",
       " 88: '30%',\n",
       " 118: '40%',\n",
       " 148: '50%',\n",
       " 177: '60%',\n",
       " 207: '70%',\n",
       " 236: '80%',\n",
       " 266: '90%'}"
      ]
     },
     "execution_count": 6,
     "metadata": {},
     "output_type": "execute_result"
    }
   ],
   "source": [
    "percent_d = {}\n",
    "lenn = 296\n",
    "for x in range(10):\n",
    "    percent_d[int(lenn/10*x)] = '{}0%'.format(x)\n",
    "percent_d"
   ]
  },
  {
   "cell_type": "code",
   "execution_count": 35,
   "metadata": {
    "collapsed": false,
    "scrolled": true,
    "slideshow": {
     "slide_type": "subslide"
    }
   },
   "outputs": [
    {
     "name": "stdout",
     "output_type": "stream",
     "text": [
      "[----00%----]\n",
      "Found in Link 7\n",
      "Found in Link 26\n",
      "[----10%----]\n",
      "Found in Link 45\n",
      "[----20%----]\n",
      "[----30%----]\n",
      "[----40%----]\n",
      "[----50%----]\n",
      "Found in Link 168\n",
      "[----60%----]\n",
      "Found in Link 195\n",
      "[----70%----]\n",
      "Found in Link 210\n",
      "[----80%----]\n",
      "Found in Link 232\n",
      "[----90%----]\n",
      "[---COMPLETE---]\n"
     ]
    }
   ],
   "source": [
    "article_data_list = []\n",
    "percent_d = {}\n",
    "\n",
    "for x in range(10):\n",
    "        percent_d[\n",
    "            int(\n",
    "                len(\n",
    "                    php_list\n",
    "                )/10*x\n",
    "            )\n",
    "        ] = '{}0%'.format(x)\n",
    "\n",
    "for x in range(len(php_list)):\n",
    "    if x in list(percent_d.keys()):\n",
    "        print ('[----{}----]'.format(percent_d[x]))\n",
    "\n",
    "    article_url = newspaper.Article(php_list[x], language ='fr')\n",
    "    article_url.download()\n",
    "    str_html = article_url.html\n",
    "    article_url.parse()\n",
    "\n",
    "    keyws = article_url.meta_keywords\n",
    "    metadata = article_url.meta_data\n",
    "    title = article_url.title\n",
    "    metades = article_url.meta_description\n",
    "    authors = article_url.authors\n",
    "    \n",
    "    if len(authors) == 0 :\n",
    "        authors = None\n",
    "        \n",
    "    text = article_url.text\n",
    "    \n",
    "    if 'IDLE NO MORE' in str(text).upper():\n",
    "        print ('Found in Link {}'.format(x))\n",
    "        data_array = {\n",
    "            'date' : array_of_time[41], \n",
    "            'authors' : authors, \n",
    "            'title' : title, \n",
    "            'text' : text, \n",
    "            'meta_keywords' : keyws,\n",
    "            'meta_description' : metades, \n",
    "            'meta_data' :metadata, \n",
    "            'url' : php_list[x]\n",
    "        }\n",
    "        \n",
    "        article_data_list.append(\n",
    "            pd.DataFrame(\n",
    "                index=[\n",
    "                    'LP_{}{}{}-{}'.format(\n",
    "                    array_of_time[41].year,\n",
    "                    array_of_time[41].month,\n",
    "                    array_of_time[41].day,x)\n",
    "                      ],\n",
    "                columns = ['authors', 'date', 'meta_data', \n",
    "                           'meta_description', 'meta_keywords', \n",
    "                           'text', 'title', 'url'], \n",
    "                data = pd.Series(data_array).values.reshape(1,8)\n",
    "            )\n",
    "        )\n",
    "    else:\n",
    "        pass\n",
    "    \n",
    "print ('[---COMPLETE---]')"
   ]
  },
  {
   "cell_type": "code",
   "execution_count": 36,
   "metadata": {
    "collapsed": false,
    "scrolled": false,
    "slideshow": {
     "slide_type": "subslide"
    }
   },
   "outputs": [
    {
     "data": {
      "text/html": [
       "<div>\n",
       "<table border=\"1\" class=\"dataframe\">\n",
       "  <thead>\n",
       "    <tr style=\"text-align: right;\">\n",
       "      <th></th>\n",
       "      <th>authors</th>\n",
       "      <th>date</th>\n",
       "      <th>meta_data</th>\n",
       "      <th>meta_description</th>\n",
       "      <th>meta_keywords</th>\n",
       "      <th>text</th>\n",
       "      <th>title</th>\n",
       "      <th>url</th>\n",
       "    </tr>\n",
       "  </thead>\n",
       "  <tbody>\n",
       "    <tr>\n",
       "      <th>LP_2013111-7</th>\n",
       "      <td>None</td>\n",
       "      <td>2013-01-11 00:00:00</td>\n",
       "      <td>{'description': 'La campagne de protestations ...</td>\n",
       "      <td>La campagne de protestations Idle no more a un...</td>\n",
       "      <td>[François Cardinal]</td>\n",
       "      <td>La campagne de protestations Idle no more a un...</td>\n",
       "      <td>Les racines de la colère</td>\n",
       "      <td>http://www.lapresse.ca/debats/editoriaux/franc...</td>\n",
       "    </tr>\n",
       "    <tr>\n",
       "      <th>LP_2013111-26</th>\n",
       "      <td>None</td>\n",
       "      <td>2013-01-11 00:00:00</td>\n",
       "      <td>{'description': 'La Conférence régionale des é...</td>\n",
       "      <td>La Conférence régionale des élus (CRE) de la G...</td>\n",
       "      <td>[Québec - Le Soleil - Actualités - Internation...</td>\n",
       "      <td>(Pointe-à-la-Croix) La Conférence régionale de...</td>\n",
       "      <td>La CRE de la Gaspésie et des Îles appuie Idle ...</td>\n",
       "      <td>http://www.lapresse.ca/le-soleil/actualites/so...</td>\n",
       "    </tr>\n",
       "    <tr>\n",
       "      <th>LP_2013111-45</th>\n",
       "      <td>None</td>\n",
       "      <td>2013-01-11 00:00:00</td>\n",
       "      <td>{'description': 'On dira que Stephen Harper n'...</td>\n",
       "      <td>On dira que Stephen Harper n'avait pas vraimen...</td>\n",
       "      <td>[Chroniqueur, politique]</td>\n",
       "      <td>On dira que Stephen Harper n'avait pas vraimen...</td>\n",
       "      <td>Un autre rendez-vous de la dernière chance?</td>\n",
       "      <td>http://www.lapresse.ca/debats/chroniques/vince...</td>\n",
       "    </tr>\n",
       "    <tr>\n",
       "      <th>LP_2013111-168</th>\n",
       "      <td>None</td>\n",
       "      <td>2013-01-11 00:00:00</td>\n",
       "      <td>{'description': 'Puisqu'il craint une escalade...</td>\n",
       "      <td>Puisqu'il craint une escalade des tensions au ...</td>\n",
       "      <td>[Parti Conservateur, Parti Libéral, Bloc Québé...</td>\n",
       "      <td>(Ottawa) Puisqu'il craint une escalade des ten...</td>\n",
       "      <td>Les Premières nations deviennent une priorité</td>\n",
       "      <td>http://www.lapresse.ca/actualites/politique/po...</td>\n",
       "    </tr>\n",
       "    <tr>\n",
       "      <th>LP_2013111-195</th>\n",
       "      <td>None</td>\n",
       "      <td>2013-01-11 00:00:00</td>\n",
       "      <td>{'description': 'La réunion entre Stephen Harp...</td>\n",
       "      <td>La réunion entre Stephen Harper et des leaders...</td>\n",
       "      <td>[Québec - Le Soleil - Actualités - Internation...</td>\n",
       "      <td>La réunion entre Stephen Harper et des leaders...</td>\n",
       "      <td>La réunion entre Harper et les Autochtones se ...</td>\n",
       "      <td>http://www.lapresse.ca/le-soleil/actualites/po...</td>\n",
       "    </tr>\n",
       "    <tr>\n",
       "      <th>LP_2013111-210</th>\n",
       "      <td>None</td>\n",
       "      <td>2013-01-11 00:00:00</td>\n",
       "      <td>{'description': 'Quelques centaines d'Autochto...</td>\n",
       "      <td>Quelques centaines d'Autochtones et de sympath...</td>\n",
       "      <td>[La Presse]</td>\n",
       "      <td>Quelques centaines d'Autochtones et de sympath...</td>\n",
       "      <td>Manifestation au soutien des Autochtones à Mon...</td>\n",
       "      <td>http://www.lapresse.ca/actualites/montreal/201...</td>\n",
       "    </tr>\n",
       "    <tr>\n",
       "      <th>LP_2013111-232</th>\n",
       "      <td>None</td>\n",
       "      <td>2013-01-11 00:00:00</td>\n",
       "      <td>{'description': 'Une vingtaine de personnes on...</td>\n",
       "      <td>Une vingtaine de personnes ont bloqué vendredi...</td>\n",
       "      <td>[Actualités nationales]</td>\n",
       "      <td>Une vingtaine de personnes ont bloqué vendredi...</td>\n",
       "      <td>Des autochtones bloquent un chemin de fer en N...</td>\n",
       "      <td>http://www.lapresse.ca/actualites/national/201...</td>\n",
       "    </tr>\n",
       "  </tbody>\n",
       "</table>\n",
       "</div>"
      ],
      "text/plain": [
       "               authors                 date  \\\n",
       "LP_2013111-7      None  2013-01-11 00:00:00   \n",
       "LP_2013111-26     None  2013-01-11 00:00:00   \n",
       "LP_2013111-45     None  2013-01-11 00:00:00   \n",
       "LP_2013111-168    None  2013-01-11 00:00:00   \n",
       "LP_2013111-195    None  2013-01-11 00:00:00   \n",
       "LP_2013111-210    None  2013-01-11 00:00:00   \n",
       "LP_2013111-232    None  2013-01-11 00:00:00   \n",
       "\n",
       "                                                        meta_data  \\\n",
       "LP_2013111-7    {'description': 'La campagne de protestations ...   \n",
       "LP_2013111-26   {'description': 'La Conférence régionale des é...   \n",
       "LP_2013111-45   {'description': 'On dira que Stephen Harper n'...   \n",
       "LP_2013111-168  {'description': 'Puisqu'il craint une escalade...   \n",
       "LP_2013111-195  {'description': 'La réunion entre Stephen Harp...   \n",
       "LP_2013111-210  {'description': 'Quelques centaines d'Autochto...   \n",
       "LP_2013111-232  {'description': 'Une vingtaine de personnes on...   \n",
       "\n",
       "                                                 meta_description  \\\n",
       "LP_2013111-7    La campagne de protestations Idle no more a un...   \n",
       "LP_2013111-26   La Conférence régionale des élus (CRE) de la G...   \n",
       "LP_2013111-45   On dira que Stephen Harper n'avait pas vraimen...   \n",
       "LP_2013111-168  Puisqu'il craint une escalade des tensions au ...   \n",
       "LP_2013111-195  La réunion entre Stephen Harper et des leaders...   \n",
       "LP_2013111-210  Quelques centaines d'Autochtones et de sympath...   \n",
       "LP_2013111-232  Une vingtaine de personnes ont bloqué vendredi...   \n",
       "\n",
       "                                                    meta_keywords  \\\n",
       "LP_2013111-7                                  [François Cardinal]   \n",
       "LP_2013111-26   [Québec - Le Soleil - Actualités - Internation...   \n",
       "LP_2013111-45                            [Chroniqueur, politique]   \n",
       "LP_2013111-168  [Parti Conservateur, Parti Libéral, Bloc Québé...   \n",
       "LP_2013111-195  [Québec - Le Soleil - Actualités - Internation...   \n",
       "LP_2013111-210                                        [La Presse]   \n",
       "LP_2013111-232                            [Actualités nationales]   \n",
       "\n",
       "                                                             text  \\\n",
       "LP_2013111-7    La campagne de protestations Idle no more a un...   \n",
       "LP_2013111-26   (Pointe-à-la-Croix) La Conférence régionale de...   \n",
       "LP_2013111-45   On dira que Stephen Harper n'avait pas vraimen...   \n",
       "LP_2013111-168  (Ottawa) Puisqu'il craint une escalade des ten...   \n",
       "LP_2013111-195  La réunion entre Stephen Harper et des leaders...   \n",
       "LP_2013111-210  Quelques centaines d'Autochtones et de sympath...   \n",
       "LP_2013111-232  Une vingtaine de personnes ont bloqué vendredi...   \n",
       "\n",
       "                                                            title  \\\n",
       "LP_2013111-7                             Les racines de la colère   \n",
       "LP_2013111-26   La CRE de la Gaspésie et des Îles appuie Idle ...   \n",
       "LP_2013111-45         Un autre rendez-vous de la dernière chance?   \n",
       "LP_2013111-168      Les Premières nations deviennent une priorité   \n",
       "LP_2013111-195  La réunion entre Harper et les Autochtones se ...   \n",
       "LP_2013111-210  Manifestation au soutien des Autochtones à Mon...   \n",
       "LP_2013111-232  Des autochtones bloquent un chemin de fer en N...   \n",
       "\n",
       "                                                              url  \n",
       "LP_2013111-7    http://www.lapresse.ca/debats/editoriaux/franc...  \n",
       "LP_2013111-26   http://www.lapresse.ca/le-soleil/actualites/so...  \n",
       "LP_2013111-45   http://www.lapresse.ca/debats/chroniques/vince...  \n",
       "LP_2013111-168  http://www.lapresse.ca/actualites/politique/po...  \n",
       "LP_2013111-195  http://www.lapresse.ca/le-soleil/actualites/po...  \n",
       "LP_2013111-210  http://www.lapresse.ca/actualites/montreal/201...  \n",
       "LP_2013111-232  http://www.lapresse.ca/actualites/national/201...  "
      ]
     },
     "execution_count": 36,
     "metadata": {},
     "output_type": "execute_result"
    }
   ],
   "source": [
    "df = pd.concat(article_data_list,axis=0)\n",
    "df"
   ]
  },
  {
   "cell_type": "markdown",
   "metadata": {
    "collapsed": false,
    "scrolled": false,
    "slideshow": {
     "slide_type": "slide"
    }
   },
   "source": [
    "###### <span style=\"color: black; font-family: Babas Neue; font-size: 2em;\">6. Traitement et exportation</span>"
   ]
  },
  {
   "cell_type": "markdown",
   "metadata": {
    "collapsed": false,
    "scrolled": false,
    "slideshow": {
     "slide_type": "subslide"
    }
   },
   "source": [
    "<div style=\"text-align: justify\"> <span style=\"color: black; font-family: Babas Neue; font-size: 1em;\"> En guise de conclusion, nous allons effectuer quelques changements à notre base de données. Premièrement, le module newspaper - par sa faute ou par la différence de protocole chez La Presse -, n'a pas enregistré de données sur les auteurs. Néanmoins, nous pouvons retirer cette information des méta-données, que nous avons stocké. Nous allons remplir la colonne des auteurs en se fiant aux méta-données. Deuxièment, les dates contiennent des informations qui non seulement ne sont pas pertinentes pour nous, mais sont également erronées (ce n'est pas à 00:00h que l'article a été publié). Nous enlèverons les heures de notre liste. Enfin, nous allons enregistrer notre base de données, en format .csv que je privilégie, mais également en format .xls pour les utilisateurs d'Excel.</span></div>"
   ]
  },
  {
   "cell_type": "code",
   "execution_count": 39,
   "metadata": {
    "collapsed": false,
    "scrolled": false,
    "slideshow": {
     "slide_type": "subslide"
    }
   },
   "outputs": [],
   "source": [
    "l = []\n",
    "for x in range(len(df)):\n",
    "    l.append(\n",
    "        df['meta_data'][x]['og']['title'].split(' | ')[1].split(',')[0])\n",
    "    \n",
    "    df.ix[x,'date'] = str(df.ix[x,'date']).split()[0]\n",
    "    \n",
    "df['authors'] = l"
   ]
  },
  {
   "cell_type": "code",
   "execution_count": 40,
   "metadata": {
    "collapsed": false,
    "slideshow": {
     "slide_type": "subslide"
    }
   },
   "outputs": [
    {
     "data": {
      "text/html": [
       "<div>\n",
       "<table border=\"1\" class=\"dataframe\">\n",
       "  <thead>\n",
       "    <tr style=\"text-align: right;\">\n",
       "      <th></th>\n",
       "      <th>authors</th>\n",
       "      <th>date</th>\n",
       "      <th>meta_data</th>\n",
       "      <th>meta_description</th>\n",
       "      <th>meta_keywords</th>\n",
       "      <th>text</th>\n",
       "      <th>title</th>\n",
       "      <th>url</th>\n",
       "    </tr>\n",
       "  </thead>\n",
       "  <tbody>\n",
       "    <tr>\n",
       "      <th>LP_2013111-7</th>\n",
       "      <td>François Cardinal</td>\n",
       "      <td>2013-01-11</td>\n",
       "      <td>{'description': 'La campagne de protestations ...</td>\n",
       "      <td>La campagne de protestations Idle no more a un...</td>\n",
       "      <td>[François Cardinal]</td>\n",
       "      <td>La campagne de protestations Idle no more a un...</td>\n",
       "      <td>Les racines de la colère</td>\n",
       "      <td>http://www.lapresse.ca/debats/editoriaux/franc...</td>\n",
       "    </tr>\n",
       "    <tr>\n",
       "      <th>LP_2013111-26</th>\n",
       "      <td>Gilles Gagné</td>\n",
       "      <td>2013-01-11</td>\n",
       "      <td>{'description': 'La Conférence régionale des é...</td>\n",
       "      <td>La Conférence régionale des élus (CRE) de la G...</td>\n",
       "      <td>[Québec - Le Soleil - Actualités - Internation...</td>\n",
       "      <td>(Pointe-à-la-Croix) La Conférence régionale de...</td>\n",
       "      <td>La CRE de la Gaspésie et des Îles appuie Idle ...</td>\n",
       "      <td>http://www.lapresse.ca/le-soleil/actualites/so...</td>\n",
       "    </tr>\n",
       "    <tr>\n",
       "      <th>LP_2013111-45</th>\n",
       "      <td>Vincent Marissal</td>\n",
       "      <td>2013-01-11</td>\n",
       "      <td>{'description': 'On dira que Stephen Harper n'...</td>\n",
       "      <td>On dira que Stephen Harper n'avait pas vraimen...</td>\n",
       "      <td>[Chroniqueur, politique]</td>\n",
       "      <td>On dira que Stephen Harper n'avait pas vraimen...</td>\n",
       "      <td>Un autre rendez-vous de la dernière chance?</td>\n",
       "      <td>http://www.lapresse.ca/debats/chroniques/vince...</td>\n",
       "    </tr>\n",
       "    <tr>\n",
       "      <th>LP_2013111-168</th>\n",
       "      <td>Joël-Denis Bellavance</td>\n",
       "      <td>2013-01-11</td>\n",
       "      <td>{'description': 'Puisqu'il craint une escalade...</td>\n",
       "      <td>Puisqu'il craint une escalade des tensions au ...</td>\n",
       "      <td>[Parti Conservateur, Parti Libéral, Bloc Québé...</td>\n",
       "      <td>(Ottawa) Puisqu'il craint une escalade des ten...</td>\n",
       "      <td>Les Premières nations deviennent une priorité</td>\n",
       "      <td>http://www.lapresse.ca/actualites/politique/po...</td>\n",
       "    </tr>\n",
       "    <tr>\n",
       "      <th>LP_2013111-195</th>\n",
       "      <td>Lina Dib et Stéphanie Marin</td>\n",
       "      <td>2013-01-11</td>\n",
       "      <td>{'description': 'La réunion entre Stephen Harp...</td>\n",
       "      <td>La réunion entre Stephen Harper et des leaders...</td>\n",
       "      <td>[Québec - Le Soleil - Actualités - Internation...</td>\n",
       "      <td>La réunion entre Stephen Harper et des leaders...</td>\n",
       "      <td>La réunion entre Harper et les Autochtones se ...</td>\n",
       "      <td>http://www.lapresse.ca/le-soleil/actualites/po...</td>\n",
       "    </tr>\n",
       "    <tr>\n",
       "      <th>LP_2013111-210</th>\n",
       "      <td>Philippe Teisceira-Lessard</td>\n",
       "      <td>2013-01-11</td>\n",
       "      <td>{'description': 'Quelques centaines d'Autochto...</td>\n",
       "      <td>Quelques centaines d'Autochtones et de sympath...</td>\n",
       "      <td>[La Presse]</td>\n",
       "      <td>Quelques centaines d'Autochtones et de sympath...</td>\n",
       "      <td>Manifestation au soutien des Autochtones à Mon...</td>\n",
       "      <td>http://www.lapresse.ca/actualites/montreal/201...</td>\n",
       "    </tr>\n",
       "    <tr>\n",
       "      <th>LP_2013111-232</th>\n",
       "      <td>National</td>\n",
       "      <td>2013-01-11</td>\n",
       "      <td>{'description': 'Une vingtaine de personnes on...</td>\n",
       "      <td>Une vingtaine de personnes ont bloqué vendredi...</td>\n",
       "      <td>[Actualités nationales]</td>\n",
       "      <td>Une vingtaine de personnes ont bloqué vendredi...</td>\n",
       "      <td>Des autochtones bloquent un chemin de fer en N...</td>\n",
       "      <td>http://www.lapresse.ca/actualites/national/201...</td>\n",
       "    </tr>\n",
       "  </tbody>\n",
       "</table>\n",
       "</div>"
      ],
      "text/plain": [
       "                                    authors        date  \\\n",
       "LP_2013111-7              François Cardinal  2013-01-11   \n",
       "LP_2013111-26                  Gilles Gagné  2013-01-11   \n",
       "LP_2013111-45              Vincent Marissal  2013-01-11   \n",
       "LP_2013111-168        Joël-Denis Bellavance  2013-01-11   \n",
       "LP_2013111-195  Lina Dib et Stéphanie Marin  2013-01-11   \n",
       "LP_2013111-210   Philippe Teisceira-Lessard  2013-01-11   \n",
       "LP_2013111-232                     National  2013-01-11   \n",
       "\n",
       "                                                        meta_data  \\\n",
       "LP_2013111-7    {'description': 'La campagne de protestations ...   \n",
       "LP_2013111-26   {'description': 'La Conférence régionale des é...   \n",
       "LP_2013111-45   {'description': 'On dira que Stephen Harper n'...   \n",
       "LP_2013111-168  {'description': 'Puisqu'il craint une escalade...   \n",
       "LP_2013111-195  {'description': 'La réunion entre Stephen Harp...   \n",
       "LP_2013111-210  {'description': 'Quelques centaines d'Autochto...   \n",
       "LP_2013111-232  {'description': 'Une vingtaine de personnes on...   \n",
       "\n",
       "                                                 meta_description  \\\n",
       "LP_2013111-7    La campagne de protestations Idle no more a un...   \n",
       "LP_2013111-26   La Conférence régionale des élus (CRE) de la G...   \n",
       "LP_2013111-45   On dira que Stephen Harper n'avait pas vraimen...   \n",
       "LP_2013111-168  Puisqu'il craint une escalade des tensions au ...   \n",
       "LP_2013111-195  La réunion entre Stephen Harper et des leaders...   \n",
       "LP_2013111-210  Quelques centaines d'Autochtones et de sympath...   \n",
       "LP_2013111-232  Une vingtaine de personnes ont bloqué vendredi...   \n",
       "\n",
       "                                                    meta_keywords  \\\n",
       "LP_2013111-7                                  [François Cardinal]   \n",
       "LP_2013111-26   [Québec - Le Soleil - Actualités - Internation...   \n",
       "LP_2013111-45                            [Chroniqueur, politique]   \n",
       "LP_2013111-168  [Parti Conservateur, Parti Libéral, Bloc Québé...   \n",
       "LP_2013111-195  [Québec - Le Soleil - Actualités - Internation...   \n",
       "LP_2013111-210                                        [La Presse]   \n",
       "LP_2013111-232                            [Actualités nationales]   \n",
       "\n",
       "                                                             text  \\\n",
       "LP_2013111-7    La campagne de protestations Idle no more a un...   \n",
       "LP_2013111-26   (Pointe-à-la-Croix) La Conférence régionale de...   \n",
       "LP_2013111-45   On dira que Stephen Harper n'avait pas vraimen...   \n",
       "LP_2013111-168  (Ottawa) Puisqu'il craint une escalade des ten...   \n",
       "LP_2013111-195  La réunion entre Stephen Harper et des leaders...   \n",
       "LP_2013111-210  Quelques centaines d'Autochtones et de sympath...   \n",
       "LP_2013111-232  Une vingtaine de personnes ont bloqué vendredi...   \n",
       "\n",
       "                                                            title  \\\n",
       "LP_2013111-7                             Les racines de la colère   \n",
       "LP_2013111-26   La CRE de la Gaspésie et des Îles appuie Idle ...   \n",
       "LP_2013111-45         Un autre rendez-vous de la dernière chance?   \n",
       "LP_2013111-168      Les Premières nations deviennent une priorité   \n",
       "LP_2013111-195  La réunion entre Harper et les Autochtones se ...   \n",
       "LP_2013111-210  Manifestation au soutien des Autochtones à Mon...   \n",
       "LP_2013111-232  Des autochtones bloquent un chemin de fer en N...   \n",
       "\n",
       "                                                              url  \n",
       "LP_2013111-7    http://www.lapresse.ca/debats/editoriaux/franc...  \n",
       "LP_2013111-26   http://www.lapresse.ca/le-soleil/actualites/so...  \n",
       "LP_2013111-45   http://www.lapresse.ca/debats/chroniques/vince...  \n",
       "LP_2013111-168  http://www.lapresse.ca/actualites/politique/po...  \n",
       "LP_2013111-195  http://www.lapresse.ca/le-soleil/actualites/po...  \n",
       "LP_2013111-210  http://www.lapresse.ca/actualites/montreal/201...  \n",
       "LP_2013111-232  http://www.lapresse.ca/actualites/national/201...  "
      ]
     },
     "execution_count": 40,
     "metadata": {},
     "output_type": "execute_result"
    }
   ],
   "source": [
    "df"
   ]
  },
  {
   "cell_type": "code",
   "execution_count": 41,
   "metadata": {
    "collapsed": false,
    "slideshow": {
     "slide_type": "subslide"
    }
   },
   "outputs": [],
   "source": [
    "df.to_excel('lapresse_11janv.xls')\n",
    "df.to_csv('lapresse_11janv.csv')"
   ]
  },
  {
   "cell_type": "code",
   "execution_count": null,
   "metadata": {
    "collapsed": true
   },
   "outputs": [],
   "source": []
  },
  {
   "cell_type": "code",
   "execution_count": null,
   "metadata": {
    "collapsed": true
   },
   "outputs": [],
   "source": []
  }
 ],
 "metadata": {
  "kernelspec": {
   "display_name": "Python 3",
   "language": "python",
   "name": "python3"
  },
  "language_info": {
   "codemirror_mode": {
    "name": "ipython",
    "version": 3
   },
   "file_extension": ".py",
   "mimetype": "text/x-python",
   "name": "python",
   "nbconvert_exporter": "python",
   "pygments_lexer": "ipython3",
   "version": "3.6.0"
  }
 },
 "nbformat": 4,
 "nbformat_minor": 2
}
